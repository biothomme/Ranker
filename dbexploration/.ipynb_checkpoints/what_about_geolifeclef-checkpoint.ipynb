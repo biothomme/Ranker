{
 "cells": [
  {
   "cell_type": "code",
   "execution_count": 1,
   "id": "678c725b-ae15-443f-a430-e3125d72b573",
   "metadata": {},
   "outputs": [
    {
     "name": "stdout",
     "output_type": "stream",
     "text": [
      "3.9.5 (default, May 18 2021, 12:31:01) \n",
      "[Clang 10.0.0 ]\n"
     ]
    }
   ],
   "source": [
    "# Check if python is 3.9.5\n",
    "import sys\n",
    "print(sys.version)\n",
    "%load_ext autoreload\n",
    "%autoreload 2"
   ]
  },
  {
   "cell_type": "code",
   "execution_count": 2,
   "id": "b876ebfa-3091-4afb-b9bd-18979341d74b",
   "metadata": {},
   "outputs": [],
   "source": [
    "import geolifeclef"
   ]
  },
  {
   "cell_type": "markdown",
   "id": "4c8064dc-4dce-4e9a-aaea-266b7a650028",
   "metadata": {},
   "source": [
    "# GeoLifeClef Dataset"
   ]
  },
  {
   "cell_type": "markdown",
   "id": "eec5f822-873e-4b12-bc03-51c185fdb06d",
   "metadata": {},
   "source": [
    "The [GeoLifeClef](https://www.imageclef.org/GeoLifeCLEF2021) dataset contains a lot of data from [iNaturalist](https://www.inaturalist.org/) and [Pl@ntNet](https://identify.plantnet.org/) observations of USA and France. How does the dataset look like?"
   ]
  },
  {
   "cell_type": "markdown",
   "id": "27c6c69e-bae7-4ada-84d0-8a733c8ec3dd",
   "metadata": {},
   "source": [
    "The dataset includes a lot of different geographically rastered assignments (land-use, climate parameters, ...). Which of them could be interesting?\n",
    "\n",
    "The regions are France (without department Gironde)"
   ]
  },
  {
   "cell_type": "markdown",
   "id": "a095d0c3-75ee-4317-9ef1-07700b960f98",
   "metadata": {},
   "source": [
    "# Structure of dataset"
   ]
  },
  {
   "cell_type": "markdown",
   "id": "78301f64-55c9-4fea-b42f-c07f032a1046",
   "metadata": {},
   "source": [
    "What is the overall structure of the dataset? The [guidance paper](https://arxiv.org/abs/2004.04192) can be found in our [drive](https://drive.google.com/file/d/1SUYlboG5JobEAA80mdEIZFxq6bYkpFuE/view?usp=sharing). This is already the second time the authors push the challenge, as it was too difficult 2020. The data directory can be downloaded from Kaggle.\n",
    "\n",
    "It contains:"
   ]
  },
  {
   "cell_type": "code",
   "execution_count": 22,
   "id": "df2c7876-c4aa-4ccd-89e9-e6457054f030",
   "metadata": {},
   "outputs": [
    {
     "name": "stdout",
     "output_type": "stream",
     "text": [
      "- test_observation_ids_mapping.csv\n",
      "- data\n",
      "|- patches_sample\n",
      "|- pre-extracted\n",
      "|- observations\n",
      "|- metadata\n",
      "|- rasters\n",
      "- sample_submission.csv\n"
     ]
    }
   ],
   "source": [
    "geolifeclef.print_base_hierarchy()"
   ]
  },
  {
   "cell_type": "markdown",
   "id": "f2f5c449-e0a8-454d-a41e-00b2badb9ab3",
   "metadata": {},
   "source": [
    "The `.csv` files are thought as a sample submission. So basically of main interest are the 5 directories within the folder `data`.\n",
    "Greatest thing is, the authors already provide a deep exploration of the whole dataset, which is stored in [github](https://github.com/maximiliense/GLC.git). This [notebook](https://github.com/maximiliense/GLC/blob/20a401ca309fafa4fa34abe29401efa90a4dcb16/notebooks/Getting%20started%20-%20Data%20loading%20and%20visualization.ipynb) guides through all different data structures of the set. Thus, it is not really neccessary to get into much detail here, but lets briefly show some nice features we could get.df[df.name.str.contains(\"bio\")]"
   ]
  },
  {
   "cell_type": "code",
   "execution_count": 32,
   "id": "4023a454-33ee-4ae7-b70e-9594e1795aa1",
   "metadata": {
    "tags": []
   },
   "outputs": [],
   "source": [
    "df = geolifeclef.print_metadata()"
   ]
  },
  {
   "cell_type": "markdown",
   "id": "b93449e7-a2e3-4103-bb2b-9c6d51329066",
   "metadata": {},
   "source": [
    "## Climate data"
   ]
  },
  {
   "cell_type": "markdown",
   "id": "b3df555b-3925-435f-a055-518f3af6ffb4",
   "metadata": {},
   "source": [
    "The dataset includes raster information in ~1 km pixels of all [19 bioclimatic variables](https://www.worldclim.org/data/bioclim.html) from WorldClim 1.4."
   ]
  },
  {
   "cell_type": "code",
   "execution_count": 38,
   "id": "71062583-ab05-47d6-b73b-3ca9ef9bd3b8",
   "metadata": {},
   "outputs": [
    {
     "data": {
      "text/html": [
       "<div>\n",
       "<style scoped>\n",
       "    .dataframe tbody tr th:only-of-type {\n",
       "        vertical-align: middle;\n",
       "    }\n",
       "\n",
       "    .dataframe tbody tr th {\n",
       "        vertical-align: top;\n",
       "    }\n",
       "\n",
       "    .dataframe thead th {\n",
       "        text-align: right;\n",
       "    }\n",
       "</style>\n",
       "<table border=\"1\" class=\"dataframe\">\n",
       "  <thead>\n",
       "    <tr style=\"text-align: right;\">\n",
       "      <th></th>\n",
       "      <th>name</th>\n",
       "      <th>description</th>\n",
       "      <th>resolution</th>\n",
       "    </tr>\n",
       "  </thead>\n",
       "  <tbody>\n",
       "    <tr>\n",
       "      <th>0</th>\n",
       "      <td>bio_1</td>\n",
       "      <td>Annual Mean Temperature</td>\n",
       "      <td>30 arcsec</td>\n",
       "    </tr>\n",
       "    <tr>\n",
       "      <th>1</th>\n",
       "      <td>bio_2</td>\n",
       "      <td>Mean Diurnal Range (Mean of monthly (max temp ...</td>\n",
       "      <td>30 arcsec</td>\n",
       "    </tr>\n",
       "    <tr>\n",
       "      <th>2</th>\n",
       "      <td>bio_3</td>\n",
       "      <td>Isothermality (bio_2/bio_7) (* 100)</td>\n",
       "      <td>30 arcsec</td>\n",
       "    </tr>\n",
       "    <tr>\n",
       "      <th>3</th>\n",
       "      <td>bio_4</td>\n",
       "      <td>Temperature Seasonality (standard deviation * ...</td>\n",
       "      <td>30 arcsec</td>\n",
       "    </tr>\n",
       "    <tr>\n",
       "      <th>4</th>\n",
       "      <td>bio_5</td>\n",
       "      <td>Max Temperature of Warmest Month</td>\n",
       "      <td>30 arcsec</td>\n",
       "    </tr>\n",
       "    <tr>\n",
       "      <th>5</th>\n",
       "      <td>bio_6</td>\n",
       "      <td>Min Temperature of Coldest Month</td>\n",
       "      <td>30 arcsec</td>\n",
       "    </tr>\n",
       "    <tr>\n",
       "      <th>6</th>\n",
       "      <td>bio_7</td>\n",
       "      <td>Temperature Annual Range (bio_5-bio_6)</td>\n",
       "      <td>30 arcsec</td>\n",
       "    </tr>\n",
       "    <tr>\n",
       "      <th>7</th>\n",
       "      <td>bio_8</td>\n",
       "      <td>Mean Temperature of Wettest Quarter</td>\n",
       "      <td>30 arcsec</td>\n",
       "    </tr>\n",
       "    <tr>\n",
       "      <th>8</th>\n",
       "      <td>bio_9</td>\n",
       "      <td>Mean Temperature of Driest Quarter</td>\n",
       "      <td>30 arcsec</td>\n",
       "    </tr>\n",
       "    <tr>\n",
       "      <th>9</th>\n",
       "      <td>bio_10</td>\n",
       "      <td>Mean Temperature of Warmest Quarter</td>\n",
       "      <td>30 arcsec</td>\n",
       "    </tr>\n",
       "    <tr>\n",
       "      <th>10</th>\n",
       "      <td>bio_11</td>\n",
       "      <td>Mean Temperature of Coldest Quarter</td>\n",
       "      <td>30 arcsec</td>\n",
       "    </tr>\n",
       "    <tr>\n",
       "      <th>11</th>\n",
       "      <td>bio_12</td>\n",
       "      <td>Annual Precipitation</td>\n",
       "      <td>30 arcsec</td>\n",
       "    </tr>\n",
       "    <tr>\n",
       "      <th>12</th>\n",
       "      <td>bio_13</td>\n",
       "      <td>Precipitation of Wettest Month</td>\n",
       "      <td>30 arcsec</td>\n",
       "    </tr>\n",
       "    <tr>\n",
       "      <th>13</th>\n",
       "      <td>bio_14</td>\n",
       "      <td>Precipitation of Driest Month</td>\n",
       "      <td>30 arcsec</td>\n",
       "    </tr>\n",
       "    <tr>\n",
       "      <th>14</th>\n",
       "      <td>bio_15</td>\n",
       "      <td>Precipitation Seasonality (Coefficient of Vari...</td>\n",
       "      <td>30 arcsec</td>\n",
       "    </tr>\n",
       "    <tr>\n",
       "      <th>15</th>\n",
       "      <td>bio_16</td>\n",
       "      <td>Precipitation of Wettest Quarter</td>\n",
       "      <td>30 arcsec</td>\n",
       "    </tr>\n",
       "    <tr>\n",
       "      <th>16</th>\n",
       "      <td>bio_17</td>\n",
       "      <td>Precipitation of Driest Quarter</td>\n",
       "      <td>30 arcsec</td>\n",
       "    </tr>\n",
       "    <tr>\n",
       "      <th>17</th>\n",
       "      <td>bio_18</td>\n",
       "      <td>Precipitation of Warmest Quarter</td>\n",
       "      <td>30 arcsec</td>\n",
       "    </tr>\n",
       "    <tr>\n",
       "      <th>18</th>\n",
       "      <td>bio_19</td>\n",
       "      <td>Precipitation of Coldest Quarter</td>\n",
       "      <td>30 arcsec</td>\n",
       "    </tr>\n",
       "  </tbody>\n",
       "</table>\n",
       "</div>"
      ],
      "text/plain": [
       "      name                                        description resolution\n",
       "0    bio_1                            Annual Mean Temperature  30 arcsec\n",
       "1    bio_2  Mean Diurnal Range (Mean of monthly (max temp ...  30 arcsec\n",
       "2    bio_3                Isothermality (bio_2/bio_7) (* 100)  30 arcsec\n",
       "3    bio_4  Temperature Seasonality (standard deviation * ...  30 arcsec\n",
       "4    bio_5                   Max Temperature of Warmest Month  30 arcsec\n",
       "5    bio_6                   Min Temperature of Coldest Month  30 arcsec\n",
       "6    bio_7             Temperature Annual Range (bio_5-bio_6)  30 arcsec\n",
       "7    bio_8                Mean Temperature of Wettest Quarter  30 arcsec\n",
       "8    bio_9                 Mean Temperature of Driest Quarter  30 arcsec\n",
       "9   bio_10                Mean Temperature of Warmest Quarter  30 arcsec\n",
       "10  bio_11                Mean Temperature of Coldest Quarter  30 arcsec\n",
       "11  bio_12                               Annual Precipitation  30 arcsec\n",
       "12  bio_13                     Precipitation of Wettest Month  30 arcsec\n",
       "13  bio_14                      Precipitation of Driest Month  30 arcsec\n",
       "14  bio_15  Precipitation Seasonality (Coefficient of Vari...  30 arcsec\n",
       "15  bio_16                   Precipitation of Wettest Quarter  30 arcsec\n",
       "16  bio_17                    Precipitation of Driest Quarter  30 arcsec\n",
       "17  bio_18                   Precipitation of Warmest Quarter  30 arcsec\n",
       "18  bio_19                   Precipitation of Coldest Quarter  30 arcsec"
      ]
     },
     "execution_count": 38,
     "metadata": {},
     "output_type": "execute_result"
    }
   ],
   "source": [
    "df[df.name.str.contains(\"bio\")]"
   ]
  },
  {
   "cell_type": "markdown",
   "id": "0466ae12-53e1-46e0-b939-c1362100ac1c",
   "metadata": {},
   "source": [
    "## Pedological data a.k.a *rock facts*"
   ]
  },
  {
   "cell_type": "markdown",
   "id": "289fb8a1-7b9c-4ec5-9964-5d3a30c5b243",
   "metadata": {},
   "source": [
    "These variables are higher resolved (250 m) and come from the [SoilGrids250 database](https://soilgrids.org/). Still, the resolution could lead to difficulties when combined our soil microbiome data (~100 m resolution), as transitions in (soil) envrionments can be on a very small scale. But they are very good for our analysis, as soil organisms depend on soil properties."
   ]
  },
  {
   "cell_type": "code",
   "execution_count": 40,
   "id": "7c66d8ce-0da1-49eb-8526-b030a9a354af",
   "metadata": {},
   "outputs": [
    {
     "data": {
      "text/html": [
       "<div>\n",
       "<style scoped>\n",
       "    .dataframe tbody tr th:only-of-type {\n",
       "        vertical-align: middle;\n",
       "    }\n",
       "\n",
       "    .dataframe tbody tr th {\n",
       "        vertical-align: top;\n",
       "    }\n",
       "\n",
       "    .dataframe thead th {\n",
       "        text-align: right;\n",
       "    }\n",
       "</style>\n",
       "<table border=\"1\" class=\"dataframe\">\n",
       "  <thead>\n",
       "    <tr style=\"text-align: right;\">\n",
       "      <th></th>\n",
       "      <th>name</th>\n",
       "      <th>description</th>\n",
       "      <th>resolution</th>\n",
       "    </tr>\n",
       "  </thead>\n",
       "  <tbody>\n",
       "    <tr>\n",
       "      <th>19</th>\n",
       "      <td>orcdrc</td>\n",
       "      <td>Soil Organic Carbon Content (g/kg at 15cm depth)</td>\n",
       "      <td>250 m</td>\n",
       "    </tr>\n",
       "    <tr>\n",
       "      <th>20</th>\n",
       "      <td>phihox</td>\n",
       "      <td>Ph x 10 in H20 (at 15cm depth)</td>\n",
       "      <td>250 m</td>\n",
       "    </tr>\n",
       "    <tr>\n",
       "      <th>21</th>\n",
       "      <td>cecsol</td>\n",
       "      <td>Cation Exchange Capacity of Soil in cmolc/kg 1...</td>\n",
       "      <td>250 m</td>\n",
       "    </tr>\n",
       "    <tr>\n",
       "      <th>22</th>\n",
       "      <td>bdticm</td>\n",
       "      <td>Absolute Depth to Bedrock in cm</td>\n",
       "      <td>250 m</td>\n",
       "    </tr>\n",
       "    <tr>\n",
       "      <th>23</th>\n",
       "      <td>clyppt</td>\n",
       "      <td>Clay (0-2 micro meter) Mass Fraction at 15cm d...</td>\n",
       "      <td>250 m</td>\n",
       "    </tr>\n",
       "    <tr>\n",
       "      <th>24</th>\n",
       "      <td>sltppt</td>\n",
       "      <td>Silt Mass Fraction at 15cm depth</td>\n",
       "      <td>250 m</td>\n",
       "    </tr>\n",
       "    <tr>\n",
       "      <th>25</th>\n",
       "      <td>sndppt</td>\n",
       "      <td>Sand Mass Fraction at 15cm depth</td>\n",
       "      <td>250 m</td>\n",
       "    </tr>\n",
       "    <tr>\n",
       "      <th>26</th>\n",
       "      <td>bldfie</td>\n",
       "      <td>Bulk Density in kg/m3 at 15cm depth</td>\n",
       "      <td>250 m</td>\n",
       "    </tr>\n",
       "  </tbody>\n",
       "</table>\n",
       "</div>"
      ],
      "text/plain": [
       "      name                                        description resolution\n",
       "19  orcdrc   Soil Organic Carbon Content (g/kg at 15cm depth)      250 m\n",
       "20  phihox                     Ph x 10 in H20 (at 15cm depth)      250 m\n",
       "21  cecsol  Cation Exchange Capacity of Soil in cmolc/kg 1...      250 m\n",
       "22  bdticm                    Absolute Depth to Bedrock in cm      250 m\n",
       "23  clyppt  Clay (0-2 micro meter) Mass Fraction at 15cm d...      250 m\n",
       "24  sltppt                   Silt Mass Fraction at 15cm depth      250 m\n",
       "25  sndppt                   Sand Mass Fraction at 15cm depth      250 m\n",
       "26  bldfie                Bulk Density in kg/m3 at 15cm depth      250 m"
      ]
     },
     "execution_count": 40,
     "metadata": {},
     "output_type": "execute_result"
    }
   ],
   "source": [
    "df[~df.name.str.contains(\"bio\")]"
   ]
  },
  {
   "cell_type": "markdown",
   "id": "8b9839e2-6445-41a5-8669-2cc7b7a8bf7a",
   "metadata": {},
   "source": [
    "<div class=\"alert alert-block alert-danger\">\n",
    "<b>Attention!</b> <br> When comparing the soil pH according to SoilGrids with other references, e.g. local maps like the one from <a href=\"https://www.umweltbundesamt.at/fileadmin/site/themen/boden/boris/ph_wert_referenzwerteband.pdf\">Austria</a>, one can see deviations between both especially in the alpine regions. Alpine soils are usually very strong dependent on their base rock, and even shape the residing plant communities.\n",
    "</div>"
   ]
  },
  {
   "cell_type": "code",
   "execution_count": null,
   "id": "d705c9ad-d65d-426e-b1b9-d637b024ba0b",
   "metadata": {},
   "outputs": [],
   "source": []
  }
 ],
 "metadata": {
  "kernelspec": {
   "display_name": "Python 3",
   "language": "python",
   "name": "python3"
  },
  "language_info": {
   "codemirror_mode": {
    "name": "ipython",
    "version": 3
   },
   "file_extension": ".py",
   "mimetype": "text/x-python",
   "name": "python",
   "nbconvert_exporter": "python",
   "pygments_lexer": "ipython3",
   "version": "3.9.5"
  }
 },
 "nbformat": 4,
 "nbformat_minor": 5
}

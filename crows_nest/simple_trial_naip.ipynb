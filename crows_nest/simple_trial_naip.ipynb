{
 "cells": [
  {
   "cell_type": "code",
   "execution_count": 1,
   "id": "74499870-a6a7-44de-80eb-4c45006f6e89",
   "metadata": {},
   "outputs": [
    {
     "name": "stdout",
     "output_type": "stream",
     "text": [
      "3.9.5 (default, May 18 2021, 12:31:01) \n",
      "[Clang 10.0.0 ]\n"
     ]
    }
   ],
   "source": [
    "# Check if python is 3.9.5\n",
    "import sys\n",
    "print(sys.version)\n",
    "%load_ext autoreload\n",
    "%autoreload 2"
   ]
  },
  {
   "cell_type": "markdown",
   "id": "ab02f5d9-4fe8-4a24-ba08-d98c9d200cb4",
   "metadata": {},
   "source": [
    "# simplest usage"
   ]
  },
  {
   "cell_type": "markdown",
   "id": "8804c776-700f-43f6-a448-9fc93e45fae1",
   "metadata": {},
   "source": [
    "Here you have a simple workflow to use it."
   ]
  },
  {
   "cell_type": "markdown",
   "id": "773653fb-80f8-4ed1-a2b4-87b2c48e0bcc",
   "metadata": {},
   "source": [
    "First import some stuff:"
   ]
  },
  {
   "cell_type": "code",
   "execution_count": 3,
   "id": "2b67eea9-bf5a-4194-9b7a-ea4f9ae4594e",
   "metadata": {},
   "outputs": [],
   "source": [
    "import database_classes\n",
    "from new_naip import NAIPData\n",
    "from numpy.random import uniform\n",
    "import os\n",
    "\n",
    "from shapely.geometry import Point"
   ]
  },
  {
   "cell_type": "markdown",
   "id": "3440b94b-be6e-41a7-aa3d-98017237edd9",
   "metadata": {},
   "source": [
    "We need shapely points in USA, so we make some random ones."
   ]
  },
  {
   "cell_type": "code",
   "execution_count": 4,
   "id": "122e2f16-b396-44e9-97da-5752278313af",
   "metadata": {},
   "outputs": [],
   "source": [
    "lat = 44.967243\n",
    "lon = -103.771556\n",
    "\n",
    "# make 10 random points within a given range\n",
    "pont = Point(float(lon),float(lat))\n",
    "points = [Point(float(lon+uniform(-.3,.3)),float(lat+uniform(-.3,.3))) for i in range(3)]"
   ]
  },
  {
   "cell_type": "markdown",
   "id": "9fcf9cb2-d2e4-44de-b6b2-d5cd7dcf1851",
   "metadata": {},
   "source": [
    "We initiate our class with 500 m and a temporary directory (you can change it)."
   ]
  },
  {
   "cell_type": "code",
   "execution_count": null,
   "id": "737bd19e-ad77-4071-a2f7-f92a531cab23",
   "metadata": {},
   "outputs": [],
   "source": [
    "niper = NAIPData(\n",
    "    features=[\"rgb\", \"ir\"], \n",
    "    tile_size=500, \n",
    "    # directory=\"LOCALDIRECTORY\"\n",
    "    silent=False)  # tilesize in meter"
   ]
  },
  {
   "cell_type": "markdown",
   "id": "91d007e0-7879-4ac1-9872-fcdf1482ba1e",
   "metadata": {},
   "source": [
    "And then we run the data retrieval."
   ]
  },
  {
   "cell_type": "code",
   "execution_count": null,
   "id": "a8b7bd70-4a62-4dd4-b219-35d6a19f2e84",
   "metadata": {},
   "outputs": [],
   "source": [
    "niper.run(points)"
   ]
  }
 ],
 "metadata": {
  "kernelspec": {
   "display_name": "Python 3",
   "language": "python",
   "name": "python3"
  },
  "language_info": {
   "codemirror_mode": {
    "name": "ipython",
    "version": 3
   },
   "file_extension": ".py",
   "mimetype": "text/x-python",
   "name": "python",
   "nbconvert_exporter": "python",
   "pygments_lexer": "ipython3",
   "version": "3.9.5"
  }
 },
 "nbformat": 4,
 "nbformat_minor": 5
}

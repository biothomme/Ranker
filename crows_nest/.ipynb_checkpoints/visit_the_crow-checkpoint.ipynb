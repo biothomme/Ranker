{
 "cells": [
  {
   "cell_type": "code",
   "execution_count": 2,
   "id": "84561e06-ceda-454e-ba74-c4b50f97a70e",
   "metadata": {},
   "outputs": [
    {
     "name": "stdout",
     "output_type": "stream",
     "text": [
      "3.9.5 (default, May 18 2021, 12:31:01) \n",
      "[Clang 10.0.0 ]\n"
     ]
    }
   ],
   "source": [
    "# Check if python is 3.9.5\n",
    "import sys\n",
    "print(sys.version)\n",
    "%load_ext autoreload\n",
    "%autoreload 2"
   ]
  },
  {
   "cell_type": "code",
   "execution_count": 3,
   "id": "51db5cc8-f076-4e6e-9e73-4bae356fd30a",
   "metadata": {},
   "outputs": [],
   "source": [
    "from datetime import date\n",
    "import numpy as np"
   ]
  },
  {
   "cell_type": "markdown",
   "id": "42563af8-4ec6-49bf-b79b-adcb554270b5",
   "metadata": {},
   "source": [
    "## Code questions"
   ]
  },
  {
   "cell_type": "code",
   "execution_count": 4,
   "id": "3be58f6c-4a4f-455c-afd4-90f5c63a301f",
   "metadata": {},
   "outputs": [],
   "source": [
    "from utils import download_to_path"
   ]
  },
  {
   "cell_type": "code",
   "execution_count": 5,
   "id": "8fdb2ab5-80b3-47a2-a76d-184f222adf90",
   "metadata": {},
   "outputs": [],
   "source": [
    "from utils import write_csv_row"
   ]
  },
  {
   "cell_type": "markdown",
   "id": "971e3b45-3a51-43fa-a38d-93d764168dd8",
   "metadata": {},
   "source": [
    "None"
   ]
  },
  {
   "cell_type": "markdown",
   "id": "cd0d87ce-1f32-4d41-89ba-d5131a2c196c",
   "metadata": {},
   "source": [
    "# Data mining"
   ]
  },
  {
   "cell_type": "code",
   "execution_count": 19,
   "id": "2f74021f-5470-4076-a625-4c5cc4e86b7b",
   "metadata": {},
   "outputs": [],
   "source": [
    "import database_classes\n",
    "from naip_dbm import NAIPData\n",
    "from numpy.random import uniform\n",
    "import os"
   ]
  },
  {
   "cell_type": "code",
   "execution_count": 7,
   "id": "1beec69b-ab4b-42b7-955b-77a53ede0223",
   "metadata": {},
   "outputs": [],
   "source": [
    "from multidb_wrapper import GetMultiDBData"
   ]
  },
  {
   "cell_type": "code",
   "execution_count": 8,
   "id": "71a77faa-d1b1-4b03-8258-ee766065bbfd",
   "metadata": {},
   "outputs": [],
   "source": [
    "from shapely.geometry import Point"
   ]
  },
  {
   "cell_type": "code",
   "execution_count": 9,
   "id": "7186d0bf-3607-4e6f-817e-f772ab52b648",
   "metadata": {},
   "outputs": [],
   "source": [
    "lat = 44.967243\n",
    "lon = -103.771556\n",
    "\n",
    "# make 10 random points within a given range\n",
    "pont = Point(float(lon),float(lat))\n",
    "points = [Point(float(lon+uniform(-.3,.3)),float(lat+uniform(-.3,.3))) for i in range(3)]"
   ]
  },
  {
   "cell_type": "code",
   "execution_count": 10,
   "id": "2db02633-2be5-426b-8ed2-55483e344c2e",
   "metadata": {},
   "outputs": [],
   "source": [
    "# naip = NAIPData(directory=\"banasna\", features=[\"rgb\", \"ir\"])"
   ]
  },
  {
   "cell_type": "code",
   "execution_count": 11,
   "id": "18c7f385-f521-47ec-907b-2d62ee044cec",
   "metadata": {},
   "outputs": [],
   "source": [
    "# naip.run(points)"
   ]
  },
  {
   "cell_type": "code",
   "execution_count": 12,
   "id": "12477ffc-04b2-4d30-9379-2d1126dd738c",
   "metadata": {},
   "outputs": [],
   "source": [
    "# GetMultiDBData(NAIPData(features=[\"rgb\", \"ir\"]))"
   ]
  },
  {
   "cell_type": "code",
   "execution_count": 13,
   "id": "8ae1896f-accc-4b31-8a17-158ae37d0e7c",
   "metadata": {},
   "outputs": [],
   "source": [
    "gerri = GetMultiDBData(NAIPData(features=[\"rgb\", \"ir\"]), tile_size=500, silent=False)"
   ]
  },
  {
   "cell_type": "markdown",
   "id": "ec28e70f-9233-4d08-99c7-1934eae3fe1e",
   "metadata": {},
   "source": [
    "# Attention, currently, we are overwriting the files when we enter new locations!"
   ]
  },
  {
   "cell_type": "code",
   "execution_count": 87,
   "id": "291759c2-dafc-4f2d-a3d3-407e9cf1b052",
   "metadata": {},
   "outputs": [],
   "source": [
    "directories = {\n",
    "    1: \"/Users/Thomsn/Desktop/pres_cn/1_remotesource\",\n",
    "    2: \"/Users/Thomsn/Desktop/pres_cn/2_localsource_cpc\",\n",
    "    3: \"/Users/Thomsn/Desktop/pres_cn/3_localsource_extc\",\n",
    "    4: \"/Users/Thomsn/Desktop/pres_cn/4_localsource_ndc\"\n",
    "}"
   ]
  },
  {
   "cell_type": "markdown",
   "id": "e750ef23-977d-4cef-a14c-39fa593042fa",
   "metadata": {},
   "source": [
    "### 1) Use remote source - so build local cache in destination."
   ]
  },
  {
   "cell_type": "code",
   "execution_count": 92,
   "id": "a19331e7-0e6a-4f07-8e07-dac38077ae92",
   "metadata": {},
   "outputs": [],
   "source": [
    "points1 = [Point(x) for x in [\n",
    "    [-103.62190160586601, 44.99426765562158],\n",
    "    [-103.60116340019607, 44.876784335854914],\n",
    "    [-103.9043331960161, 44.99938464524512]\n",
    "]]"
   ]
  },
  {
   "cell_type": "code",
   "execution_count": 93,
   "id": "3fb4722f-4550-4919-9084-cf6bcd924cff",
   "metadata": {},
   "outputs": [],
   "source": [
    "gerri1 = GetMultiDBData(\n",
    "    NAIPData(features=[\"rgb\", \"ir\"]),\n",
    "    tile_size=500, \n",
    "    directory=directories[1],\n",
    "    silent=False)"
   ]
  },
  {
   "cell_type": "code",
   "execution_count": 95,
   "id": "2661cdc6-4bb4-4647-bf3d-d3adeb204e60",
   "metadata": {
    "tags": []
   },
   "outputs": [
    {
     "name": "stdout",
     "output_type": "stream",
     "text": [
      "As no dates were specified the most recent data will be fetched.\n",
      "logged in\n",
      "`/Users/Thomsn/Desktop/pres_cn/1_remotesource/data_barrel/naip_western_europe_azure/cache/v002/sd/2018/sd_060cm_2018/44103/m_4410303_ne_13_060_20180731_20181212.tif` already exists. It will not be overwritten.\n",
      "`/Users/Thomsn/Desktop/pres_cn/1_remotesource/data_barrel/naip_western_europe_azure/cache/v002/sd/2018/sd_060cm_2018/44103/m_4410304_nw_13_060_20180731_20181212.tif` already exists. It will not be overwritten.\n",
      "File saved: /Users/Thomsn/Desktop/pres_cn/1_remotesource/data_barrel/naip_western_europe_azure/rgb/2021_10_11_loc_01.tif...\n",
      "... complete tile was given\n",
      "File saved: /Users/Thomsn/Desktop/pres_cn/1_remotesource/data_barrel/naip_western_europe_azure/ir/2021_10_11_loc_01.tif...\n",
      "... complete tile was given\n",
      "`/Users/Thomsn/Desktop/pres_cn/1_remotesource/data_barrel/naip_western_europe_azure/cache/v002/sd/2018/sd_060cm_2018/44103/m_4410304_sw_13_060_20180731_20181212.tif` already exists. It will not be overwritten.\n",
      "Data from `https://naipblobs.blob.core.windows.net/naip/v002/sd/2018/sd_060cm_2018/44103/m_4410312_nw_13_060_20180731_20181212.tif` was retrieved to `/Users/Thomsn/Desktop/pres_cn/1_remotesource/data_barrel/naip_western_europe_azure/cache/v002/sd/2018/sd_060cm_2018/44103/m_4410312_nw_13_060_20180731_20181212.tif`.File saved: /Users/Thomsn/Desktop/pres_cn/1_remotesource/data_barrel/naip_western_europe_azure/rgb/2021_10_11_loc_02.tif...\n",
      "... complete tile was given\n",
      "File saved: /Users/Thomsn/Desktop/pres_cn/1_remotesource/data_barrel/naip_western_europe_azure/ir/2021_10_11_loc_02.tif...\n",
      "... complete tile was given\n",
      "Data from `https://naipblobs.blob.core.windows.net/naip/v002/sd/2018/sd_060cm_2018/44103/m_4410301_ne_13_060_20180731_20181212.tif` was retrieved to `/Users/Thomsn/Desktop/pres_cn/1_remotesource/data_barrel/naip_western_europe_azure/cache/v002/sd/2018/sd_060cm_2018/44103/m_4410301_ne_13_060_20180731_20181212.tif`.Data from `https://naipblobs.blob.core.windows.net/naip/v002/sd/2018/sd_060cm_2018/45103/m_4510357_se_13_060_20180811.tif` was retrieved to `/Users/Thomsn/Desktop/pres_cn/1_remotesource/data_barrel/naip_western_europe_azure/cache/v002/sd/2018/sd_060cm_2018/45103/m_4510357_se_13_060_20180811.tif`.File saved: /Users/Thomsn/Desktop/pres_cn/1_remotesource/data_barrel/naip_western_europe_azure/rgb/2021_10_11_loc_03.tif...\n",
      "... complete tile was given\n",
      "File saved: /Users/Thomsn/Desktop/pres_cn/1_remotesource/data_barrel/naip_western_europe_azure/ir/2021_10_11_loc_03.tif...\n",
      "... complete tile was given\n"
     ]
    }
   ],
   "source": [
    "gerri1.run(points1)"
   ]
  },
  {
   "cell_type": "markdown",
   "id": "31df4163-3b9a-4f28-b4f3-a5011f90cde5",
   "metadata": {
    "jupyter": {
     "source_hidden": true
    },
    "tags": []
   },
   "source": [
    "```\n",
    "As no dates were specified the most recent data will be fetched.\n",
    "logged in\n",
    "The directory for database NAIP western europe Azure will be initialized.\n",
    "Directory /Users/Thomsn/Desktop/pres_cn/1_remotesource/data_barrel/naip_western_europe_azure/cache/ was created.\n",
    "Directory /Users/Thomsn/Desktop/pres_cn/1_remotesource/data_barrel/naip_western_europe_azure/rgb was created.\n",
    "Directory /Users/Thomsn/Desktop/pres_cn/1_remotesource/data_barrel/naip_western_europe_azure/ir was created.\n",
    "Directory /Users/Thomsn/Desktop/pres_cn/1_remotesource/data_barrel/naip_western_europe_azure/index_files was created.\n",
    "A size of 500 meters was chosen for each tile dimension. For different resolutions and years, this corresponds to the following sizes in pixels:\n",
    "    - 2019 (60 cm): 826 px\n",
    "    - 2014 (100 cm): 492 px\n",
    "    - 2010 (100 cm): 492 px\n",
    "    - 2018 (60 cm): 818 px\n",
    "    - 2017 (100 cm): 496 px\n",
    "    - 2015 (100 cm): 496 px\n",
    "    - 2016 (100 cm): 488 px\n",
    "    - 2012 (100 cm): 492 px\n",
    "    - 2015 (50 cm): 978 px\n",
    "    - 2017 (60 cm): 826 px\n",
    "    - 2011 (100 cm): 494 px\n",
    "    - 2013 (50 cm): 990 px\n",
    "    - 2013 (100 cm): 496 px\n",
    "    - 2016 (60 cm): 818 px\n",
    "Data from `https://naipblobs.blob.core.windows.net/naip/v002/sd/2018/sd_060cm_2018/44103/m_4410301_ne_13_060_20180731_20181212.tif` was retrieved to `/Users/Thomsn/Desktop/pres_cn/1_remotesource/data_barrel/naip_western_europe_azure/cache/v002/sd/2018/sd_060cm_2018/44103/m_4410301_ne_13_060_20180731_20181212.tif`.File saved: /Users/Thomsn/Desktop/pres_cn/1_remotesource/data_barrel/naip_western_europe_azure/rgb/2021_10_11_loc_01.tif...\n",
    "... complete tile was given\n",
    "File saved: /Users/Thomsn/Desktop/pres_cn/1_remotesource/data_barrel/naip_western_europe_azure/ir/2021_10_11_loc_01.tif...\n",
    "... complete tile was given\n",
    "Data from `https://naipblobs.blob.core.windows.net/naip/v002/sd/2018/sd_060cm_2018/45103/m_4510359_ne_13_060_20180811.tif` was retrieved to `/Users/Thomsn/Desktop/pres_cn/1_remotesource/data_barrel/naip_western_europe_azure/cache/v002/sd/2018/sd_060cm_2018/45103/m_4510359_ne_13_060_20180811.tif`.File saved: /Users/Thomsn/Desktop/pres_cn/1_remotesource/data_barrel/naip_western_europe_azure/rgb/2021_10_11_loc_02.tif...\n",
    "... complete tile was given\n",
    "File saved: /Users/Thomsn/Desktop/pres_cn/1_remotesource/data_barrel/naip_western_europe_azure/ir/2021_10_11_loc_02.tif...\n",
    "... complete tile was given\n",
    "Data from `https://naipblobs.blob.core.windows.net/naip/v002/sd/2018/sd_060cm_2018/45103/m_4510360_sw_13_060_20180731.tif` was retrieved to `/Users/Thomsn/Desktop/pres_cn/1_remotesource/data_barrel/naip_western_europe_azure/cache/v002/sd/2018/sd_060cm_2018/45103/m_4510360_sw_13_060_20180731.tif`.File saved: /Users/Thomsn/Desktop/pres_cn/1_remotesource/data_barrel/naip_western_europe_azure/rgb/2021_10_11_loc_03.tif...\n",
    "... complete tile was given\n",
    "File saved: /Users/Thomsn/Desktop/pres_cn/1_remotesource/data_barrel/naip_western_europe_azure/ir/2021_10_11_loc_03.tif...\n",
    "... complete tile was given\n",
    "```"
   ]
  },
  {
   "cell_type": "markdown",
   "id": "2bc2b8e3-c004-4470-8107-f1636f3b1c5e",
   "metadata": {
    "jupyter": {
     "outputs_hidden": true
    },
    "tags": []
   },
   "source": [
    "### 2) Use local source - copy to local cache in destination."
   ]
  },
  {
   "cell_type": "code",
   "execution_count": 68,
   "id": "b277626d-36a2-45e4-81f2-a5b57053d513",
   "metadata": {},
   "outputs": [],
   "source": [
    "local_naip_source1 = os.path.join(directories[1], \"data_barrel\", \"naip_western_europe_azure\")\n",
    "points2 = points1 + [Point([-103.94185100966898,45.20305580888574])]"
   ]
  },
  {
   "cell_type": "code",
   "execution_count": 77,
   "id": "63bc5ee5-61da-447d-9ec2-28047f68a4fa",
   "metadata": {},
   "outputs": [
    {
     "name": "stdout",
     "output_type": "stream",
     "text": [
      "Provided local data source has all neccessary index files `tile_index.dat`, `tile_index.idx`, `tiles.p`. Thus, the data source was successfully set to the local path `/Users/Thomsn/Desktop/pres_cn/1_remotesource/data_barrel/naip_western_europe_azure`.\n",
      "Provided local data source has all neccessary index files `tile_index.dat`, `tile_index.idx`, `tiles.p`. Thus, the data source was successfully set to the local path `/Users/Thomsn/Desktop/pres_cn/1_remotesource/data_barrel/naip_western_europe_azure`.\n"
     ]
    }
   ],
   "source": [
    "gerri2 = GetMultiDBData(\n",
    "    NAIPData(features=[\"rgb\", \"ir\"], source_path=local_naip_source1), \n",
    "    tile_size=500,\n",
    "    directory=directories[2],\n",
    "    silent=False)"
   ]
  },
  {
   "cell_type": "code",
   "execution_count": 81,
   "id": "ac035de4-d778-4519-bf39-0291c8ca3971",
   "metadata": {},
   "outputs": [
    {
     "name": "stdout",
     "output_type": "stream",
     "text": [
      "As no dates were specified the most recent data will be fetched.\n",
      "logged in\n",
      "/Users/Thomsn/Desktop/pres_cn/1_remotesource/data_barrel/naip_western_europe_azure/cache/v002/sd/2018/sd_060cm_2018/44103/m_4410301_ne_13_060_20180731_20181212.tif\n",
      "`/Users/Thomsn/Desktop/pres_cn/2_localsource_cpc/data_barrel/naip_western_europe_azure/cache/v002/sd/2018/sd_060cm_2018/44103/m_4410301_ne_13_060_20180731_20181212.tif` already exists. It will not be overwritten.\n"
     ]
    },
    {
     "ename": "TypeError",
     "evalue": "'NoneType' object is not subscriptable",
     "output_type": "error",
     "traceback": [
      "\u001b[0;31m---------------------------------------------------------------------------\u001b[0m",
      "\u001b[0;31mTypeError\u001b[0m                                 Traceback (most recent call last)",
      "\u001b[0;32m<ipython-input-81-940cd748bcdf>\u001b[0m in \u001b[0;36m<module>\u001b[0;34m\u001b[0m\n\u001b[0;32m----> 1\u001b[0;31m \u001b[0mgerri2\u001b[0m\u001b[0;34m.\u001b[0m\u001b[0mrun\u001b[0m\u001b[0;34m(\u001b[0m\u001b[0mpoints2\u001b[0m\u001b[0;34m)\u001b[0m\u001b[0;34m\u001b[0m\u001b[0;34m\u001b[0m\u001b[0m\n\u001b[0m",
      "\u001b[0;32m~/Desktop/island_in_the_sun/jupyters/2021_06_ranker/Ranker/crows_nest/multidb_wrapper.py\u001b[0m in \u001b[0;36mrun\u001b[0;34m(self, locations, dates)\u001b[0m\n\u001b[1;32m     73\u001b[0m         \u001b[0mdates\u001b[0m \u001b[0;34m=\u001b[0m \u001b[0mcheck_locations_and_dates\u001b[0m\u001b[0;34m(\u001b[0m\u001b[0mlocations\u001b[0m\u001b[0;34m,\u001b[0m \u001b[0mdates\u001b[0m\u001b[0;34m)\u001b[0m\u001b[0;34m\u001b[0m\u001b[0;34m\u001b[0m\u001b[0m\n\u001b[1;32m     74\u001b[0m         \u001b[0;32mfor\u001b[0m \u001b[0mdataminer\u001b[0m \u001b[0;32min\u001b[0m \u001b[0mself\u001b[0m\u001b[0;34m.\u001b[0m\u001b[0mdataminers\u001b[0m\u001b[0;34m:\u001b[0m\u001b[0;34m\u001b[0m\u001b[0;34m\u001b[0m\u001b[0m\n\u001b[0;32m---> 75\u001b[0;31m             \u001b[0mdataminer\u001b[0m\u001b[0;34m.\u001b[0m\u001b[0mrun\u001b[0m\u001b[0;34m(\u001b[0m\u001b[0mlocations\u001b[0m\u001b[0;34m,\u001b[0m \u001b[0mdates\u001b[0m\u001b[0;34m=\u001b[0m\u001b[0mdates\u001b[0m\u001b[0;34m)\u001b[0m  \u001b[0;31m# run the mining on each database.\u001b[0m\u001b[0;34m\u001b[0m\u001b[0;34m\u001b[0m\u001b[0m\n\u001b[0m\u001b[1;32m     76\u001b[0m         \u001b[0;32mreturn\u001b[0m\u001b[0;34m\u001b[0m\u001b[0;34m\u001b[0m\u001b[0m\n\u001b[1;32m     77\u001b[0m \u001b[0;34m\u001b[0m\u001b[0m\n",
      "\u001b[0;32m~/Desktop/island_in_the_sun/jupyters/2021_06_ranker/Ranker/crows_nest/database_classes.py\u001b[0m in \u001b[0;36mrun\u001b[0;34m(self, locations, dates)\u001b[0m\n\u001b[1;32m     58\u001b[0m             \u001b[0mfile_name\u001b[0m \u001b[0;34m=\u001b[0m \u001b[0mself\u001b[0m\u001b[0;34m.\u001b[0m\u001b[0mmake_file_name\u001b[0m\u001b[0;34m(\u001b[0m\u001b[0midx\u001b[0m\u001b[0;34m,\u001b[0m \u001b[0mself\u001b[0m\u001b[0;34m.\u001b[0m\u001b[0msize\u001b[0m\u001b[0;34m)\u001b[0m\u001b[0;34m\u001b[0m\u001b[0;34m\u001b[0m\u001b[0m\n\u001b[1;32m     59\u001b[0m             \u001b[0mqueries\u001b[0m \u001b[0;34m=\u001b[0m \u001b[0mself\u001b[0m\u001b[0;34m.\u001b[0m\u001b[0mbuild_query\u001b[0m\u001b[0;34m(\u001b[0m\u001b[0mlocation\u001b[0m\u001b[0;34m,\u001b[0m \u001b[0mdt\u001b[0m\u001b[0;34m)\u001b[0m\u001b[0;34m\u001b[0m\u001b[0;34m\u001b[0m\u001b[0m\n\u001b[0;32m---> 60\u001b[0;31m             \u001b[0mdata_files\u001b[0m \u001b[0;34m=\u001b[0m \u001b[0mself\u001b[0m\u001b[0;34m.\u001b[0m\u001b[0mget_data\u001b[0m\u001b[0;34m(\u001b[0m\u001b[0mqueries\u001b[0m\u001b[0;34m,\u001b[0m \u001b[0mfile_name\u001b[0m\u001b[0;34m,\u001b[0m \u001b[0mlocation\u001b[0m\u001b[0;34m,\u001b[0m \u001b[0mdt\u001b[0m\u001b[0;34m)\u001b[0m\u001b[0;34m\u001b[0m\u001b[0;34m\u001b[0m\u001b[0m\n\u001b[0m\u001b[1;32m     61\u001b[0m \u001b[0;34m\u001b[0m\u001b[0m\n\u001b[1;32m     62\u001b[0m         \u001b[0;32mreturn\u001b[0m\u001b[0;34m\u001b[0m\u001b[0;34m\u001b[0m\u001b[0m\n",
      "\u001b[0;32m~/Desktop/island_in_the_sun/jupyters/2021_06_ranker/Ranker/crows_nest/naip_dbm.py\u001b[0m in \u001b[0;36mget_data\u001b[0;34m(self, queries, file_name, location, date_given)\u001b[0m\n\u001b[1;32m    130\u001b[0m                         f\" `{query}` at location `{coordinatify_point(location)}`. No permission.\")\n\u001b[1;32m    131\u001b[0m             \u001b[0;32melse\u001b[0m\u001b[0;34m:\u001b[0m\u001b[0;34m\u001b[0m\u001b[0;34m\u001b[0m\u001b[0m\n\u001b[0;32m--> 132\u001b[0;31m                 csv_row_dict = self.make_csv_row(NaipMetCacheAssembler, query_url=query,\n\u001b[0m\u001b[1;32m    133\u001b[0m                                                  file_name=dest_file_path, meta_information_dict=request_metainf)\n\u001b[1;32m    134\u001b[0m                 \u001b[0mwrite_csv_row\u001b[0m\u001b[0;34m(\u001b[0m\u001b[0mself\u001b[0m\u001b[0;34m.\u001b[0m\u001b[0mcsv_index_files\u001b[0m\u001b[0;34m[\u001b[0m\u001b[0;34m\"cache\"\u001b[0m\u001b[0;34m]\u001b[0m\u001b[0;34m,\u001b[0m \u001b[0mcsv_row_dict\u001b[0m\u001b[0;34m)\u001b[0m\u001b[0;34m\u001b[0m\u001b[0;34m\u001b[0m\u001b[0m\n",
      "\u001b[0;32m~/Desktop/island_in_the_sun/jupyters/2021_06_ranker/Ranker/crows_nest/database_classes.py\u001b[0m in \u001b[0;36mmake_csv_row\u001b[0;34m(self, metainf_assembler, copied_row_as_list, **kwargs)\u001b[0m\n\u001b[1;32m    216\u001b[0m             \u001b[0mcsv_row\u001b[0m \u001b[0;34m=\u001b[0m \u001b[0mcopied_row_as_list\u001b[0m\u001b[0;34m\u001b[0m\u001b[0;34m\u001b[0m\u001b[0m\n\u001b[1;32m    217\u001b[0m         \u001b[0;32melif\u001b[0m \u001b[0mlen\u001b[0m\u001b[0;34m(\u001b[0m\u001b[0mkwargs\u001b[0m\u001b[0;34m)\u001b[0m \u001b[0;34m>\u001b[0m \u001b[0;36m0\u001b[0m\u001b[0;34m:\u001b[0m\u001b[0;34m\u001b[0m\u001b[0;34m\u001b[0m\u001b[0m\n\u001b[0;32m--> 218\u001b[0;31m             \u001b[0mcsv_row\u001b[0m \u001b[0;34m=\u001b[0m \u001b[0mmetainf_assembler\u001b[0m\u001b[0;34m.\u001b[0m\u001b[0mbuild_row\u001b[0m\u001b[0;34m(\u001b[0m\u001b[0;34m**\u001b[0m\u001b[0mkwargs\u001b[0m\u001b[0;34m)\u001b[0m\u001b[0;34m\u001b[0m\u001b[0;34m\u001b[0m\u001b[0m\n\u001b[0m\u001b[1;32m    219\u001b[0m         \u001b[0;32melse\u001b[0m\u001b[0;34m:\u001b[0m\u001b[0;34m\u001b[0m\u001b[0;34m\u001b[0m\u001b[0m\n\u001b[1;32m    220\u001b[0m             \u001b[0mcsv_row\u001b[0m \u001b[0;34m=\u001b[0m \u001b[0;34m[\u001b[0m\u001b[0;32mNone\u001b[0m\u001b[0;34m]\u001b[0m \u001b[0;34m*\u001b[0m \u001b[0mlen\u001b[0m\u001b[0;34m(\u001b[0m\u001b[0mmetainf_assembler\u001b[0m\u001b[0;34m.\u001b[0m\u001b[0mHEADER\u001b[0m\u001b[0;34m)\u001b[0m\u001b[0;34m\u001b[0m\u001b[0;34m\u001b[0m\u001b[0m\n",
      "\u001b[0;32m~/Desktop/island_in_the_sun/jupyters/2021_06_ranker/Ranker/crows_nest/naip_dbm.py\u001b[0m in \u001b[0;36mbuild_row\u001b[0;34m(query_url, file_name, meta_information_dict)\u001b[0m\n\u001b[1;32m    486\u001b[0m                 \u001b[0mfile_name\u001b[0m\u001b[0;34m,\u001b[0m  \u001b[0;31m# local_path\u001b[0m\u001b[0;34m\u001b[0m\u001b[0;34m\u001b[0m\u001b[0m\n\u001b[1;32m    487\u001b[0m                 str(parser.parse(\n\u001b[0;32m--> 488\u001b[0;31m                     meta_information_dict[\"Last-Modified\"])),  # timestamp_server\n\u001b[0m\u001b[1;32m    489\u001b[0m                 str(parser.parse(\n\u001b[1;32m    490\u001b[0m                     meta_information_dict[\"Date\"])),  # timestamp_fetched\n",
      "\u001b[0;31mTypeError\u001b[0m: 'NoneType' object is not subscriptable"
     ]
    }
   ],
   "source": [
    "gerri2.run(points2)"
   ]
  },
  {
   "cell_type": "markdown",
   "id": "5a51b8cf-4423-439a-a1fa-507e0a33a46d",
   "metadata": {},
   "source": [
    "### 3) Use local source - do not copy cache, only load new files to destination (i.e. the destinations cache directory)"
   ]
  },
  {
   "cell_type": "code",
   "execution_count": 51,
   "id": "e4828b8a-4031-42b0-bc36-409d3ca47da4",
   "metadata": {},
   "outputs": [],
   "source": [
    "local_naip_source2 = os.path.join(directories[2], \"data_barrel\", \"naip_western_europe_azure\")\n",
    "points3 = points2 + [Point([-103.48738863896111,45.07193210523143])]"
   ]
  },
  {
   "cell_type": "code",
   "execution_count": 52,
   "id": "e8fc177a-86c6-4b6f-a2bb-e414086a1e65",
   "metadata": {},
   "outputs": [
    {
     "name": "stdout",
     "output_type": "stream",
     "text": [
      "Provided local data source has all neccessary index files `tile_index.dat`, `tile_index.idx`, `tiles.p`. Thus, the data source was successfully set to the local path `/Users/Thomsn/Desktop/pres_cn/2_localsource_cpc/data_barrel/naip_western_europe_azure`.\n",
      "Provided local data source has all neccessary index files `tile_index.dat`, `tile_index.idx`, `tiles.p`. Thus, the data source was successfully set to the local path `/Users/Thomsn/Desktop/pres_cn/2_localsource_cpc/data_barrel/naip_western_europe_azure`.\n"
     ]
    }
   ],
   "source": [
    "gerri3 = GetMultiDBData(\n",
    "    NAIPData(features=[\"rgb\", \"ir\"], source_path=local_naip_source2, copy_local=False), \n",
    "    tile_size=500, \n",
    "    directory=directories[3],\n",
    "    silent=False)"
   ]
  },
  {
   "cell_type": "code",
   "execution_count": 54,
   "id": "6f7c35c8-98ed-4e9f-b124-04d50ed0d028",
   "metadata": {
    "collapsed": true,
    "jupyter": {
     "outputs_hidden": true
    },
    "tags": []
   },
   "outputs": [
    {
     "name": "stdout",
     "output_type": "stream",
     "text": [
      "As no dates were specified the most recent data will be fetched.\n",
      "logged in\n",
      "/Users/Thomsn/Desktop/pres_cn/2_localsource_cpc/data_barrel/naip_western_europe_azure/cache/v002/sd/2018/sd_060cm_2018/44103/m_4410301_ne_13_060_20180731_20181212.tif\n",
      "`/Users/Thomsn/Desktop/pres_cn/3_localsource_extc/data_barrel/naip_western_europe_azure/cache/v002/sd/2018/sd_060cm_2018/44103/m_4410301_ne_13_060_20180731_20181212.tif` already exists. It will not be overwritten.\n",
      "File saved: /Users/Thomsn/Desktop/pres_cn/3_localsource_extc/data_barrel/naip_western_europe_azure/rgb/2021_10_11_loc_01.tif...\n",
      "... complete tile was given\n",
      "File saved: /Users/Thomsn/Desktop/pres_cn/3_localsource_extc/data_barrel/naip_western_europe_azure/ir/2021_10_11_loc_01.tif...\n",
      "... complete tile was given\n",
      "/Users/Thomsn/Desktop/pres_cn/2_localsource_cpc/data_barrel/naip_western_europe_azure/cache/v002/sd/2018/sd_060cm_2018/45103/m_4510359_ne_13_060_20180811.tif\n",
      "`/Users/Thomsn/Desktop/pres_cn/3_localsource_extc/data_barrel/naip_western_europe_azure/cache/v002/sd/2018/sd_060cm_2018/45103/m_4510359_ne_13_060_20180811.tif` already exists. It will not be overwritten.\n",
      "File saved: /Users/Thomsn/Desktop/pres_cn/3_localsource_extc/data_barrel/naip_western_europe_azure/rgb/2021_10_11_loc_02.tif...\n",
      "... complete tile was given\n",
      "File saved: /Users/Thomsn/Desktop/pres_cn/3_localsource_extc/data_barrel/naip_western_europe_azure/ir/2021_10_11_loc_02.tif...\n",
      "... complete tile was given\n",
      "/Users/Thomsn/Desktop/pres_cn/2_localsource_cpc/data_barrel/naip_western_europe_azure/cache/v002/sd/2018/sd_060cm_2018/45103/m_4510360_sw_13_060_20180731.tif\n",
      "`/Users/Thomsn/Desktop/pres_cn/3_localsource_extc/data_barrel/naip_western_europe_azure/cache/v002/sd/2018/sd_060cm_2018/45103/m_4510360_sw_13_060_20180731.tif` already exists. It will not be overwritten.\n",
      "File saved: /Users/Thomsn/Desktop/pres_cn/3_localsource_extc/data_barrel/naip_western_europe_azure/rgb/2021_10_11_loc_03.tif...\n",
      "... complete tile was given\n",
      "File saved: /Users/Thomsn/Desktop/pres_cn/3_localsource_extc/data_barrel/naip_western_europe_azure/ir/2021_10_11_loc_03.tif...\n",
      "... complete tile was given\n",
      "/Users/Thomsn/Desktop/pres_cn/2_localsource_cpc/data_barrel/naip_western_europe_azure/cache/v002/sd/2018/sd_060cm_2018/45103/m_4510349_nw_13_060_20180810.tif\n",
      "Local data from `/Users/Thomsn/Desktop/pres_cn/2_localsource_cpc/data_barrel/naip_western_europe_azure/cache/v002/sd/2018/sd_060cm_2018/45103/m_4510349_nw_13_060_20180810.tif` was loaded into `/Users/Thomsn/Desktop/pres_cn/3_localsource_extc/data_barrel/naip_western_europe_azure/cache/v002/sd/2018/sd_060cm_2018/45103/m_4510349_nw_13_060_20180810.tif`./Users/Thomsn/Desktop/pres_cn/2_localsource_cpc/data_barrel/naip_western_europe_azure/cache/index_naip_western_europe_azure_.csv /Users/Thomsn/Desktop/pres_cn/2_localsource_cpc/data_barrel/naip_western_europe_azure/cache/v002/sd/2018/sd_060cm_2018/45103/m_4510349_nw_13_060_20180810.tif\n"
     ]
    },
    {
     "ename": "AssertionError",
     "evalue": "There was no corresponding row in the indexing csv_file of cache. Something is wrong.",
     "output_type": "error",
     "traceback": [
      "\u001b[0;31m---------------------------------------------------------------------------\u001b[0m",
      "\u001b[0;31mAssertionError\u001b[0m                            Traceback (most recent call last)",
      "\u001b[0;32m<ipython-input-54-4e14f80641be>\u001b[0m in \u001b[0;36m<module>\u001b[0;34m\u001b[0m\n\u001b[0;32m----> 1\u001b[0;31m \u001b[0mgerri3\u001b[0m\u001b[0;34m.\u001b[0m\u001b[0mrun\u001b[0m\u001b[0;34m(\u001b[0m\u001b[0mpoints3\u001b[0m\u001b[0;34m)\u001b[0m\u001b[0;34m\u001b[0m\u001b[0;34m\u001b[0m\u001b[0m\n\u001b[0m",
      "\u001b[0;32m~/Desktop/island_in_the_sun/jupyters/2021_06_ranker/Ranker/crows_nest/multidb_wrapper.py\u001b[0m in \u001b[0;36mrun\u001b[0;34m(self, locations, dates)\u001b[0m\n\u001b[1;32m     73\u001b[0m         \u001b[0mdates\u001b[0m \u001b[0;34m=\u001b[0m \u001b[0mcheck_locations_and_dates\u001b[0m\u001b[0;34m(\u001b[0m\u001b[0mlocations\u001b[0m\u001b[0;34m,\u001b[0m \u001b[0mdates\u001b[0m\u001b[0;34m)\u001b[0m\u001b[0;34m\u001b[0m\u001b[0;34m\u001b[0m\u001b[0m\n\u001b[1;32m     74\u001b[0m         \u001b[0;32mfor\u001b[0m \u001b[0mdataminer\u001b[0m \u001b[0;32min\u001b[0m \u001b[0mself\u001b[0m\u001b[0;34m.\u001b[0m\u001b[0mdataminers\u001b[0m\u001b[0;34m:\u001b[0m\u001b[0;34m\u001b[0m\u001b[0;34m\u001b[0m\u001b[0m\n\u001b[0;32m---> 75\u001b[0;31m             \u001b[0mdataminer\u001b[0m\u001b[0;34m.\u001b[0m\u001b[0mrun\u001b[0m\u001b[0;34m(\u001b[0m\u001b[0mlocations\u001b[0m\u001b[0;34m,\u001b[0m \u001b[0mdates\u001b[0m\u001b[0;34m=\u001b[0m\u001b[0mdates\u001b[0m\u001b[0;34m)\u001b[0m  \u001b[0;31m# run the mining on each database.\u001b[0m\u001b[0;34m\u001b[0m\u001b[0;34m\u001b[0m\u001b[0m\n\u001b[0m\u001b[1;32m     76\u001b[0m         \u001b[0;32mreturn\u001b[0m\u001b[0;34m\u001b[0m\u001b[0;34m\u001b[0m\u001b[0m\n\u001b[1;32m     77\u001b[0m \u001b[0;34m\u001b[0m\u001b[0m\n",
      "\u001b[0;32m~/Desktop/island_in_the_sun/jupyters/2021_06_ranker/Ranker/crows_nest/database_classes.py\u001b[0m in \u001b[0;36mrun\u001b[0;34m(self, locations, dates)\u001b[0m\n\u001b[1;32m     58\u001b[0m             \u001b[0mfile_name\u001b[0m \u001b[0;34m=\u001b[0m \u001b[0mself\u001b[0m\u001b[0;34m.\u001b[0m\u001b[0mmake_file_name\u001b[0m\u001b[0;34m(\u001b[0m\u001b[0midx\u001b[0m\u001b[0;34m,\u001b[0m \u001b[0mself\u001b[0m\u001b[0;34m.\u001b[0m\u001b[0msize\u001b[0m\u001b[0;34m)\u001b[0m\u001b[0;34m\u001b[0m\u001b[0;34m\u001b[0m\u001b[0m\n\u001b[1;32m     59\u001b[0m             \u001b[0mqueries\u001b[0m \u001b[0;34m=\u001b[0m \u001b[0mself\u001b[0m\u001b[0;34m.\u001b[0m\u001b[0mbuild_query\u001b[0m\u001b[0;34m(\u001b[0m\u001b[0mlocation\u001b[0m\u001b[0;34m,\u001b[0m \u001b[0mdt\u001b[0m\u001b[0;34m)\u001b[0m\u001b[0;34m\u001b[0m\u001b[0;34m\u001b[0m\u001b[0m\n\u001b[0;32m---> 60\u001b[0;31m             \u001b[0mdata_files\u001b[0m \u001b[0;34m=\u001b[0m \u001b[0mself\u001b[0m\u001b[0;34m.\u001b[0m\u001b[0mget_data\u001b[0m\u001b[0;34m(\u001b[0m\u001b[0mqueries\u001b[0m\u001b[0;34m,\u001b[0m \u001b[0mfile_name\u001b[0m\u001b[0;34m,\u001b[0m \u001b[0mlocation\u001b[0m\u001b[0;34m,\u001b[0m \u001b[0mdt\u001b[0m\u001b[0;34m)\u001b[0m\u001b[0;34m\u001b[0m\u001b[0;34m\u001b[0m\u001b[0m\n\u001b[0m\u001b[1;32m     61\u001b[0m \u001b[0;34m\u001b[0m\u001b[0m\n\u001b[1;32m     62\u001b[0m         \u001b[0;32mreturn\u001b[0m\u001b[0;34m\u001b[0m\u001b[0;34m\u001b[0m\u001b[0m\n",
      "\u001b[0;32m~/Desktop/island_in_the_sun/jupyters/2021_06_ranker/Ranker/crows_nest/naip_dbm.py\u001b[0m in \u001b[0;36mget_data\u001b[0;34m(self, queries, file_name, location, date_given)\u001b[0m\n\u001b[1;32m    123\u001b[0m         \u001b[0;32mfor\u001b[0m \u001b[0mquery\u001b[0m \u001b[0;32min\u001b[0m \u001b[0mqueries\u001b[0m\u001b[0;34m:\u001b[0m\u001b[0;34m\u001b[0m\u001b[0;34m\u001b[0m\u001b[0m\n\u001b[1;32m    124\u001b[0m             \u001b[0;32mtry\u001b[0m\u001b[0;34m:\u001b[0m\u001b[0;34m\u001b[0m\u001b[0;34m\u001b[0m\u001b[0m\n\u001b[0;32m--> 125\u001b[0;31m                 dest_file_path, request_metainf = self.datasource.fetch_data(\n\u001b[0m\u001b[1;32m    126\u001b[0m                     query, NaipMetCacheAssembler)\n\u001b[1;32m    127\u001b[0m \u001b[0;34m\u001b[0m\u001b[0m\n",
      "\u001b[0;32m~/Desktop/island_in_the_sun/jupyters/2021_06_ranker/Ranker/crows_nest/source_destination.py\u001b[0m in \u001b[0;36mfetch_data\u001b[0;34m(self, source_file_query, met_assembler_csv, dest_file_path, force, dry_run)\u001b[0m\n\u001b[1;32m    151\u001b[0m                         print(f\"Local data from `{source_file_path}` was loaded into `{dest_file_path}`.\"\n\u001b[1;32m    152\u001b[0m                                 if not self.silent else \"\", end=\"\")\n\u001b[0;32m--> 153\u001b[0;31m                         \u001b[0mheader\u001b[0m \u001b[0;34m=\u001b[0m \u001b[0mself\u001b[0m\u001b[0;34m.\u001b[0m\u001b[0mcopy_csv_row\u001b[0m\u001b[0;34m(\u001b[0m\u001b[0msource_file_path\u001b[0m\u001b[0;34m,\u001b[0m \u001b[0mdest_file_path\u001b[0m\u001b[0;34m=\u001b[0m\u001b[0mdest_file_path\u001b[0m\u001b[0;34m)\u001b[0m \u001b[0;31m# TODO\u001b[0m\u001b[0;34m\u001b[0m\u001b[0;34m\u001b[0m\u001b[0m\n\u001b[0m\u001b[1;32m    154\u001b[0m             \u001b[0;31m# for (1) existing files or (2) no `copy_local` flag,\u001b[0m\u001b[0;34m\u001b[0m\u001b[0;34m\u001b[0m\u001b[0;34m\u001b[0m\u001b[0m\n\u001b[1;32m    155\u001b[0m             \u001b[0;31m# we just use the same header.\u001b[0m\u001b[0;34m\u001b[0m\u001b[0;34m\u001b[0m\u001b[0;34m\u001b[0m\u001b[0m\n",
      "\u001b[0;32m~/Desktop/island_in_the_sun/jupyters/2021_06_ranker/Ranker/crows_nest/source_destination.py\u001b[0m in \u001b[0;36mcopy_csv_row\u001b[0;34m(self, source_file_path, dest_file_path)\u001b[0m\n\u001b[1;32m    235\u001b[0m                     \u001b[0mcsv_row\u001b[0m \u001b[0;34m=\u001b[0m \u001b[0mline\u001b[0m\u001b[0;34m\u001b[0m\u001b[0;34m\u001b[0m\u001b[0m\n\u001b[1;32m    236\u001b[0m                     \u001b[0;32mbreak\u001b[0m\u001b[0;34m\u001b[0m\u001b[0;34m\u001b[0m\u001b[0m\n\u001b[0;32m--> 237\u001b[0;31m         assert csv_row is not None, (\n\u001b[0m\u001b[1;32m    238\u001b[0m             \u001b[0;34m\"There was no corresponding row in the indexing \"\u001b[0m\u001b[0;34m\u001b[0m\u001b[0;34m\u001b[0m\u001b[0m\n\u001b[1;32m    239\u001b[0m             \"csv_file of cache. Something is wrong.\")\n",
      "\u001b[0;31mAssertionError\u001b[0m: There was no corresponding row in the indexing csv_file of cache. Something is wrong."
     ]
    }
   ],
   "source": [
    "gerri3.run(points3)"
   ]
  },
  {
   "cell_type": "markdown",
   "id": "2f9c0855-a36b-4c2e-aee2-be88369baef7",
   "metadata": {},
   "source": [
    "### 4) Use local source - do not copy cache, extend local cache with new files to local cache and do not store cache in destination"
   ]
  },
  {
   "cell_type": "code",
   "execution_count": 26,
   "id": "ad021b9b-11b0-4c4c-bab0-e8fd5a4697b8",
   "metadata": {},
   "outputs": [],
   "source": [
    "local_naip_source3 = os.path.join(directories[3], \"data_barrel\", \"naip_western_europe_azure\")\n",
    "points4 = points2 + [Point([-103.49738863896111,45.17193210523143])]"
   ]
  },
  {
   "cell_type": "code",
   "execution_count": 36,
   "id": "529a2ce0-e9a9-497d-88fd-225d78408d6b",
   "metadata": {
    "collapsed": true,
    "jupyter": {
     "outputs_hidden": true
    },
    "tags": []
   },
   "outputs": [
    {
     "ename": "UnidentifiedImageError",
     "evalue": "cannot identify image file '/var/folders/h_/fp7vzm1s46x0fbjfhmjqmlsc0000gn/T/data_barrel/naip_western_europe_azure/ir/2021_10_11_loc_01.tif'",
     "output_type": "error",
     "traceback": [
      "\u001b[0;31m---------------------------------------------------------------------------\u001b[0m",
      "\u001b[0;31mUnidentifiedImageError\u001b[0m                    Traceback (most recent call last)",
      "\u001b[0;32m<ipython-input-36-8801733e1672>\u001b[0m in \u001b[0;36m<module>\u001b[0;34m\u001b[0m\n\u001b[0;32m----> 1\u001b[0;31m \u001b[0ma\u001b[0m \u001b[0;34m=\u001b[0m \u001b[0mImage\u001b[0m\u001b[0;34m.\u001b[0m\u001b[0mopen\u001b[0m\u001b[0;34m(\u001b[0m\u001b[0;34m\"/var/folders/h_/fp7vzm1s46x0fbjfhmjqmlsc0000gn/T/data_barrel/naip_western_europe_azure/ir/2021_10_11_loc_01.tif\"\u001b[0m\u001b[0;34m)\u001b[0m\u001b[0;34m\u001b[0m\u001b[0;34m\u001b[0m\u001b[0m\n\u001b[0m",
      "\u001b[0;32m~/anaconda3/envs/env_ranker/lib/python3.9/site-packages/PIL/Image.py\u001b[0m in \u001b[0;36mopen\u001b[0;34m(fp, mode, formats)\u001b[0m\n\u001b[1;32m   3021\u001b[0m     \u001b[0;32mfor\u001b[0m \u001b[0mmessage\u001b[0m \u001b[0;32min\u001b[0m \u001b[0maccept_warnings\u001b[0m\u001b[0;34m:\u001b[0m\u001b[0;34m\u001b[0m\u001b[0;34m\u001b[0m\u001b[0m\n\u001b[1;32m   3022\u001b[0m         \u001b[0mwarnings\u001b[0m\u001b[0;34m.\u001b[0m\u001b[0mwarn\u001b[0m\u001b[0;34m(\u001b[0m\u001b[0mmessage\u001b[0m\u001b[0;34m)\u001b[0m\u001b[0;34m\u001b[0m\u001b[0;34m\u001b[0m\u001b[0m\n\u001b[0;32m-> 3023\u001b[0;31m     raise UnidentifiedImageError(\n\u001b[0m\u001b[1;32m   3024\u001b[0m         \u001b[0;34m\"cannot identify image file %r\"\u001b[0m \u001b[0;34m%\u001b[0m \u001b[0;34m(\u001b[0m\u001b[0mfilename\u001b[0m \u001b[0;32mif\u001b[0m \u001b[0mfilename\u001b[0m \u001b[0;32melse\u001b[0m \u001b[0mfp\u001b[0m\u001b[0;34m)\u001b[0m\u001b[0;34m\u001b[0m\u001b[0;34m\u001b[0m\u001b[0m\n\u001b[1;32m   3025\u001b[0m     )\n",
      "\u001b[0;31mUnidentifiedImageError\u001b[0m: cannot identify image file '/var/folders/h_/fp7vzm1s46x0fbjfhmjqmlsc0000gn/T/data_barrel/naip_western_europe_azure/ir/2021_10_11_loc_01.tif'"
     ]
    }
   ],
   "source": [
    "gerri4 = GetMultiDBData(\n",
    "    NAIPData(features=[\"rgb\", \"ir\"], source_path=local_naip_source, extend_local_cache=True), \n",
    "    tile_size=500, \n",
    "    directory=directories[2],\n",
    "    silent=False)"
   ]
  },
  {
   "cell_type": "code",
   "execution_count": 33,
   "id": "3e86b1d5-3ed6-4fa8-841e-27983f969c46",
   "metadata": {},
   "outputs": [
    {
     "data": {
      "text/plain": [
       "{'compression': 'raw', 'dpi': (1, 1), 'resolution': (1, 1)}"
      ]
     },
     "execution_count": 33,
     "metadata": {},
     "output_type": "execute_result"
    }
   ],
   "source": [
    "a.info"
   ]
  },
  {
   "cell_type": "code",
   "execution_count": null,
   "id": "3ab8939f-ad6f-41d2-8f31-d366452657bf",
   "metadata": {},
   "outputs": [],
   "source": [
    "# Stitch example"
   ]
  },
  {
   "cell_type": "code",
   "execution_count": 96,
   "id": "7770228b-1bb7-4314-a003-ff11fec3d42b",
   "metadata": {},
   "outputs": [],
   "source": [
    "tile1 = \"/Users/Thomsn/Desktop/pres_cn/1_remotesource/data_barrel/naip_western_europe_azure/cache/v002/sd/2018/sd_060cm_2018/44103/m_4410303_ne_13_060_20180731_20181212.tif\"\n",
    "tile2 = \"/Users/Thomsn/Desktop/pres_cn/1_remotesource/data_barrel/naip_western_europe_azure/cache/v002/sd/2018/sd_060cm_2018/44103/m_4410304_nw_13_060_20180731_20181212.tif\"\n",
    "\n",
    "target = Point([-103.62190160586601 44.99426765562158])"
   ]
  },
  {
   "cell_type": "code",
   "execution_count": null,
   "id": "1e9c16ad-9b83-4122-b5af-4a3db5eaa004",
   "metadata": {},
   "outputs": [],
   "source": []
  }
 ],
 "metadata": {
  "kernelspec": {
   "display_name": "Python 3",
   "language": "python",
   "name": "python3"
  },
  "language_info": {
   "codemirror_mode": {
    "name": "ipython",
    "version": 3
   },
   "file_extension": ".py",
   "mimetype": "text/x-python",
   "name": "python",
   "nbconvert_exporter": "python",
   "pygments_lexer": "ipython3",
   "version": "3.9.5"
  }
 },
 "nbformat": 4,
 "nbformat_minor": 5
}

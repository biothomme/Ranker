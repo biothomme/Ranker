{
 "cells": [
  {
   "cell_type": "code",
   "execution_count": 1,
   "id": "84561e06-ceda-454e-ba74-c4b50f97a70e",
   "metadata": {},
   "outputs": [
    {
     "name": "stdout",
     "output_type": "stream",
     "text": [
      "3.9.5 (default, May 18 2021, 12:31:01) \n",
      "[Clang 10.0.0 ]\n"
     ]
    }
   ],
   "source": [
    "# Check if python is 3.9.5\n",
    "import sys\n",
    "print(sys.version)\n",
    "%load_ext autoreload\n",
    "%autoreload 2"
   ]
  },
  {
   "cell_type": "markdown",
   "id": "42563af8-4ec6-49bf-b79b-adcb554270b5",
   "metadata": {},
   "source": [
    "## Code questions"
   ]
  },
  {
   "cell_type": "markdown",
   "id": "2ec3631a-cf39-4a76-8187-ac2125341b5d",
   "metadata": {},
   "source": [
    "<div class=\"alert alert-block alert-warning\">\n",
    "    <b>When do I use <span style=\"font-family: Monospace; background-color: #FFFFE0\">abc.ABC</span> as superclass and when <span style=\"font-family: Monospace; background-color: #FFFFE0\"> abc.ABCMeta</span> as metaclass? </b> <br>\n",
    "    <a href=\"https://docs.python.org/3/library/abc.html\">Here</a> is the <span style=\"font-family: Monospace; background-color: #FFFFE0\">abc</span> package.\n",
    "</div>"
   ]
  },
  {
   "cell_type": "markdown",
   "id": "e532c2e0-832f-4947-935c-951dd5dbd842",
   "metadata": {},
   "source": [
    "**Answer:** For us it is not really important."
   ]
  },
  {
   "cell_type": "markdown",
   "id": "cd0d87ce-1f32-4d41-89ba-d5131a2c196c",
   "metadata": {},
   "source": [
    "# Data mining"
   ]
  },
  {
   "cell_type": "code",
   "execution_count": 2,
   "id": "2f74021f-5470-4076-a625-4c5cc4e86b7b",
   "metadata": {},
   "outputs": [],
   "source": [
    "import multidb_wrapper\n",
    "import database_classes\n",
    "from naip_dbm import NAIPData"
   ]
  },
  {
   "cell_type": "code",
   "execution_count": 3,
   "id": "71a77faa-d1b1-4b03-8258-ee766065bbfd",
   "metadata": {},
   "outputs": [],
   "source": [
    "from shapely.geometry import Point"
   ]
  },
  {
   "cell_type": "code",
   "execution_count": 4,
   "id": "2db02633-2be5-426b-8ed2-55483e344c2e",
   "metadata": {},
   "outputs": [],
   "source": [
    "naip = NAIPData(directory=\"banasna\")"
   ]
  },
  {
   "cell_type": "code",
   "execution_count": 5,
   "id": "7186d0bf-3607-4e6f-817e-f772ab52b648",
   "metadata": {},
   "outputs": [],
   "source": [
    "lat = 44.545950\n",
    "lon = -118.256980\n",
    "\n",
    "pont = Point(float(lon),float(lat))"
   ]
  },
  {
   "cell_type": "code",
   "execution_count": 6,
   "id": "18c7f385-f521-47ec-907b-2d62ee044cec",
   "metadata": {},
   "outputs": [
    {
     "name": "stdout",
     "output_type": "stream",
     "text": [
      "logged in\n",
      "https://naipeuwest.blob.core.windows.net/naip-index/rtree/tile_index.dat\n",
      "https://naipeuwest.blob.core.windows.net/naip-index/rtree/tile_index.idx\n",
      "https://naipeuwest.blob.core.windows.net/naip-index/rtree/tiles.p\n",
      "A size of 100 meters was chosen for each tile dimension. For different resolutions and years, this corresponds to the following sizes in pixels:\n",
      "    - 2013 (100 cm): 100 px\n",
      "    - 2019 (60 cm): 166 px\n",
      "    - 2018 (60 cm): 164 px\n",
      "    - 2016 (60 cm): 164 px\n",
      "    - 2013 (50 cm): 198 px\n",
      "    - 2010 (100 cm): 100 px\n",
      "    - 2015 (50 cm): 196 px\n",
      "    - 2011 (100 cm): 100 px\n",
      "    - 2017 (100 cm): 100 px\n",
      "    - 2015 (100 cm): 100 px\n",
      "    - 2017 (60 cm): 166 px\n",
      "    - 2012 (100 cm): 100 px\n",
      "    - 2016 (100 cm): 98 px\n",
      "    - 2014 (100 cm): 100 px\n",
      "v002/or/2016/or_100cm_2016/44118/m_4411830_se_11_1_20160721.tif\n",
      "https://naipblobs.blob.core.windows.net/naip/v002/or/2016/or_100cm_2016/44118/m_4411830_se_11_1_20160721.tif\n",
      "banasna/data_barrel/naip_western_europe_azure/v002/or/2016/or_100cm_2016/44118/m_4411830_se_11_1_20160721.tif already exists. It will not be overwritten.\n"
     ]
    }
   ],
   "source": [
    "naip.run(pont)"
   ]
  },
  {
   "cell_type": "markdown",
   "id": "8fe79711-ed0e-434b-a86d-12677c588db0",
   "metadata": {},
   "source": [
    "## NAIP"
   ]
  },
  {
   "cell_type": "markdown",
   "id": "89f64324-b6e6-4ba3-94d2-41bcf1c98ef9",
   "metadata": {},
   "source": [
    "<div class=\"alert alert-block alert-danger\">\n",
    "    <b>What exactly is this <a href=\"https://planetarycomputer.microsoft.com/dataset/naip#Blob-Storage-Notebook\">Azure blob storage</a>?</b> <br> It seems, as if it does not need authentication, but we would, if we used <a href=\"https://planetarycomputer.microsoft.com/dataset/naip#Example-Notebook\">Planetary Computer STAC API</a> by Microsoft or even Google's <a href=\"https://developers.google.com/earth-engine/datasets/catalog/USDA_NAIP_DOQQ#description\">Earth Engine Data Catalog</a>. Where is the caveat? \n",
    "</div>"
   ]
  },
  {
   "cell_type": "markdown",
   "id": "486be07b-01fd-4ca5-b40f-070461fa5ff0",
   "metadata": {
    "tags": []
   },
   "source": [
    "**Answer:** The explanation was too long to reconstruct for me. But the blob storage is really a path to circumvent the access abrrier in this case."
   ]
  },
  {
   "cell_type": "markdown",
   "id": "9ffa53aa-3fda-45cb-ba7f-b1c8e9763ef4",
   "metadata": {},
   "source": [
    "<div class=\"alert alert-block alert-danger\">\n",
    "    <b>Are the NAIP tiles actually overlapping?</b> <br> I am unsure, whether a location query could lead to multiple tiles within a given year.\n",
    "</div>"
   ]
  },
  {
   "cell_type": "code",
   "execution_count": 6,
   "id": "6088cbcf-261b-4886-8979-a9362856de7b",
   "metadata": {},
   "outputs": [
    {
     "data": {
      "text/plain": [
       "'aa/data_barrel'"
      ]
     },
     "execution_count": 6,
     "metadata": {},
     "output_type": "execute_result"
    }
   ],
   "source": [
    "multidb_wrapper.set_directory(\"aa\")"
   ]
  },
  {
   "cell_type": "markdown",
   "id": "63611a41-9219-474d-a485-1c4a3917de2f",
   "metadata": {},
   "source": [
    "Okay, how should I proceed?\n",
    "- Implement the date in the query! This reduces the images retrieved to maybe one.\n",
    "- Find the most centered image and start to stitch\n",
    "- start off with fixed raster size\n",
    "- use rasterio and fiona\n",
    "- "
   ]
  },
  {
   "cell_type": "code",
   "execution_count": 20,
   "id": "60c18ecf-d59a-4913-b959-e9df32ce0949",
   "metadata": {},
   "outputs": [
    {
     "ename": "AssertionError",
     "evalue": "The lists for latitudes ({len(longitudes)}) and lon (4) have unequal length. Please adjust.",
     "output_type": "error",
     "traceback": [
      "\u001b[0;31m---------------------------------------------------------------------------\u001b[0m",
      "\u001b[0;31mAssertionError\u001b[0m                            Traceback (most recent call last)",
      "\u001b[0;32m<ipython-input-20-061fef75e84d>\u001b[0m in \u001b[0;36m<module>\u001b[0;34m\u001b[0m\n\u001b[0;32m----> 1\u001b[0;31m \u001b[0mmultidb_wrapper\u001b[0m\u001b[0;34m.\u001b[0m\u001b[0mset_locations\u001b[0m\u001b[0;34m(\u001b[0m\u001b[0;34m[\u001b[0m\u001b[0;36m1\u001b[0m\u001b[0;34m,\u001b[0m\u001b[0;36m2\u001b[0m\u001b[0;34m,\u001b[0m\u001b[0;36m2\u001b[0m\u001b[0;34m,\u001b[0m\u001b[0;36m3\u001b[0m\u001b[0;34m]\u001b[0m\u001b[0;34m,\u001b[0m \u001b[0;34m[\u001b[0m\u001b[0;36m2\u001b[0m\u001b[0;34m,\u001b[0m\u001b[0;36m3\u001b[0m\u001b[0;34m,\u001b[0m\u001b[0;36m4\u001b[0m\u001b[0;34m]\u001b[0m\u001b[0;34m)\u001b[0m\u001b[0;34m\u001b[0m\u001b[0;34m\u001b[0m\u001b[0m\n\u001b[0m",
      "\u001b[0;32m~/Desktop/island_in_the_sun/jupyters/2021_06_ranker/Ranker/crows_nest/multidb_wrapper.py\u001b[0m in \u001b[0;36mset_locations\u001b[0;34m(longitudes, latitudes)\u001b[0m\n\u001b[1;32m     52\u001b[0m         f\"lon ({len(longitudes)}) have unequal length. Please adjust.\")\n\u001b[1;32m     53\u001b[0m \u001b[0;34m\u001b[0m\u001b[0m\n\u001b[0;32m---> 54\u001b[0;31m     \u001b[0;32massert\u001b[0m \u001b[0mlen\u001b[0m\u001b[0;34m(\u001b[0m\u001b[0mlongitudes\u001b[0m\u001b[0;34m)\u001b[0m \u001b[0;34m==\u001b[0m \u001b[0mlen\u001b[0m\u001b[0;34m(\u001b[0m\u001b[0mlatitudes\u001b[0m\u001b[0;34m)\u001b[0m\u001b[0;34m,\u001b[0m \u001b[0mLENGTH_ERR_MSG\u001b[0m\u001b[0;34m\u001b[0m\u001b[0;34m\u001b[0m\u001b[0m\n\u001b[0m\u001b[1;32m     55\u001b[0m     locations = [shapely.geometry.point.Point((lon, lat)) for lon, lat in zip(\n\u001b[1;32m     56\u001b[0m         longitudes, latitudes)]\n",
      "\u001b[0;31mAssertionError\u001b[0m: The lists for latitudes ({len(longitudes)}) and lon (4) have unequal length. Please adjust."
     ]
    }
   ],
   "source": [
    "multidb_wrapper.set_locations([1,2,2,3], [2,3,4])"
   ]
  },
  {
   "cell_type": "markdown",
   "id": "5057a9c7-e546-4732-aea1-b99c5e261a39",
   "metadata": {},
   "source": [
    "---"
   ]
  },
  {
   "cell_type": "code",
   "execution_count": 27,
   "id": "77ca011c-cf67-4e26-9996-dafbbce8ce97",
   "metadata": {},
   "outputs": [
    {
     "name": "stdout",
     "output_type": "stream",
     "text": [
      "{'driver': 'GTiff', 'dtype': 'uint8', 'nodata': None, 'width': 5696, 'height': 7646, 'count': 4, 'crs': CRS.from_epsg(26911), 'transform': Affine(1.0, 0.0, 395348.0,\n",
      "       0.0, -1.0, 4935502.0), 'blockxsize': 512, 'blockysize': 512, 'tiled': True, 'compress': 'deflate', 'interleave': 'pixel'}\n"
     ]
    },
    {
     "ename": "RasterioIOError",
     "evalue": "aha.tif: Currently, PHOTOMETRIC=YCBCR requires COMPRESS=JPEG",
     "output_type": "error",
     "traceback": [
      "\u001b[0;31m---------------------------------------------------------------------------\u001b[0m",
      "\u001b[0;31mCPLE_NotSupportedError\u001b[0m                    Traceback (most recent call last)",
      "\u001b[0;32mrasterio/_io.pyx\u001b[0m in \u001b[0;36mrasterio._io.DatasetWriterBase.__init__\u001b[0;34m()\u001b[0m\n",
      "\u001b[0;32mrasterio/_err.pyx\u001b[0m in \u001b[0;36mrasterio._err.exc_wrap_pointer\u001b[0;34m()\u001b[0m\n",
      "\u001b[0;31mCPLE_NotSupportedError\u001b[0m: aha.tif: Currently, PHOTOMETRIC=YCBCR requires COMPRESS=JPEG",
      "\nDuring handling of the above exception, another exception occurred:\n",
      "\u001b[0;31mRasterioIOError\u001b[0m                           Traceback (most recent call last)",
      "\u001b[0;32m<ipython-input-27-07bdb72bdb87>\u001b[0m in \u001b[0;36m<module>\u001b[0;34m\u001b[0m\n\u001b[1;32m     34\u001b[0m         'transform': rasterio.windows.transform(wdw, image.transform)})\n\u001b[1;32m     35\u001b[0m     \u001b[0mprint\u001b[0m\u001b[0;34m(\u001b[0m\u001b[0mimage\u001b[0m\u001b[0;34m.\u001b[0m\u001b[0mprofile\u001b[0m\u001b[0;34m)\u001b[0m\u001b[0;34m\u001b[0m\u001b[0;34m\u001b[0m\u001b[0m\n\u001b[0;32m---> 36\u001b[0;31m     with rasterio.open(\n\u001b[0m\u001b[1;32m     37\u001b[0m         \"aha.tif\", \"w\", photometric=\"YCbCr\", **kwargs) as dst:\n\u001b[1;32m     38\u001b[0m             \u001b[0mdst\u001b[0m\u001b[0;34m.\u001b[0m\u001b[0mcolorinterp\u001b[0m \u001b[0;34m=\u001b[0m \u001b[0mimage\u001b[0m\u001b[0;34m.\u001b[0m\u001b[0mcolorinterp\u001b[0m\u001b[0;34m\u001b[0m\u001b[0;34m\u001b[0m\u001b[0m\n",
      "\u001b[0;32m~/anaconda3/envs/env_ranker/lib/python3.9/site-packages/rasterio/env.py\u001b[0m in \u001b[0;36mwrapper\u001b[0;34m(*args, **kwds)\u001b[0m\n\u001b[1;32m    433\u001b[0m \u001b[0;34m\u001b[0m\u001b[0m\n\u001b[1;32m    434\u001b[0m         \u001b[0;32mwith\u001b[0m \u001b[0menv_ctor\u001b[0m\u001b[0;34m(\u001b[0m\u001b[0msession\u001b[0m\u001b[0;34m=\u001b[0m\u001b[0msession\u001b[0m\u001b[0;34m)\u001b[0m\u001b[0;34m:\u001b[0m\u001b[0;34m\u001b[0m\u001b[0;34m\u001b[0m\u001b[0m\n\u001b[0;32m--> 435\u001b[0;31m             \u001b[0;32mreturn\u001b[0m \u001b[0mf\u001b[0m\u001b[0;34m(\u001b[0m\u001b[0;34m*\u001b[0m\u001b[0margs\u001b[0m\u001b[0;34m,\u001b[0m \u001b[0;34m**\u001b[0m\u001b[0mkwds\u001b[0m\u001b[0;34m)\u001b[0m\u001b[0;34m\u001b[0m\u001b[0;34m\u001b[0m\u001b[0m\n\u001b[0m\u001b[1;32m    436\u001b[0m \u001b[0;34m\u001b[0m\u001b[0m\n\u001b[1;32m    437\u001b[0m     \u001b[0;32mreturn\u001b[0m \u001b[0mwrapper\u001b[0m\u001b[0;34m\u001b[0m\u001b[0;34m\u001b[0m\u001b[0m\n",
      "\u001b[0;32m~/anaconda3/envs/env_ranker/lib/python3.9/site-packages/rasterio/__init__.py\u001b[0m in \u001b[0;36mopen\u001b[0;34m(fp, mode, driver, width, height, count, crs, transform, dtype, nodata, sharing, **kwargs)\u001b[0m\n\u001b[1;32m    228\u001b[0m             \u001b[0mwriter\u001b[0m \u001b[0;34m=\u001b[0m \u001b[0mget_writer_for_driver\u001b[0m\u001b[0;34m(\u001b[0m\u001b[0mdriver\u001b[0m\u001b[0;34m)\u001b[0m\u001b[0;34m\u001b[0m\u001b[0;34m\u001b[0m\u001b[0m\n\u001b[1;32m    229\u001b[0m             \u001b[0;32mif\u001b[0m \u001b[0mwriter\u001b[0m \u001b[0;32mis\u001b[0m \u001b[0;32mnot\u001b[0m \u001b[0;32mNone\u001b[0m\u001b[0;34m:\u001b[0m\u001b[0;34m\u001b[0m\u001b[0;34m\u001b[0m\u001b[0m\n\u001b[0;32m--> 230\u001b[0;31m                 s = writer(path, mode, driver=driver,\n\u001b[0m\u001b[1;32m    231\u001b[0m                            \u001b[0mwidth\u001b[0m\u001b[0;34m=\u001b[0m\u001b[0mwidth\u001b[0m\u001b[0;34m,\u001b[0m \u001b[0mheight\u001b[0m\u001b[0;34m=\u001b[0m\u001b[0mheight\u001b[0m\u001b[0;34m,\u001b[0m\u001b[0;34m\u001b[0m\u001b[0;34m\u001b[0m\u001b[0m\n\u001b[1;32m    232\u001b[0m                            \u001b[0mcount\u001b[0m\u001b[0;34m=\u001b[0m\u001b[0mcount\u001b[0m\u001b[0;34m,\u001b[0m \u001b[0mcrs\u001b[0m\u001b[0;34m=\u001b[0m\u001b[0mcrs\u001b[0m\u001b[0;34m,\u001b[0m\u001b[0;34m\u001b[0m\u001b[0;34m\u001b[0m\u001b[0m\n",
      "\u001b[0;32mrasterio/_io.pyx\u001b[0m in \u001b[0;36mrasterio._io.DatasetWriterBase.__init__\u001b[0;34m()\u001b[0m\n",
      "\u001b[0;31mRasterioIOError\u001b[0m: aha.tif: Currently, PHOTOMETRIC=YCBCR requires COMPRESS=JPEG"
     ]
    }
   ],
   "source": [
    "import numpy as np\n",
    "import rasterio\n",
    "from fiona.transform import transform\n",
    "import geopandas as gpd\n",
    "import matplotlib.pyplot as plt\n",
    "from PIL import Image\n",
    "\n",
    "# code is again taken from ref01 - I dropped tom augspurger a mail\n",
    "IO_CRS = \"epsg:4326\"\n",
    "point = pont\n",
    "tile_size_pixels = 500\n",
    "query_url = \"https://naipblobs.blob.core.windows.net/naip/v002/or/2016/or_100cm_2016/44118/m_4411830_se_11_1_20160721.tif\"\n",
    "file_name = \"aha.tif\"\n",
    "\n",
    "half_edge = int(tile_size_pixels/2)\n",
    "with rasterio.open(query_url) as image:\n",
    "    # here coordinates need to be shifted from the input crs to\n",
    "    # the tif image crs and later converted to pixel\n",
    "    point_in_img_crs = [p[0] for p in transform(\n",
    "        IO_CRS, image.crs.to_string(), [point.x], [point.y])]\n",
    "    point_in_img_pix = [\n",
    "        int(np.floor(p)) for p in\n",
    "        ~image.transform * point_in_img_crs]\n",
    "    \n",
    "    # a window around the tile can be produced\n",
    "    wdw = rasterio.windows.Window(\n",
    "        point_in_img_pix[0]-half_edge, point_in_img_pix[1]-half_edge,\n",
    "        tile_size_pixels, tile_size_pixels)\n",
    "    image_tile = image.read(window=wdw)\n",
    "    kwargs = image.meta.copy()\n",
    "    kwargs.update({\n",
    "        'height': wdw.height,\n",
    "        'width': wdw.width,\n",
    "        'transform': rasterio.windows.transform(wdw, image.transform)})\n",
    "\n",
    "    with rasterio.open(\n",
    "        file_name, \"w\", **kwargs) as dst:\n",
    "            dst.write(image_tile)  # PROBLEM: we loose the IR LAYER!!!!\n",
    "\n",
    "            #dst.write_colormap(\n",
    "            #           4, {\n",
    "            #                0: (255, 0, 0, 255),\n",
    "            #                255: (0, 0, 255, 255) })    "
   ]
  },
  {
   "cell_type": "markdown",
   "id": "a31f3fca-67d6-4444-b1a9-97471a0d50b1",
   "metadata": {},
   "source": [
    "<div class=\"alert alert-block alert-danger\">\n",
    "    <b>How can I see if my image was stored properly in 4 layers?</b> <br> When saving as tif and switching the axes, do I loose a layer?\n",
    "</div>"
   ]
  },
  {
   "cell_type": "code",
   "execution_count": null,
   "id": "9c3bf006-048a-44b3-baaf-8a3089b575ab",
   "metadata": {},
   "outputs": [],
   "source": []
  }
 ],
 "metadata": {
  "kernelspec": {
   "display_name": "Python 3",
   "language": "python",
   "name": "python3"
  },
  "language_info": {
   "codemirror_mode": {
    "name": "ipython",
    "version": 3
   },
   "file_extension": ".py",
   "mimetype": "text/x-python",
   "name": "python",
   "nbconvert_exporter": "python",
   "pygments_lexer": "ipython3",
   "version": "3.9.5"
  }
 },
 "nbformat": 4,
 "nbformat_minor": 5
}

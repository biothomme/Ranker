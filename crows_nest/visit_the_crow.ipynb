{
 "cells": [
  {
   "cell_type": "code",
   "execution_count": 1,
   "id": "84561e06-ceda-454e-ba74-c4b50f97a70e",
   "metadata": {},
   "outputs": [
    {
     "name": "stdout",
     "output_type": "stream",
     "text": [
      "3.9.5 (default, May 18 2021, 12:31:01) \n",
      "[Clang 10.0.0 ]\n"
     ]
    }
   ],
   "source": [
    "# Check if python is 3.9.5\n",
    "import sys\n",
    "print(sys.version)\n",
    "%load_ext autoreload\n",
    "%autoreload 2"
   ]
  },
  {
   "cell_type": "code",
   "execution_count": 2,
   "id": "51db5cc8-f076-4e6e-9e73-4bae356fd30a",
   "metadata": {},
   "outputs": [],
   "source": [
    "from datetime import date\n",
    "import numpy as np"
   ]
  },
  {
   "cell_type": "markdown",
   "id": "42563af8-4ec6-49bf-b79b-adcb554270b5",
   "metadata": {},
   "source": [
    "## Code questions"
   ]
  },
  {
   "cell_type": "code",
   "execution_count": 3,
   "id": "3be58f6c-4a4f-455c-afd4-90f5c63a301f",
   "metadata": {},
   "outputs": [],
   "source": [
    "from utils import download_to_path"
   ]
  },
  {
   "cell_type": "code",
   "execution_count": 4,
   "id": "8fdb2ab5-80b3-47a2-a76d-184f222adf90",
   "metadata": {},
   "outputs": [],
   "source": [
    "from utils import write_csv_row"
   ]
  },
  {
   "cell_type": "markdown",
   "id": "971e3b45-3a51-43fa-a38d-93d764168dd8",
   "metadata": {},
   "source": [
    "None"
   ]
  },
  {
   "cell_type": "markdown",
   "id": "cd0d87ce-1f32-4d41-89ba-d5131a2c196c",
   "metadata": {},
   "source": [
    "# Data mining"
   ]
  },
  {
   "cell_type": "code",
   "execution_count": 5,
   "id": "2f74021f-5470-4076-a625-4c5cc4e86b7b",
   "metadata": {},
   "outputs": [],
   "source": [
    "import database_classes\n",
    "from naip_dbm import NAIPData\n",
    "from numpy.random import uniform"
   ]
  },
  {
   "cell_type": "code",
   "execution_count": 6,
   "id": "1beec69b-ab4b-42b7-955b-77a53ede0223",
   "metadata": {},
   "outputs": [],
   "source": [
    "from multidb_wrapper import GetMultiDBData"
   ]
  },
  {
   "cell_type": "code",
   "execution_count": 7,
   "id": "71a77faa-d1b1-4b03-8258-ee766065bbfd",
   "metadata": {},
   "outputs": [],
   "source": [
    "from shapely.geometry import Point"
   ]
  },
  {
   "cell_type": "code",
   "execution_count": 8,
   "id": "7186d0bf-3607-4e6f-817e-f772ab52b648",
   "metadata": {},
   "outputs": [],
   "source": [
    "lat = 44.967243\n",
    "lon = -103.771556\n",
    "\n",
    "# make 10 random points within a given range\n",
    "pont = Point(float(lon),float(lat))\n",
    "points = [Point(float(lon+uniform(-.3,.3)),float(lat+uniform(-.3,.3))) for i in range(5)]"
   ]
  },
  {
   "cell_type": "code",
   "execution_count": 9,
   "id": "2db02633-2be5-426b-8ed2-55483e344c2e",
   "metadata": {},
   "outputs": [],
   "source": [
    "# naip = NAIPData(directory=\"banasna\", features=[\"rgb\", \"ir\"])"
   ]
  },
  {
   "cell_type": "code",
   "execution_count": 10,
   "id": "18c7f385-f521-47ec-907b-2d62ee044cec",
   "metadata": {},
   "outputs": [],
   "source": [
    "# naip.run(points)"
   ]
  },
  {
   "cell_type": "code",
   "execution_count": 11,
   "id": "12477ffc-04b2-4d30-9379-2d1126dd738c",
   "metadata": {},
   "outputs": [],
   "source": [
    "# GetMultiDBData(NAIPData(features=[\"rgb\", \"ir\"]))"
   ]
  },
  {
   "cell_type": "code",
   "execution_count": 16,
   "id": "826e6b29-1464-4df8-9f11-e947eee09022",
   "metadata": {},
   "outputs": [
    {
     "name": "stdout",
     "output_type": "stream",
     "text": [
      "The default online source `{self.base_url}` will be used instead.\n"
     ]
    }
   ],
   "source": [
    "a = NAIPData(features=[\"rgb\", \"ir\"])"
   ]
  },
  {
   "cell_type": "code",
   "execution_count": 17,
   "id": "2797f839-cef0-4a07-8df7-140ceaa81ba8",
   "metadata": {},
   "outputs": [
    {
     "data": {
      "text/plain": [
       "False"
      ]
     },
     "execution_count": 17,
     "metadata": {},
     "output_type": "execute_result"
    }
   ],
   "source": [
    "isinstance(type(a).__base__, database_classes.SpatialData)"
   ]
  },
  {
   "cell_type": "code",
   "execution_count": 23,
   "id": "8ae1896f-accc-4b31-8a17-158ae37d0e7c",
   "metadata": {},
   "outputs": [
    {
     "name": "stdout",
     "output_type": "stream",
     "text": [
      "The default online source `{self.base_url}` will be used instead.\n"
     ]
    }
   ],
   "source": [
    "gerri = GetMultiDBData(NAIPData(features=[\"rgb\", \"ir\"]), tile_size=500)"
   ]
  },
  {
   "cell_type": "markdown",
   "id": "ec28e70f-9233-4d08-99c7-1934eae3fe1e",
   "metadata": {},
   "source": [
    "# Attention, currently, we are overwriting the files when we enter new locations!"
   ]
  },
  {
   "cell_type": "code",
   "execution_count": 24,
   "id": "2661cdc6-4bb4-4647-bf3d-d3adeb204e60",
   "metadata": {
    "tags": []
   },
   "outputs": [
    {
     "name": "stdout",
     "output_type": "stream",
     "text": [
      "As no dates were specified the most recent data will be fetched.\n",
      "logged in\n",
      "The directory for database 'NAIP western europe Azure' will be initialized.\n",
      "Directory /var/folders/h_/fp7vzm1s46x0fbjfhmjqmlsc0000gn/T/data_barrel/data_barrel/naip_western_europe_azure/source was created.\n",
      "Directory /var/folders/h_/fp7vzm1s46x0fbjfhmjqmlsc0000gn/T/data_barrel/data_barrel/naip_western_europe_azure/rgb was created.\n",
      "Directory /var/folders/h_/fp7vzm1s46x0fbjfhmjqmlsc0000gn/T/data_barrel/data_barrel/naip_western_europe_azure/ir was created.\n",
      "https://naipeuwest.blob.core.windows.net/naip-index/rtree/tile_index.dat\n",
      "/var/folders/h_/fp7vzm1s46x0fbjfhmjqmlsc0000gn/T/data_barrel/data_barrel/naip_western_europe_azure/index_files/tile_index.dat\n",
      "https://naipeuwest.blob.core.windows.net/naip-index/rtree/tile_index.idx\n",
      "/var/folders/h_/fp7vzm1s46x0fbjfhmjqmlsc0000gn/T/data_barrel/data_barrel/naip_western_europe_azure/index_files/tile_index.idx\n",
      "https://naipeuwest.blob.core.windows.net/naip-index/rtree/tiles.p\n",
      "/var/folders/h_/fp7vzm1s46x0fbjfhmjqmlsc0000gn/T/data_barrel/data_barrel/naip_western_europe_azure/index_files/tiles.p\n",
      "A size of 500 meters was chosen for each tile dimension. For different resolutions and years, this corresponds to the following sizes in pixels:\n",
      "    - 2015 (100 cm): 496 px\n",
      "    - 2012 (100 cm): 492 px\n",
      "    - 2016 (100 cm): 488 px\n",
      "    - 2018 (60 cm): 818 px\n",
      "    - 2016 (60 cm): 818 px\n",
      "    - 2010 (100 cm): 492 px\n",
      "    - 2013 (50 cm): 990 px\n",
      "    - 2013 (100 cm): 496 px\n",
      "    - 2011 (100 cm): 494 px\n",
      "    - 2017 (100 cm): 496 px\n",
      "    - 2019 (60 cm): 826 px\n",
      "    - 2014 (100 cm): 492 px\n",
      "    - 2015 (50 cm): 978 px\n",
      "    - 2017 (60 cm): 826 px\n",
      "['v002/sd/2018/sd_060cm_2018/45103/m_4510352_sw_13_060_20180811.tif']\n",
      "https://naipblobs.blob.core.windows.net/naip/v002/sd/2018/sd_060cm_2018/45103/m_4510352_sw_13_060_20180811.tif\n",
      "/var/folders/h_/fp7vzm1s46x0fbjfhmjqmlsc0000gn/T/data_barrel/data_barrel/naip_western_europe_azure/source/v002/sd/2018/sd_060cm_2018/45103/m_4510352_sw_13_060_20180811.tif\n",
      "Data from https://naipblobs.blob.core.windows.net/naip/v002/sd/2018/sd_060cm_2018/45103/m_4510352_sw_13_060_20180811.tif was retrieved to /var/folders/h_/fp7vzm1s46x0fbjfhmjqmlsc0000gn/T/data_barrel/data_barrel/naip_western_europe_azure/source/v002/sd/2018/sd_060cm_2018/45103/m_4510352_sw_13_060_20180811.tif.\n",
      "['/var/folders/h_/fp7vzm1s46x0fbjfhmjqmlsc0000gn/T/data_barrel/data_barrel/naip_western_europe_azure/source/v002/sd/2018/sd_060cm_2018/45103/m_4510352_sw_13_060_20180811.tif']\n",
      "True\n",
      "True\n",
      "['v002/sd/2018/sd_060cm_2018/44103/m_4410309_ne_13_060_20180731_20181212.tif']\n",
      "https://naipblobs.blob.core.windows.net/naip/v002/sd/2018/sd_060cm_2018/44103/m_4410309_ne_13_060_20180731_20181212.tif\n",
      "/var/folders/h_/fp7vzm1s46x0fbjfhmjqmlsc0000gn/T/data_barrel/data_barrel/naip_western_europe_azure/source/v002/sd/2018/sd_060cm_2018/44103/m_4410309_ne_13_060_20180731_20181212.tif\n",
      "Data from https://naipblobs.blob.core.windows.net/naip/v002/sd/2018/sd_060cm_2018/44103/m_4410309_ne_13_060_20180731_20181212.tif was retrieved to /var/folders/h_/fp7vzm1s46x0fbjfhmjqmlsc0000gn/T/data_barrel/data_barrel/naip_western_europe_azure/source/v002/sd/2018/sd_060cm_2018/44103/m_4410309_ne_13_060_20180731_20181212.tif.\n",
      "['/var/folders/h_/fp7vzm1s46x0fbjfhmjqmlsc0000gn/T/data_barrel/data_barrel/naip_western_europe_azure/source/v002/sd/2018/sd_060cm_2018/44103/m_4410309_ne_13_060_20180731_20181212.tif']\n",
      "True\n",
      "True\n",
      "['v002/sd/2018/sd_060cm_2018/44103/m_4410303_sw_13_060_20180731_20181212.tif']\n",
      "https://naipblobs.blob.core.windows.net/naip/v002/sd/2018/sd_060cm_2018/44103/m_4410303_sw_13_060_20180731_20181212.tif\n",
      "/var/folders/h_/fp7vzm1s46x0fbjfhmjqmlsc0000gn/T/data_barrel/data_barrel/naip_western_europe_azure/source/v002/sd/2018/sd_060cm_2018/44103/m_4410303_sw_13_060_20180731_20181212.tif\n",
      "Data from https://naipblobs.blob.core.windows.net/naip/v002/sd/2018/sd_060cm_2018/44103/m_4410303_sw_13_060_20180731_20181212.tif was retrieved to /var/folders/h_/fp7vzm1s46x0fbjfhmjqmlsc0000gn/T/data_barrel/data_barrel/naip_western_europe_azure/source/v002/sd/2018/sd_060cm_2018/44103/m_4410303_sw_13_060_20180731_20181212.tif.\n",
      "['/var/folders/h_/fp7vzm1s46x0fbjfhmjqmlsc0000gn/T/data_barrel/data_barrel/naip_western_europe_azure/source/v002/sd/2018/sd_060cm_2018/44103/m_4410303_sw_13_060_20180731_20181212.tif']\n",
      "True\n",
      "True\n",
      "['v002/sd/2018/sd_060cm_2018/44103/m_4410305_nw_13_060_20180731_20181212.tif']\n",
      "https://naipblobs.blob.core.windows.net/naip/v002/sd/2018/sd_060cm_2018/44103/m_4410305_nw_13_060_20180731_20181212.tif\n",
      "/var/folders/h_/fp7vzm1s46x0fbjfhmjqmlsc0000gn/T/data_barrel/data_barrel/naip_western_europe_azure/source/v002/sd/2018/sd_060cm_2018/44103/m_4410305_nw_13_060_20180731_20181212.tif\n",
      "Data from https://naipblobs.blob.core.windows.net/naip/v002/sd/2018/sd_060cm_2018/44103/m_4410305_nw_13_060_20180731_20181212.tif was retrieved to /var/folders/h_/fp7vzm1s46x0fbjfhmjqmlsc0000gn/T/data_barrel/data_barrel/naip_western_europe_azure/source/v002/sd/2018/sd_060cm_2018/44103/m_4410305_nw_13_060_20180731_20181212.tif.\n",
      "['/var/folders/h_/fp7vzm1s46x0fbjfhmjqmlsc0000gn/T/data_barrel/data_barrel/naip_western_europe_azure/source/v002/sd/2018/sd_060cm_2018/44103/m_4410305_nw_13_060_20180731_20181212.tif']\n",
      "True\n",
      "True\n",
      "['v002/sd/2018/sd_060cm_2018/44103/m_4410312_se_13_060_20180731_20181212.tif']\n",
      "https://naipblobs.blob.core.windows.net/naip/v002/sd/2018/sd_060cm_2018/44103/m_4410312_se_13_060_20180731_20181212.tif\n",
      "/var/folders/h_/fp7vzm1s46x0fbjfhmjqmlsc0000gn/T/data_barrel/data_barrel/naip_western_europe_azure/source/v002/sd/2018/sd_060cm_2018/44103/m_4410312_se_13_060_20180731_20181212.tif\n",
      "Data from https://naipblobs.blob.core.windows.net/naip/v002/sd/2018/sd_060cm_2018/44103/m_4410312_se_13_060_20180731_20181212.tif was retrieved to /var/folders/h_/fp7vzm1s46x0fbjfhmjqmlsc0000gn/T/data_barrel/data_barrel/naip_western_europe_azure/source/v002/sd/2018/sd_060cm_2018/44103/m_4410312_se_13_060_20180731_20181212.tif.\n",
      "['/var/folders/h_/fp7vzm1s46x0fbjfhmjqmlsc0000gn/T/data_barrel/data_barrel/naip_western_europe_azure/source/v002/sd/2018/sd_060cm_2018/44103/m_4410312_se_13_060_20180731_20181212.tif']\n",
      "True\n",
      "True\n"
     ]
    }
   ],
   "source": [
    "gerri.run(points)"
   ]
  },
  {
   "cell_type": "markdown",
   "id": "8fe79711-ed0e-434b-a86d-12677c588db0",
   "metadata": {},
   "source": [
    "## NAIP"
   ]
  },
  {
   "cell_type": "markdown",
   "id": "89f64324-b6e6-4ba3-94d2-41bcf1c98ef9",
   "metadata": {},
   "source": [
    "<div class=\"alert alert-block alert-danger\">\n",
    "    <b>What exactly is this <a href=\"https://planetarycomputer.microsoft.com/dataset/naip#Blob-Storage-Notebook\">Azure blob storage</a>?</b> <br> It seems, as if it does not need authentication, but we would, if we used <a href=\"https://planetarycomputer.microsoft.com/dataset/naip#Example-Notebook\">Planetary Computer STAC API</a> by Microsoft or even Google's <a href=\"https://developers.google.com/earth-engine/datasets/catalog/USDA_NAIP_DOQQ#description\">Earth Engine Data Catalog</a>. Where is the caveat? \n",
    "</div>"
   ]
  },
  {
   "cell_type": "markdown",
   "id": "486be07b-01fd-4ca5-b40f-070461fa5ff0",
   "metadata": {
    "tags": []
   },
   "source": [
    "**Answer:** The explanation was too long to reconstruct for me. But the blob storage is really a path to circumvent the access abrrier in this case."
   ]
  },
  {
   "cell_type": "markdown",
   "id": "9ffa53aa-3fda-45cb-ba7f-b1c8e9763ef4",
   "metadata": {},
   "source": [
    "<div class=\"alert alert-block alert-danger\">\n",
    "    <b>Are the NAIP tiles actually overlapping?</b> <br> I am unsure, whether a location query could lead to multiple tiles within a given year.\n",
    "</div>"
   ]
  },
  {
   "cell_type": "code",
   "execution_count": 6,
   "id": "6088cbcf-261b-4886-8979-a9362856de7b",
   "metadata": {},
   "outputs": [
    {
     "data": {
      "text/plain": [
       "'aa/data_barrel'"
      ]
     },
     "execution_count": 6,
     "metadata": {},
     "output_type": "execute_result"
    }
   ],
   "source": [
    "multidb_wrapper.set_directory(\"aa\")"
   ]
  },
  {
   "cell_type": "code",
   "execution_count": 20,
   "id": "60c18ecf-d59a-4913-b959-e9df32ce0949",
   "metadata": {},
   "outputs": [
    {
     "ename": "AssertionError",
     "evalue": "The lists for latitudes ({len(longitudes)}) and lon (4) have unequal length. Please adjust.",
     "output_type": "error",
     "traceback": [
      "\u001b[0;31m---------------------------------------------------------------------------\u001b[0m",
      "\u001b[0;31mAssertionError\u001b[0m                            Traceback (most recent call last)",
      "\u001b[0;32m<ipython-input-20-061fef75e84d>\u001b[0m in \u001b[0;36m<module>\u001b[0;34m\u001b[0m\n\u001b[0;32m----> 1\u001b[0;31m \u001b[0mmultidb_wrapper\u001b[0m\u001b[0;34m.\u001b[0m\u001b[0mset_locations\u001b[0m\u001b[0;34m(\u001b[0m\u001b[0;34m[\u001b[0m\u001b[0;36m1\u001b[0m\u001b[0;34m,\u001b[0m\u001b[0;36m2\u001b[0m\u001b[0;34m,\u001b[0m\u001b[0;36m2\u001b[0m\u001b[0;34m,\u001b[0m\u001b[0;36m3\u001b[0m\u001b[0;34m]\u001b[0m\u001b[0;34m,\u001b[0m \u001b[0;34m[\u001b[0m\u001b[0;36m2\u001b[0m\u001b[0;34m,\u001b[0m\u001b[0;36m3\u001b[0m\u001b[0;34m,\u001b[0m\u001b[0;36m4\u001b[0m\u001b[0;34m]\u001b[0m\u001b[0;34m)\u001b[0m\u001b[0;34m\u001b[0m\u001b[0;34m\u001b[0m\u001b[0m\n\u001b[0m",
      "\u001b[0;32m~/Desktop/island_in_the_sun/jupyters/2021_06_ranker/Ranker/crows_nest/multidb_wrapper.py\u001b[0m in \u001b[0;36mset_locations\u001b[0;34m(longitudes, latitudes)\u001b[0m\n\u001b[1;32m     52\u001b[0m         f\"lon ({len(longitudes)}) have unequal length. Please adjust.\")\n\u001b[1;32m     53\u001b[0m \u001b[0;34m\u001b[0m\u001b[0m\n\u001b[0;32m---> 54\u001b[0;31m     \u001b[0;32massert\u001b[0m \u001b[0mlen\u001b[0m\u001b[0;34m(\u001b[0m\u001b[0mlongitudes\u001b[0m\u001b[0;34m)\u001b[0m \u001b[0;34m==\u001b[0m \u001b[0mlen\u001b[0m\u001b[0;34m(\u001b[0m\u001b[0mlatitudes\u001b[0m\u001b[0;34m)\u001b[0m\u001b[0;34m,\u001b[0m \u001b[0mLENGTH_ERR_MSG\u001b[0m\u001b[0;34m\u001b[0m\u001b[0;34m\u001b[0m\u001b[0m\n\u001b[0m\u001b[1;32m     55\u001b[0m     locations = [shapely.geometry.point.Point((lon, lat)) for lon, lat in zip(\n\u001b[1;32m     56\u001b[0m         longitudes, latitudes)]\n",
      "\u001b[0;31mAssertionError\u001b[0m: The lists for latitudes ({len(longitudes)}) and lon (4) have unequal length. Please adjust."
     ]
    }
   ],
   "source": [
    "multidb_wrapper.set_locations([1,2,2,3], [2,3,4])"
   ]
  },
  {
   "cell_type": "markdown",
   "id": "5057a9c7-e546-4732-aea1-b99c5e261a39",
   "metadata": {},
   "source": [
    "---"
   ]
  },
  {
   "cell_type": "markdown",
   "id": "a31f3fca-67d6-4444-b1a9-97471a0d50b1",
   "metadata": {},
   "source": [
    "<div class=\"alert alert-block alert-danger\">\n",
    "    <b>How can I see if my image was stored properly in 4 layers?</b> <br> When saving as tif and switching the axes, do I loose a layer?\n",
    "</div>"
   ]
  }
 ],
 "metadata": {
  "kernelspec": {
   "display_name": "Python 3",
   "language": "python",
   "name": "python3"
  },
  "language_info": {
   "codemirror_mode": {
    "name": "ipython",
    "version": 3
   },
   "file_extension": ".py",
   "mimetype": "text/x-python",
   "name": "python",
   "nbconvert_exporter": "python",
   "pygments_lexer": "ipython3",
   "version": "3.9.5"
  }
 },
 "nbformat": 4,
 "nbformat_minor": 5
}

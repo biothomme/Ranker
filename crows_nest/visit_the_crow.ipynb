{
 "cells": [
  {
   "cell_type": "code",
   "execution_count": 1,
   "id": "84561e06-ceda-454e-ba74-c4b50f97a70e",
   "metadata": {},
   "outputs": [
    {
     "name": "stdout",
     "output_type": "stream",
     "text": [
      "3.9.5 (default, May 18 2021, 12:31:01) \n",
      "[Clang 10.0.0 ]\n"
     ]
    }
   ],
   "source": [
    "# Check if python is 3.9.5\n",
    "import sys\n",
    "print(sys.version)\n",
    "%load_ext autoreload\n",
    "%autoreload 2"
   ]
  },
  {
   "cell_type": "code",
   "execution_count": 2,
   "id": "51db5cc8-f076-4e6e-9e73-4bae356fd30a",
   "metadata": {},
   "outputs": [],
   "source": [
    "from datetime import date\n",
    "import numpy as np"
   ]
  },
  {
   "cell_type": "markdown",
   "id": "42563af8-4ec6-49bf-b79b-adcb554270b5",
   "metadata": {},
   "source": [
    "## Code questions"
   ]
  },
  {
   "cell_type": "code",
   "execution_count": 3,
   "id": "3be58f6c-4a4f-455c-afd4-90f5c63a301f",
   "metadata": {},
   "outputs": [],
   "source": [
    "from utils import download_to_path"
   ]
  },
  {
   "cell_type": "code",
   "execution_count": 4,
   "id": "8fdb2ab5-80b3-47a2-a76d-184f222adf90",
   "metadata": {},
   "outputs": [],
   "source": [
    "from utils import write_csv_row"
   ]
  },
  {
   "cell_type": "code",
   "execution_count": 6,
   "id": "29bd99e2-a268-4e1e-ba41-8a3c810c09bf",
   "metadata": {},
   "outputs": [],
   "source": [
    "import cv2"
   ]
  },
  {
   "cell_type": "markdown",
   "id": "971e3b45-3a51-43fa-a38d-93d764168dd8",
   "metadata": {},
   "source": [
    "None"
   ]
  },
  {
   "cell_type": "markdown",
   "id": "cd0d87ce-1f32-4d41-89ba-d5131a2c196c",
   "metadata": {},
   "source": [
    "# Data mining"
   ]
  },
  {
   "cell_type": "code",
   "execution_count": 7,
   "id": "2f74021f-5470-4076-a625-4c5cc4e86b7b",
   "metadata": {},
   "outputs": [],
   "source": [
    "import database_classes\n",
    "from naip_dbm import NAIPData\n",
    "from numpy.random import uniform"
   ]
  },
  {
   "cell_type": "code",
   "execution_count": 8,
   "id": "1beec69b-ab4b-42b7-955b-77a53ede0223",
   "metadata": {},
   "outputs": [],
   "source": [
    "from multidb_wrapper import GetMultiDBData"
   ]
  },
  {
   "cell_type": "code",
   "execution_count": 9,
   "id": "71a77faa-d1b1-4b03-8258-ee766065bbfd",
   "metadata": {},
   "outputs": [],
   "source": [
    "from shapely.geometry import Point"
   ]
  },
  {
   "cell_type": "code",
   "execution_count": 25,
   "id": "7186d0bf-3607-4e6f-817e-f772ab52b648",
   "metadata": {},
   "outputs": [],
   "source": [
    "lat = 44.967243\n",
    "lon = -103.771556\n",
    "\n",
    "# make 10 random points within a given range\n",
    "pont = Point(float(lon),float(lat))\n",
    "points = [Point(float(lon+uniform(-.3,.3)),float(lat+uniform(-.3,.3))) for i in range(5)]"
   ]
  },
  {
   "cell_type": "code",
   "execution_count": 11,
   "id": "2db02633-2be5-426b-8ed2-55483e344c2e",
   "metadata": {},
   "outputs": [],
   "source": [
    "# naip = NAIPData(directory=\"banasna\", features=[\"rgb\", \"ir\"])"
   ]
  },
  {
   "cell_type": "code",
   "execution_count": 12,
   "id": "18c7f385-f521-47ec-907b-2d62ee044cec",
   "metadata": {},
   "outputs": [],
   "source": [
    "# naip.run(points)"
   ]
  },
  {
   "cell_type": "code",
   "execution_count": 13,
   "id": "12477ffc-04b2-4d30-9379-2d1126dd738c",
   "metadata": {},
   "outputs": [],
   "source": [
    "# GetMultiDBData(NAIPData(features=[\"rgb\", \"ir\"]))"
   ]
  },
  {
   "cell_type": "code",
   "execution_count": 19,
   "id": "8ae1896f-accc-4b31-8a17-158ae37d0e7c",
   "metadata": {},
   "outputs": [
    {
     "name": "stdout",
     "output_type": "stream",
     "text": [
      "The default online source `{self.base_url}` will be used instead.\n"
     ]
    }
   ],
   "source": [
    "gerri = GetMultiDBData(NAIPData(features=[\"rgb\", \"ir\"]))"
   ]
  },
  {
   "cell_type": "markdown",
   "id": "ec28e70f-9233-4d08-99c7-1934eae3fe1e",
   "metadata": {},
   "source": [
    "# Attention, currently, we are overwriting the files when we enter new locations!"
   ]
  },
  {
   "cell_type": "code",
   "execution_count": 26,
   "id": "2661cdc6-4bb4-4647-bf3d-d3adeb204e60",
   "metadata": {
    "collapsed": true,
    "jupyter": {
     "outputs_hidden": true
    },
    "tags": []
   },
   "outputs": [
    {
     "name": "stdout",
     "output_type": "stream",
     "text": [
      "As no dates were specified the most recent data will be fetched.\n",
      "logged in\n",
      "v002/sd/2018/sd_060cm_2018/44103/m_4410303_nw_13_060_20180731_20181212.tif\n",
      "https://naipblobs.blob.core.windows.net/naip\n",
      "https://naipblobs.blob.core.windows.net/naip/v002/sd/2018/sd_060cm_2018/44103/m_4410303_nw_13_060_20180731_20181212.tif\n",
      "/var/folders/h_/fp7vzm1s46x0fbjfhmjqmlsc0000gn/T/data_barrel/naip_western_europe_azure/source/v002/sd/2018/sd_060cm_2018/44103/m_4410303_nw_13_060_20180731_20181212.tif\n",
      "Data from https://naipblobs.blob.core.windows.net/naip/v002/sd/2018/sd_060cm_2018/44103/m_4410303_nw_13_060_20180731_20181212.tif was retrieved to /var/folders/h_/fp7vzm1s46x0fbjfhmjqmlsc0000gn/T/data_barrel/naip_western_europe_azure/source/v002/sd/2018/sd_060cm_2018/44103/m_4410303_nw_13_060_20180731_20181212.tif.\n",
      "RGB image for tile at location POINT (-103.7266113312103 44.98390909406123) was successfully downloaded to /var/folders/h_/fp7vzm1s46x0fbjfhmjqmlsc0000gn/T/data_barrel/naip_western_europe_azure/rgb/2021_09_22_loc_1.tif.\n",
      "IR image for tile at location POINT (-103.7266113312103 44.98390909406123) was successfully downloaded to /var/folders/h_/fp7vzm1s46x0fbjfhmjqmlsc0000gn/T/data_barrel/naip_western_europe_azure/rgb/2021_09_22_loc_1.tif.\n",
      "v002/sd/2018/sd_060cm_2018/45103/m_4510360_se_13_060_20180731.tif\n",
      "https://naipblobs.blob.core.windows.net/naip\n",
      "https://naipblobs.blob.core.windows.net/naip/v002/sd/2018/sd_060cm_2018/45103/m_4510360_se_13_060_20180731.tif\n",
      "/var/folders/h_/fp7vzm1s46x0fbjfhmjqmlsc0000gn/T/data_barrel/naip_western_europe_azure/source/v002/sd/2018/sd_060cm_2018/45103/m_4510360_se_13_060_20180731.tif\n",
      "Data from https://naipblobs.blob.core.windows.net/naip/v002/sd/2018/sd_060cm_2018/45103/m_4510360_se_13_060_20180731.tif was retrieved to /var/folders/h_/fp7vzm1s46x0fbjfhmjqmlsc0000gn/T/data_barrel/naip_western_europe_azure/source/v002/sd/2018/sd_060cm_2018/45103/m_4510360_se_13_060_20180731.tif.\n",
      "RGB image for tile at location POINT (-103.5374645660857 45.00566118382068) was successfully downloaded to /var/folders/h_/fp7vzm1s46x0fbjfhmjqmlsc0000gn/T/data_barrel/naip_western_europe_azure/rgb/2021_09_22_loc_2.tif.\n",
      "IR image for tile at location POINT (-103.5374645660857 45.00566118382068) was successfully downloaded to /var/folders/h_/fp7vzm1s46x0fbjfhmjqmlsc0000gn/T/data_barrel/naip_western_europe_azure/rgb/2021_09_22_loc_2.tif.\n",
      "['v002/mt/2019/mt_60cm_2019/45104/m_4510464_ne_13_060_20190913.tif', 'v002/mt/2019/mt_60cm_2019/45104/m_4510464_nw_13_060_20190913.tif']\n",
      "https://naipblobs.blob.core.windows.net/naip\n",
      "https://naipblobs.blob.core.windows.net/naip/v002/mt/2019/mt_60cm_2019/45104/m_4510464_ne_13_060_20190913.tif\n",
      "/var/folders/h_/fp7vzm1s46x0fbjfhmjqmlsc0000gn/T/data_barrel/naip_western_europe_azure/source/v002/mt/2019/mt_60cm_2019/45104/m_4510464_ne_13_060_20190913.tif\n",
      "Data from https://naipblobs.blob.core.windows.net/naip/v002/mt/2019/mt_60cm_2019/45104/m_4510464_ne_13_060_20190913.tif was retrieved to /var/folders/h_/fp7vzm1s46x0fbjfhmjqmlsc0000gn/T/data_barrel/naip_western_europe_azure/source/v002/mt/2019/mt_60cm_2019/45104/m_4510464_ne_13_060_20190913.tif.\n",
      "RGB image for tile at location POINT (-104.0611188970986 45.07836209402709) was successfully downloaded to /var/folders/h_/fp7vzm1s46x0fbjfhmjqmlsc0000gn/T/data_barrel/naip_western_europe_azure/rgb/2021_09_22_loc_3.tif.\n",
      "IR image for tile at location POINT (-104.0611188970986 45.07836209402709) was successfully downloaded to /var/folders/h_/fp7vzm1s46x0fbjfhmjqmlsc0000gn/T/data_barrel/naip_western_europe_azure/rgb/2021_09_22_loc_3.tif.\n",
      "https://naipblobs.blob.core.windows.net/naip\n",
      "https://naipblobs.blob.core.windows.net/naip/v002/mt/2019/mt_60cm_2019/45104/m_4510464_nw_13_060_20190913.tif\n",
      "/var/folders/h_/fp7vzm1s46x0fbjfhmjqmlsc0000gn/T/data_barrel/naip_western_europe_azure/source/v002/mt/2019/mt_60cm_2019/45104/m_4510464_nw_13_060_20190913.tif\n",
      "Data from https://naipblobs.blob.core.windows.net/naip/v002/mt/2019/mt_60cm_2019/45104/m_4510464_nw_13_060_20190913.tif was retrieved to /var/folders/h_/fp7vzm1s46x0fbjfhmjqmlsc0000gn/T/data_barrel/naip_western_europe_azure/source/v002/mt/2019/mt_60cm_2019/45104/m_4510464_nw_13_060_20190913.tif.\n",
      "RGB image for tile at location POINT (-104.0611188970986 45.07836209402709) was successfully downloaded to /var/folders/h_/fp7vzm1s46x0fbjfhmjqmlsc0000gn/T/data_barrel/naip_western_europe_azure/rgb/2021_09_22_loc_3.tif.\n",
      "IR image for tile at location POINT (-104.0611188970986 45.07836209402709) was successfully downloaded to /var/folders/h_/fp7vzm1s46x0fbjfhmjqmlsc0000gn/T/data_barrel/naip_western_europe_azure/rgb/2021_09_22_loc_3.tif.\n",
      "['/var/folders/h_/fp7vzm1s46x0fbjfhmjqmlsc0000gn/T/data_barrel/naip_western_europe_azure/source/v002/mt/2019/mt_60cm_2019/45104/m_4510464_ne_13_060_20190913.tif', '/var/folders/h_/fp7vzm1s46x0fbjfhmjqmlsc0000gn/T/data_barrel/naip_western_europe_azure/source/v002/mt/2019/mt_60cm_2019/45104/m_4510464_nw_13_060_20190913.tif'] ---------------------------------------\n",
      "v002/sd/2018/sd_060cm_2018/45103/m_4510358_sw_13_060_20180811.tif\n",
      "https://naipblobs.blob.core.windows.net/naip\n",
      "https://naipblobs.blob.core.windows.net/naip/v002/sd/2018/sd_060cm_2018/45103/m_4510358_sw_13_060_20180811.tif\n",
      "/var/folders/h_/fp7vzm1s46x0fbjfhmjqmlsc0000gn/T/data_barrel/naip_western_europe_azure/source/v002/sd/2018/sd_060cm_2018/45103/m_4510358_sw_13_060_20180811.tif\n",
      "Data from https://naipblobs.blob.core.windows.net/naip/v002/sd/2018/sd_060cm_2018/45103/m_4510358_sw_13_060_20180811.tif was retrieved to /var/folders/h_/fp7vzm1s46x0fbjfhmjqmlsc0000gn/T/data_barrel/naip_western_europe_azure/source/v002/sd/2018/sd_060cm_2018/45103/m_4510358_sw_13_060_20180811.tif.\n",
      "RGB image for tile at location POINT (-103.8611543609787 45.02538456068206) was successfully downloaded to /var/folders/h_/fp7vzm1s46x0fbjfhmjqmlsc0000gn/T/data_barrel/naip_western_europe_azure/rgb/2021_09_22_loc_4.tif.\n",
      "IR image for tile at location POINT (-103.8611543609787 45.02538456068206) was successfully downloaded to /var/folders/h_/fp7vzm1s46x0fbjfhmjqmlsc0000gn/T/data_barrel/naip_western_europe_azure/rgb/2021_09_22_loc_4.tif.\n",
      "v002/sd/2018/sd_060cm_2018/44103/m_4410319_nw_13_060_20180731_20181212.tif\n",
      "https://naipblobs.blob.core.windows.net/naip\n",
      "https://naipblobs.blob.core.windows.net/naip/v002/sd/2018/sd_060cm_2018/44103/m_4410319_nw_13_060_20180731_20181212.tif\n",
      "/var/folders/h_/fp7vzm1s46x0fbjfhmjqmlsc0000gn/T/data_barrel/naip_western_europe_azure/source/v002/sd/2018/sd_060cm_2018/44103/m_4410319_nw_13_060_20180731_20181212.tif\n",
      "Data from https://naipblobs.blob.core.windows.net/naip/v002/sd/2018/sd_060cm_2018/44103/m_4410319_nw_13_060_20180731_20181212.tif was retrieved to /var/folders/h_/fp7vzm1s46x0fbjfhmjqmlsc0000gn/T/data_barrel/naip_western_europe_azure/source/v002/sd/2018/sd_060cm_2018/44103/m_4410319_nw_13_060_20180731_20181212.tif.\n",
      "RGB image for tile at location POINT (-103.7374747066938 44.69848338321994) was successfully downloaded to /var/folders/h_/fp7vzm1s46x0fbjfhmjqmlsc0000gn/T/data_barrel/naip_western_europe_azure/rgb/2021_09_22_loc_5.tif.\n",
      "IR image for tile at location POINT (-103.7374747066938 44.69848338321994) was successfully downloaded to /var/folders/h_/fp7vzm1s46x0fbjfhmjqmlsc0000gn/T/data_barrel/naip_western_europe_azure/rgb/2021_09_22_loc_5.tif.\n",
      "logged in\n",
      "v002/sd/2018/sd_060cm_2018/44103/m_4410303_nw_13_060_20180731_20181212.tif\n",
      "https://naipblobs.blob.core.windows.net/naip\n",
      "https://naipblobs.blob.core.windows.net/naip/v002/sd/2018/sd_060cm_2018/44103/m_4410303_nw_13_060_20180731_20181212.tif\n",
      "/var/folders/h_/fp7vzm1s46x0fbjfhmjqmlsc0000gn/T/data_barrel/naip_western_europe_azure/source/v002/sd/2018/sd_060cm_2018/44103/m_4410303_nw_13_060_20180731_20181212.tif already exists. It will not be overwritten.\n",
      "RGB image for tile at location POINT (-103.7266113312103 44.98390909406123) was successfully downloaded to /var/folders/h_/fp7vzm1s46x0fbjfhmjqmlsc0000gn/T/data_barrel/naip_western_europe_azure/rgb/2021_09_22_loc_1.tif.\n",
      "IR image for tile at location POINT (-103.7266113312103 44.98390909406123) was successfully downloaded to /var/folders/h_/fp7vzm1s46x0fbjfhmjqmlsc0000gn/T/data_barrel/naip_western_europe_azure/rgb/2021_09_22_loc_1.tif.\n",
      "v002/sd/2018/sd_060cm_2018/45103/m_4510360_se_13_060_20180731.tif\n",
      "https://naipblobs.blob.core.windows.net/naip\n",
      "https://naipblobs.blob.core.windows.net/naip/v002/sd/2018/sd_060cm_2018/45103/m_4510360_se_13_060_20180731.tif\n",
      "/var/folders/h_/fp7vzm1s46x0fbjfhmjqmlsc0000gn/T/data_barrel/naip_western_europe_azure/source/v002/sd/2018/sd_060cm_2018/45103/m_4510360_se_13_060_20180731.tif already exists. It will not be overwritten.\n",
      "RGB image for tile at location POINT (-103.5374645660857 45.00566118382068) was successfully downloaded to /var/folders/h_/fp7vzm1s46x0fbjfhmjqmlsc0000gn/T/data_barrel/naip_western_europe_azure/rgb/2021_09_22_loc_2.tif.\n",
      "IR image for tile at location POINT (-103.5374645660857 45.00566118382068) was successfully downloaded to /var/folders/h_/fp7vzm1s46x0fbjfhmjqmlsc0000gn/T/data_barrel/naip_western_europe_azure/rgb/2021_09_22_loc_2.tif.\n",
      "['v002/mt/2019/mt_60cm_2019/45104/m_4510464_ne_13_060_20190913.tif', 'v002/mt/2019/mt_60cm_2019/45104/m_4510464_nw_13_060_20190913.tif']\n",
      "https://naipblobs.blob.core.windows.net/naip\n",
      "https://naipblobs.blob.core.windows.net/naip/v002/mt/2019/mt_60cm_2019/45104/m_4510464_ne_13_060_20190913.tif\n",
      "/var/folders/h_/fp7vzm1s46x0fbjfhmjqmlsc0000gn/T/data_barrel/naip_western_europe_azure/source/v002/mt/2019/mt_60cm_2019/45104/m_4510464_ne_13_060_20190913.tif already exists. It will not be overwritten.\n",
      "RGB image for tile at location POINT (-104.0611188970986 45.07836209402709) was successfully downloaded to /var/folders/h_/fp7vzm1s46x0fbjfhmjqmlsc0000gn/T/data_barrel/naip_western_europe_azure/rgb/2021_09_22_loc_3.tif.\n",
      "IR image for tile at location POINT (-104.0611188970986 45.07836209402709) was successfully downloaded to /var/folders/h_/fp7vzm1s46x0fbjfhmjqmlsc0000gn/T/data_barrel/naip_western_europe_azure/rgb/2021_09_22_loc_3.tif.\n",
      "https://naipblobs.blob.core.windows.net/naip\n",
      "https://naipblobs.blob.core.windows.net/naip/v002/mt/2019/mt_60cm_2019/45104/m_4510464_nw_13_060_20190913.tif\n",
      "/var/folders/h_/fp7vzm1s46x0fbjfhmjqmlsc0000gn/T/data_barrel/naip_western_europe_azure/source/v002/mt/2019/mt_60cm_2019/45104/m_4510464_nw_13_060_20190913.tif already exists. It will not be overwritten.\n",
      "RGB image for tile at location POINT (-104.0611188970986 45.07836209402709) was successfully downloaded to /var/folders/h_/fp7vzm1s46x0fbjfhmjqmlsc0000gn/T/data_barrel/naip_western_europe_azure/rgb/2021_09_22_loc_3.tif.\n",
      "IR image for tile at location POINT (-104.0611188970986 45.07836209402709) was successfully downloaded to /var/folders/h_/fp7vzm1s46x0fbjfhmjqmlsc0000gn/T/data_barrel/naip_western_europe_azure/rgb/2021_09_22_loc_3.tif.\n",
      "['/var/folders/h_/fp7vzm1s46x0fbjfhmjqmlsc0000gn/T/data_barrel/naip_western_europe_azure/source/v002/mt/2019/mt_60cm_2019/45104/m_4510464_ne_13_060_20190913.tif', '/var/folders/h_/fp7vzm1s46x0fbjfhmjqmlsc0000gn/T/data_barrel/naip_western_europe_azure/source/v002/mt/2019/mt_60cm_2019/45104/m_4510464_nw_13_060_20190913.tif'] ---------------------------------------\n",
      "v002/sd/2018/sd_060cm_2018/45103/m_4510358_sw_13_060_20180811.tif\n",
      "https://naipblobs.blob.core.windows.net/naip\n",
      "https://naipblobs.blob.core.windows.net/naip/v002/sd/2018/sd_060cm_2018/45103/m_4510358_sw_13_060_20180811.tif\n",
      "/var/folders/h_/fp7vzm1s46x0fbjfhmjqmlsc0000gn/T/data_barrel/naip_western_europe_azure/source/v002/sd/2018/sd_060cm_2018/45103/m_4510358_sw_13_060_20180811.tif already exists. It will not be overwritten.\n",
      "RGB image for tile at location POINT (-103.8611543609787 45.02538456068206) was successfully downloaded to /var/folders/h_/fp7vzm1s46x0fbjfhmjqmlsc0000gn/T/data_barrel/naip_western_europe_azure/rgb/2021_09_22_loc_4.tif.\n",
      "IR image for tile at location POINT (-103.8611543609787 45.02538456068206) was successfully downloaded to /var/folders/h_/fp7vzm1s46x0fbjfhmjqmlsc0000gn/T/data_barrel/naip_western_europe_azure/rgb/2021_09_22_loc_4.tif.\n",
      "v002/sd/2018/sd_060cm_2018/44103/m_4410319_nw_13_060_20180731_20181212.tif\n",
      "https://naipblobs.blob.core.windows.net/naip\n",
      "https://naipblobs.blob.core.windows.net/naip/v002/sd/2018/sd_060cm_2018/44103/m_4410319_nw_13_060_20180731_20181212.tif\n",
      "/var/folders/h_/fp7vzm1s46x0fbjfhmjqmlsc0000gn/T/data_barrel/naip_western_europe_azure/source/v002/sd/2018/sd_060cm_2018/44103/m_4410319_nw_13_060_20180731_20181212.tif already exists. It will not be overwritten.\n",
      "RGB image for tile at location POINT (-103.7374747066938 44.69848338321994) was successfully downloaded to /var/folders/h_/fp7vzm1s46x0fbjfhmjqmlsc0000gn/T/data_barrel/naip_western_europe_azure/rgb/2021_09_22_loc_5.tif.\n",
      "IR image for tile at location POINT (-103.7374747066938 44.69848338321994) was successfully downloaded to /var/folders/h_/fp7vzm1s46x0fbjfhmjqmlsc0000gn/T/data_barrel/naip_western_europe_azure/rgb/2021_09_22_loc_5.tif.\n",
      "logged in\n",
      "v002/sd/2018/sd_060cm_2018/44103/m_4410303_nw_13_060_20180731_20181212.tif\n",
      "https://naipblobs.blob.core.windows.net/naip\n",
      "https://naipblobs.blob.core.windows.net/naip/v002/sd/2018/sd_060cm_2018/44103/m_4410303_nw_13_060_20180731_20181212.tif\n",
      "/var/folders/h_/fp7vzm1s46x0fbjfhmjqmlsc0000gn/T/data_barrel/naip_western_europe_azure/source/v002/sd/2018/sd_060cm_2018/44103/m_4410303_nw_13_060_20180731_20181212.tif already exists. It will not be overwritten.\n",
      "RGB image for tile at location POINT (-103.7266113312103 44.98390909406123) was successfully downloaded to /var/folders/h_/fp7vzm1s46x0fbjfhmjqmlsc0000gn/T/data_barrel/naip_western_europe_azure/rgb/2021_09_22_loc_1.tif.\n",
      "IR image for tile at location POINT (-103.7266113312103 44.98390909406123) was successfully downloaded to /var/folders/h_/fp7vzm1s46x0fbjfhmjqmlsc0000gn/T/data_barrel/naip_western_europe_azure/rgb/2021_09_22_loc_1.tif.\n",
      "v002/sd/2018/sd_060cm_2018/45103/m_4510360_se_13_060_20180731.tif\n",
      "https://naipblobs.blob.core.windows.net/naip\n",
      "https://naipblobs.blob.core.windows.net/naip/v002/sd/2018/sd_060cm_2018/45103/m_4510360_se_13_060_20180731.tif\n",
      "/var/folders/h_/fp7vzm1s46x0fbjfhmjqmlsc0000gn/T/data_barrel/naip_western_europe_azure/source/v002/sd/2018/sd_060cm_2018/45103/m_4510360_se_13_060_20180731.tif already exists. It will not be overwritten.\n",
      "RGB image for tile at location POINT (-103.5374645660857 45.00566118382068) was successfully downloaded to /var/folders/h_/fp7vzm1s46x0fbjfhmjqmlsc0000gn/T/data_barrel/naip_western_europe_azure/rgb/2021_09_22_loc_2.tif.\n",
      "IR image for tile at location POINT (-103.5374645660857 45.00566118382068) was successfully downloaded to /var/folders/h_/fp7vzm1s46x0fbjfhmjqmlsc0000gn/T/data_barrel/naip_western_europe_azure/rgb/2021_09_22_loc_2.tif.\n",
      "['v002/mt/2019/mt_60cm_2019/45104/m_4510464_ne_13_060_20190913.tif', 'v002/mt/2019/mt_60cm_2019/45104/m_4510464_nw_13_060_20190913.tif']\n",
      "https://naipblobs.blob.core.windows.net/naip\n",
      "https://naipblobs.blob.core.windows.net/naip/v002/mt/2019/mt_60cm_2019/45104/m_4510464_ne_13_060_20190913.tif\n",
      "/var/folders/h_/fp7vzm1s46x0fbjfhmjqmlsc0000gn/T/data_barrel/naip_western_europe_azure/source/v002/mt/2019/mt_60cm_2019/45104/m_4510464_ne_13_060_20190913.tif already exists. It will not be overwritten.\n",
      "RGB image for tile at location POINT (-104.0611188970986 45.07836209402709) was successfully downloaded to /var/folders/h_/fp7vzm1s46x0fbjfhmjqmlsc0000gn/T/data_barrel/naip_western_europe_azure/rgb/2021_09_22_loc_3.tif.\n",
      "IR image for tile at location POINT (-104.0611188970986 45.07836209402709) was successfully downloaded to /var/folders/h_/fp7vzm1s46x0fbjfhmjqmlsc0000gn/T/data_barrel/naip_western_europe_azure/rgb/2021_09_22_loc_3.tif.\n",
      "https://naipblobs.blob.core.windows.net/naip\n",
      "https://naipblobs.blob.core.windows.net/naip/v002/mt/2019/mt_60cm_2019/45104/m_4510464_nw_13_060_20190913.tif\n",
      "/var/folders/h_/fp7vzm1s46x0fbjfhmjqmlsc0000gn/T/data_barrel/naip_western_europe_azure/source/v002/mt/2019/mt_60cm_2019/45104/m_4510464_nw_13_060_20190913.tif already exists. It will not be overwritten.\n",
      "RGB image for tile at location POINT (-104.0611188970986 45.07836209402709) was successfully downloaded to /var/folders/h_/fp7vzm1s46x0fbjfhmjqmlsc0000gn/T/data_barrel/naip_western_europe_azure/rgb/2021_09_22_loc_3.tif.\n",
      "IR image for tile at location POINT (-104.0611188970986 45.07836209402709) was successfully downloaded to /var/folders/h_/fp7vzm1s46x0fbjfhmjqmlsc0000gn/T/data_barrel/naip_western_europe_azure/rgb/2021_09_22_loc_3.tif.\n",
      "['/var/folders/h_/fp7vzm1s46x0fbjfhmjqmlsc0000gn/T/data_barrel/naip_western_europe_azure/source/v002/mt/2019/mt_60cm_2019/45104/m_4510464_ne_13_060_20190913.tif', '/var/folders/h_/fp7vzm1s46x0fbjfhmjqmlsc0000gn/T/data_barrel/naip_western_europe_azure/source/v002/mt/2019/mt_60cm_2019/45104/m_4510464_nw_13_060_20190913.tif'] ---------------------------------------\n",
      "v002/sd/2018/sd_060cm_2018/45103/m_4510358_sw_13_060_20180811.tif\n",
      "https://naipblobs.blob.core.windows.net/naip\n",
      "https://naipblobs.blob.core.windows.net/naip/v002/sd/2018/sd_060cm_2018/45103/m_4510358_sw_13_060_20180811.tif\n",
      "/var/folders/h_/fp7vzm1s46x0fbjfhmjqmlsc0000gn/T/data_barrel/naip_western_europe_azure/source/v002/sd/2018/sd_060cm_2018/45103/m_4510358_sw_13_060_20180811.tif already exists. It will not be overwritten.\n",
      "RGB image for tile at location POINT (-103.8611543609787 45.02538456068206) was successfully downloaded to /var/folders/h_/fp7vzm1s46x0fbjfhmjqmlsc0000gn/T/data_barrel/naip_western_europe_azure/rgb/2021_09_22_loc_4.tif.\n",
      "IR image for tile at location POINT (-103.8611543609787 45.02538456068206) was successfully downloaded to /var/folders/h_/fp7vzm1s46x0fbjfhmjqmlsc0000gn/T/data_barrel/naip_western_europe_azure/rgb/2021_09_22_loc_4.tif.\n",
      "v002/sd/2018/sd_060cm_2018/44103/m_4410319_nw_13_060_20180731_20181212.tif\n",
      "https://naipblobs.blob.core.windows.net/naip\n",
      "https://naipblobs.blob.core.windows.net/naip/v002/sd/2018/sd_060cm_2018/44103/m_4410319_nw_13_060_20180731_20181212.tif\n",
      "/var/folders/h_/fp7vzm1s46x0fbjfhmjqmlsc0000gn/T/data_barrel/naip_western_europe_azure/source/v002/sd/2018/sd_060cm_2018/44103/m_4410319_nw_13_060_20180731_20181212.tif already exists. It will not be overwritten.\n",
      "RGB image for tile at location POINT (-103.7374747066938 44.69848338321994) was successfully downloaded to /var/folders/h_/fp7vzm1s46x0fbjfhmjqmlsc0000gn/T/data_barrel/naip_western_europe_azure/rgb/2021_09_22_loc_5.tif.\n",
      "IR image for tile at location POINT (-103.7374747066938 44.69848338321994) was successfully downloaded to /var/folders/h_/fp7vzm1s46x0fbjfhmjqmlsc0000gn/T/data_barrel/naip_western_europe_azure/rgb/2021_09_22_loc_5.tif.\n"
     ]
    }
   ],
   "source": [
    "gerri.run(points)"
   ]
  },
  {
   "cell_type": "markdown",
   "id": "d9fac238-ece2-4162-8aa4-12deb6e08c26",
   "metadata": {},
   "source": [
    "Perfect, there is one place with a large overlap, that could be used for trying the stitch protocoll:\n",
    "45.07836209402709°N 104.0611188970986°W (`POINT (-104.0611188970986 45.07836209402709)`)\n",
    "on google maps [here](https://www.google.at/maps/place/45%C2%B004'42.1%22N+104%C2%B003'40.0%22W/@45.0784439,-104.0619828,329m/data=!3m1!1e3!4m5!3m4!1s0x0:0x0!8m2!3d45.0783621!4d-104.0611189).\n",
    "All the the files can be found in `/var/folders/h_/fp7vzm1s46x0fbjfhmjqmlsc0000gn/T/data_barrel/naip_western_europe_azure/source/v002/mt/2019/mt_60cm_2019/45104/` and are overlapping. we transfer them to the local dir."
   ]
  },
  {
   "cell_type": "code",
   "execution_count": 10,
   "id": "6f206d40-4754-41b6-9681-7cf7fd78162b",
   "metadata": {},
   "outputs": [],
   "source": [
    "target_point = Point(-104.0611188970986, 45.07836209402709)"
   ]
  },
  {
   "cell_type": "code",
   "execution_count": 63,
   "id": "7d218f9b-54d4-4a96-9a39-f8feee17e1d7",
   "metadata": {},
   "outputs": [
    {
     "ename": "IndentationError",
     "evalue": "expected an indented block (<ipython-input-63-677747fd4e6d>, line 18)",
     "output_type": "error",
     "traceback": [
      "\u001b[0;36m  File \u001b[0;32m\"<ipython-input-63-677747fd4e6d>\"\u001b[0;36m, line \u001b[0;32m18\u001b[0m\n\u001b[0;31m    \u001b[0m\n\u001b[0m    ^\u001b[0m\n\u001b[0;31mIndentationError\u001b[0m\u001b[0;31m:\u001b[0m expected an indented block\n"
     ]
    }
   ],
   "source": [
    "class FileStitcher:\n",
    "    '''\n",
    "    Assembler of multiple files to one tile of given\n",
    "    edgelength in pixel centered around a location.\n",
    "    '''\n",
    "    def __init__(self, location, tile_size_in_pixels,\n",
    "                features):\n",
    "        '''\n",
    "        Construct with locations (shapely.geometry.Point) and \n",
    "        tile sizes given.\n",
    "        '''\n",
    "        self.location = location\n",
    "        self.tile_size = tile_size_in_pixels\n",
    "        self.features = features\n",
    "        return\n",
    "    \n",
    "    \n",
    "    def stitch_image(self, list_of_images: list):\n",
    "        for image in list_of_images:\n",
    "            make_temp_image(self, image_path)\n",
    "        return\n",
    "    \n",
    "    \n",
    "    def make_temp_image(self, image_path):\n",
    "    '''\n",
    "    Extract the focal tile (often partial) from a given image and store it.\n",
    "    '''\n",
    "    from fiona.transform import transform\n",
    "    import numpy as np\n",
    "    import rasterio\n",
    "\n",
    "    IO_CRS = \"epsg:4326\"\n",
    "\n",
    "    half_edge = int(self.tile_size/2)\n",
    "    file_name = rawdata_path.replace(\".tif\", \"rgb.tif\")\n",
    "    \n",
    "    with rasterio.open(image_path) as image:\n",
    "        # here coordinates need to be shifted from the input crs to\n",
    "        # the tif image crs and later converted to pixel\n",
    "        location_in_img_crs = [p[0] for p in transform(\n",
    "            IO_CRS, image.crs.to_string(),\n",
    "            [self.location.x], [self.location.y])]\n",
    "        location_in_img_pix = [\n",
    "            int(np.floor(p)) for p in\n",
    "            ~image.transform * location_in_img_crs]\n",
    "\n",
    "        # a window around the tile can be produced\n",
    "        borders = [int(np.floor(p)) for p in\n",
    "            ~image.transform * [image.bounds[2], image.bounds[1]]]\n",
    "        \n",
    "        # to avoid cutting a too large window, we define some edges\n",
    "        # and lengths that help orienting\n",
    "        wdw_left_edge = max([0, location_in_img_pix[0]-half_edge])\n",
    "        wdw_top_edge = max([0, location_in_img_pix[1]-half_edge])\n",
    "        wdw_right_edge = max([0, location_in_img_pix[0]+half_edge])\n",
    "        wdw_bottom_edge = max([0, location_in_img_pix[1]+half_edge])\n",
    "\n",
    "        wdw_height = min(\n",
    "            [borders[1] - wdw_top_edge,  # dist btwn leftbrd and top wdw edge  \n",
    "             self.tile_size,  # tile size\n",
    "             wdw_bottom_edge]) # dist btwn rightbrd and bottom wdw edge  \n",
    "        wdw_width = min(\n",
    "            [borders[0] - wdw_left_edge,\n",
    "             self.tile_size, \n",
    "             dw_right_edge])\n",
    "\n",
    "        wdw = rasterio.windows.Window(\n",
    "            wdw_left_edge,\n",
    "            wdw_top_edge,\n",
    "            wdw_width,\n",
    "            wdw_height)\n",
    "        image_tile = image.read(window=wdw)\n",
    "        kwargs = image.meta.copy()\n",
    "        kwargs.update({\n",
    "            'height': wdw.height,\n",
    "            'width': wdw.width,\n",
    "            'transform': rasterio.windows.transform(wdw, image.transform)})\n",
    "            # store the tiles in rgb or ir image, if requested\n",
    "        images_produced = {}\n",
    "    for profile, phot_prof in zip([\"rgb\", \"ir\"], [\"RGB\", \"Grayscale\"]):\n",
    "        if True: # profile in feature.keys()\n",
    "            try:\n",
    "                with rasterio.open(\n",
    "                        file_name.replace(\"rgb\", profile), \"w\",\n",
    "                        photometric=phot_prof, **kwargs) as file:\n",
    "                    if profile == \"rgb\":\n",
    "                        file.write(image_tile)\n",
    "                    else:  # TODO: how to save as greyscale image?\n",
    "                        file.write(image_tile[3] , indexes=1)  # we only store the last layer.\n",
    "            except IOError as err:\n",
    "                pass\n",
    "            else:\n",
    "                images_produced[profile] = file_name.replace(\"rgb\", profile)\n",
    "    return images_produced\n",
    "        \n",
    "        "
   ]
  },
  {
   "cell_type": "code",
   "execution_count": 47,
   "id": "6bde4e2b-463b-4ad2-95fd-484ab6e08d69",
   "metadata": {},
   "outputs": [],
   "source": [
    "rawdata_path = \"m_4510464_ne_13_060_20190913.tif\"\n",
    "\n",
    "file_name = rawdata_path.replace(\".tif\", \"rgb.tif\")\n",
    "tile_size_pixels = 5000\n",
    "location = target_point"
   ]
  },
  {
   "cell_type": "code",
   "execution_count": 64,
   "id": "5f81ac9d-8ffc-4b5b-ad65-dd1d9c7e96eb",
   "metadata": {
    "tags": []
   },
   "outputs": [],
   "source": []
  },
  {
   "cell_type": "code",
   "execution_count": 54,
   "id": "720c7bcc-97c9-4737-b4ed-ae2f8898ad77",
   "metadata": {},
   "outputs": [],
   "source": [
    "a = cv2.imread(\"m_4510464_ne_13_060_20190913rgb.tif\")\n",
    "b = cv2.imread(\"m_4510464_nw_13_060_20190913rgb.tif\")"
   ]
  },
  {
   "cell_type": "code",
   "execution_count": null,
   "id": "f6cd89ab-0134-4dd1-9609-6aa4f5381b55",
   "metadata": {},
   "outputs": [],
   "source": [
    "stitcher = cv2.Stitcher_create()"
   ]
  },
  {
   "cell_type": "code",
   "execution_count": 55,
   "id": "5ff1b254-36a7-4301-80cf-ddc8c992c8ae",
   "metadata": {},
   "outputs": [],
   "source": [
    "(status, stitched) = stitcher.stitch([a,b])"
   ]
  },
  {
   "cell_type": "code",
   "execution_count": 56,
   "id": "438a2d67-f99e-47e9-8838-f1ce30b3afd5",
   "metadata": {},
   "outputs": [
    {
     "data": {
      "text/plain": [
       "0"
      ]
     },
     "execution_count": 56,
     "metadata": {},
     "output_type": "execute_result"
    }
   ],
   "source": [
    "status"
   ]
  },
  {
   "cell_type": "code",
   "execution_count": 59,
   "id": "8be61048-5e6d-47e8-aa04-8a437a590b73",
   "metadata": {},
   "outputs": [
    {
     "data": {
      "text/plain": [
       "True"
      ]
     },
     "execution_count": 59,
     "metadata": {},
     "output_type": "execute_result"
    }
   ],
   "source": [
    "cv2.imwrite(\"stitched.tif\", stitched)"
   ]
  },
  {
   "cell_type": "code",
   "execution_count": 58,
   "id": "4ff8ceac-295f-407d-a8c8-4c41538219cb",
   "metadata": {
    "tags": []
   },
   "outputs": [
    {
     "ename": "ValueError",
     "evalue": "Source shape (4986, 4994, 3) is inconsistent with given indexes 4",
     "output_type": "error",
     "traceback": [
      "\u001b[0;31m---------------------------------------------------------------------------\u001b[0m",
      "\u001b[0;31mValueError\u001b[0m                                Traceback (most recent call last)",
      "\u001b[0;32m<ipython-input-58-624be6c6fdbb>\u001b[0m in \u001b[0;36m<module>\u001b[0;34m\u001b[0m\n\u001b[1;32m      7\u001b[0m                     photometric=phot_prof, **kwargs) as file:\n\u001b[1;32m      8\u001b[0m                 \u001b[0;32mif\u001b[0m \u001b[0mprofile\u001b[0m \u001b[0;34m==\u001b[0m \u001b[0;34m\"rgb\"\u001b[0m\u001b[0;34m:\u001b[0m\u001b[0;34m\u001b[0m\u001b[0;34m\u001b[0m\u001b[0m\n\u001b[0;32m----> 9\u001b[0;31m                     \u001b[0mfile\u001b[0m\u001b[0;34m.\u001b[0m\u001b[0mwrite\u001b[0m\u001b[0;34m(\u001b[0m\u001b[0mstitched\u001b[0m\u001b[0;34m)\u001b[0m\u001b[0;34m\u001b[0m\u001b[0;34m\u001b[0m\u001b[0m\n\u001b[0m\u001b[1;32m     10\u001b[0m                 \u001b[0;32melse\u001b[0m\u001b[0;34m:\u001b[0m  \u001b[0;31m# TODO: how to save as greyscale image?\u001b[0m\u001b[0;34m\u001b[0m\u001b[0;34m\u001b[0m\u001b[0m\n\u001b[1;32m     11\u001b[0m                     \u001b[0mfile\u001b[0m\u001b[0;34m.\u001b[0m\u001b[0mwrite\u001b[0m\u001b[0;34m(\u001b[0m\u001b[0mstitched\u001b[0m\u001b[0;34m[\u001b[0m\u001b[0;36m2\u001b[0m\u001b[0;34m]\u001b[0m \u001b[0;34m,\u001b[0m \u001b[0mindexes\u001b[0m\u001b[0;34m=\u001b[0m\u001b[0;36m1\u001b[0m\u001b[0;34m)\u001b[0m  \u001b[0;31m# we only store the last layer.\u001b[0m\u001b[0;34m\u001b[0m\u001b[0;34m\u001b[0m\u001b[0m\n",
      "\u001b[0;32mrasterio/_io.pyx\u001b[0m in \u001b[0;36mrasterio._io.DatasetWriterBase.write\u001b[0;34m()\u001b[0m\n",
      "\u001b[0;31mValueError\u001b[0m: Source shape (4986, 4994, 3) is inconsistent with given indexes 4"
     ]
    }
   ],
   "source": []
  },
  {
   "cell_type": "markdown",
   "id": "8fe79711-ed0e-434b-a86d-12677c588db0",
   "metadata": {},
   "source": [
    "## NAIP"
   ]
  },
  {
   "cell_type": "markdown",
   "id": "89f64324-b6e6-4ba3-94d2-41bcf1c98ef9",
   "metadata": {},
   "source": [
    "<div class=\"alert alert-block alert-danger\">\n",
    "    <b>What exactly is this <a href=\"https://planetarycomputer.microsoft.com/dataset/naip#Blob-Storage-Notebook\">Azure blob storage</a>?</b> <br> It seems, as if it does not need authentication, but we would, if we used <a href=\"https://planetarycomputer.microsoft.com/dataset/naip#Example-Notebook\">Planetary Computer STAC API</a> by Microsoft or even Google's <a href=\"https://developers.google.com/earth-engine/datasets/catalog/USDA_NAIP_DOQQ#description\">Earth Engine Data Catalog</a>. Where is the caveat? \n",
    "</div>"
   ]
  },
  {
   "cell_type": "markdown",
   "id": "486be07b-01fd-4ca5-b40f-070461fa5ff0",
   "metadata": {
    "tags": []
   },
   "source": [
    "**Answer:** The explanation was too long to reconstruct for me. But the blob storage is really a path to circumvent the access abrrier in this case."
   ]
  },
  {
   "cell_type": "markdown",
   "id": "9ffa53aa-3fda-45cb-ba7f-b1c8e9763ef4",
   "metadata": {},
   "source": [
    "<div class=\"alert alert-block alert-danger\">\n",
    "    <b>Are the NAIP tiles actually overlapping?</b> <br> I am unsure, whether a location query could lead to multiple tiles within a given year.\n",
    "</div>"
   ]
  },
  {
   "cell_type": "code",
   "execution_count": 6,
   "id": "6088cbcf-261b-4886-8979-a9362856de7b",
   "metadata": {},
   "outputs": [
    {
     "data": {
      "text/plain": [
       "'aa/data_barrel'"
      ]
     },
     "execution_count": 6,
     "metadata": {},
     "output_type": "execute_result"
    }
   ],
   "source": [
    "multidb_wrapper.set_directory(\"aa\")"
   ]
  },
  {
   "cell_type": "code",
   "execution_count": 20,
   "id": "60c18ecf-d59a-4913-b959-e9df32ce0949",
   "metadata": {},
   "outputs": [
    {
     "ename": "AssertionError",
     "evalue": "The lists for latitudes ({len(longitudes)}) and lon (4) have unequal length. Please adjust.",
     "output_type": "error",
     "traceback": [
      "\u001b[0;31m---------------------------------------------------------------------------\u001b[0m",
      "\u001b[0;31mAssertionError\u001b[0m                            Traceback (most recent call last)",
      "\u001b[0;32m<ipython-input-20-061fef75e84d>\u001b[0m in \u001b[0;36m<module>\u001b[0;34m\u001b[0m\n\u001b[0;32m----> 1\u001b[0;31m \u001b[0mmultidb_wrapper\u001b[0m\u001b[0;34m.\u001b[0m\u001b[0mset_locations\u001b[0m\u001b[0;34m(\u001b[0m\u001b[0;34m[\u001b[0m\u001b[0;36m1\u001b[0m\u001b[0;34m,\u001b[0m\u001b[0;36m2\u001b[0m\u001b[0;34m,\u001b[0m\u001b[0;36m2\u001b[0m\u001b[0;34m,\u001b[0m\u001b[0;36m3\u001b[0m\u001b[0;34m]\u001b[0m\u001b[0;34m,\u001b[0m \u001b[0;34m[\u001b[0m\u001b[0;36m2\u001b[0m\u001b[0;34m,\u001b[0m\u001b[0;36m3\u001b[0m\u001b[0;34m,\u001b[0m\u001b[0;36m4\u001b[0m\u001b[0;34m]\u001b[0m\u001b[0;34m)\u001b[0m\u001b[0;34m\u001b[0m\u001b[0;34m\u001b[0m\u001b[0m\n\u001b[0m",
      "\u001b[0;32m~/Desktop/island_in_the_sun/jupyters/2021_06_ranker/Ranker/crows_nest/multidb_wrapper.py\u001b[0m in \u001b[0;36mset_locations\u001b[0;34m(longitudes, latitudes)\u001b[0m\n\u001b[1;32m     52\u001b[0m         f\"lon ({len(longitudes)}) have unequal length. Please adjust.\")\n\u001b[1;32m     53\u001b[0m \u001b[0;34m\u001b[0m\u001b[0m\n\u001b[0;32m---> 54\u001b[0;31m     \u001b[0;32massert\u001b[0m \u001b[0mlen\u001b[0m\u001b[0;34m(\u001b[0m\u001b[0mlongitudes\u001b[0m\u001b[0;34m)\u001b[0m \u001b[0;34m==\u001b[0m \u001b[0mlen\u001b[0m\u001b[0;34m(\u001b[0m\u001b[0mlatitudes\u001b[0m\u001b[0;34m)\u001b[0m\u001b[0;34m,\u001b[0m \u001b[0mLENGTH_ERR_MSG\u001b[0m\u001b[0;34m\u001b[0m\u001b[0;34m\u001b[0m\u001b[0m\n\u001b[0m\u001b[1;32m     55\u001b[0m     locations = [shapely.geometry.point.Point((lon, lat)) for lon, lat in zip(\n\u001b[1;32m     56\u001b[0m         longitudes, latitudes)]\n",
      "\u001b[0;31mAssertionError\u001b[0m: The lists for latitudes ({len(longitudes)}) and lon (4) have unequal length. Please adjust."
     ]
    }
   ],
   "source": [
    "multidb_wrapper.set_locations([1,2,2,3], [2,3,4])"
   ]
  },
  {
   "cell_type": "markdown",
   "id": "5057a9c7-e546-4732-aea1-b99c5e261a39",
   "metadata": {},
   "source": [
    "---"
   ]
  },
  {
   "cell_type": "code",
   "execution_count": 47,
   "id": "77ca011c-cf67-4e26-9996-dafbbce8ce97",
   "metadata": {},
   "outputs": [],
   "source": [
    "\n",
    "\n",
    "# code is again adjusted from ref01 - I dropped tom augspurger a mail\n",
    "location = pont\n",
    "tile_size_pixels = 500\n",
    "query_url = \"https://naipblobs.blob.core.windows.net/naip/v002/or/2016/or_100cm_2016/44118/m_4411830_se_11_1_20160721.tif\"\n",
    "file_name = \"ahka_rgb.tif\"\n",
    "features = {\"rgb\": True, \"ir\": True}\n",
    "def fetch_best_tile(location, tile_size_pixels, query_url,\n",
    "                    file_name, features, silent=False):\n",
    "    '''\n",
    "    Download a tile of tile_size_pixels x tile_size_pixels of NAIP\n",
    "    image centered around location, retrieved from query_url and\n",
    "    to be stored as file_name.\n",
    "    '''\n",
    "    from fiona.transform import transform\n",
    "    import numpy as np\n",
    "    import rasterio\n",
    "\n",
    "    IO_CRS = \"epsg:4326\"\n",
    "\n",
    "    half_edge = int(tile_size_pixels/2)\n",
    "    with rasterio.open(query_url) as image:\n",
    "        # here coordinates need to be shifted from the input crs to\n",
    "        # the tif image crs and later converted to pixel\n",
    "        location_in_img_crs = [p[0] for p in transform(\n",
    "            IO_CRS, image.crs.to_string(), [location.x], [location.y])]\n",
    "        location_in_img_pix = [\n",
    "            int(np.floor(p)) for p in\n",
    "            ~image.transform * location_in_img_crs]\n",
    "\n",
    "        # a window around the tile can be produced\n",
    "        wdw = rasterio.windows.Window(\n",
    "            location_in_img_pix[0]-half_edge, location_in_img_pix[1]-half_edge,\n",
    "            tile_size_pixels, tile_size_pixels)\n",
    "        image_tile = image.read(window=wdw)\n",
    "\n",
    "        print(image_tile.shape)\n",
    "        kwargs = image.meta.copy()\n",
    "        kwargs.update({\n",
    "            'height': wdw.height,\n",
    "            'width': wdw.width,\n",
    "            'transform': rasterio.windows.transform(wdw, image.transform)})\n",
    "        \n",
    "        # store the tiles in rgb or ir image, if requested\n",
    "        for profile, phot_prof in zip([\"rgb\", \"ir\"], [\"RGB\", \"Grayscale\"]):\n",
    "            if features[profile]:\n",
    "                try:\n",
    "                    with rasterio.open(file_name.replace(\"rgb\", profile), \"w\",\n",
    "                                       photometric=phot_prof, **kwargs) as file:\n",
    "                        if profile == \"rgb\":\n",
    "                            file.write(image_tile)\n",
    "                        else:  # TODO: how to save as greyscale image?\n",
    "                            file.write(image_tile[3], indexes=1)  # we only store the last layer.\n",
    "                            # BUG - TODO: SOMEHOW THE IMAGE is only half but strechted\n",
    "                except IOError:\n",
    "                    print(f\"It was not possible to store the {profile.upper()} image for tile at\"\n",
    "                          f\" location {location}.\\n\" if not silent else \"\", end=\"\")\n",
    "                else:\n",
    "                    print(f\"{profile.upper()} image for tile at location {location} was \"\n",
    "                          f\"successfully downloaded to {file_name}.\\n\" if not silent else \"\",\n",
    "                         end=\"\")\n",
    "    return"
   ]
  },
  {
   "cell_type": "markdown",
   "id": "a31f3fca-67d6-4444-b1a9-97471a0d50b1",
   "metadata": {},
   "source": [
    "<div class=\"alert alert-block alert-danger\">\n",
    "    <b>How can I see if my image was stored properly in 4 layers?</b> <br> When saving as tif and switching the axes, do I loose a layer?\n",
    "</div>"
   ]
  },
  {
   "cell_type": "code",
   "execution_count": 48,
   "id": "9c3bf006-048a-44b3-baaf-8a3089b575ab",
   "metadata": {},
   "outputs": [
    {
     "name": "stdout",
     "output_type": "stream",
     "text": [
      "[[ 52  57  60 ... 103  78  75]\n",
      " [ 41  44  45 ...  77  51  48]\n",
      " [ 41  40  34 ...  80  64  60]\n",
      " ...\n",
      " [ 48  58  79 ...  51  63  77]\n",
      " [ 59  59  66 ...  40  41  54]\n",
      " [ 66  68  59 ...  33  35  37]]\n",
      "[[ 60  63  62 ... 103  83  73]\n",
      " [ 53  54  55 ...  88  61  57]\n",
      " [ 52  49  51 ...  80  68  65]\n",
      " ...\n",
      " [ 65  71  83 ...  76  75  78]\n",
      " [ 81  83  80 ...  63  58  64]\n",
      " [ 96  93  81 ...  54  52  49]]\n",
      "[[68 69 71 ... 86 80 80]\n",
      " [65 65 69 ... 80 74 71]\n",
      " [67 65 66 ... 77 74 72]\n",
      " ...\n",
      " [67 71 73 ... 72 76 75]\n",
      " [74 72 72 ... 65 68 70]\n",
      " [75 73 70 ... 64 64 65]]\n",
      "[[ 61  65  76 ... 156 112  96]\n",
      " [ 54  52  54 ... 123  64  61]\n",
      " [ 56  54  55 ... 101  69  67]\n",
      " ...\n",
      " [132 128 143 ... 162 132 106]\n",
      " [173 171 161 ... 134  96  67]\n",
      " [187 187 174 ...  91  79  53]]\n",
      "(4, 500, 500)\n",
      "RGB image for tile at location POINT (-118.25698 44.54595) was successfully downloaded to ahka_rgb.tif.\n",
      "IR image for tile at location POINT (-118.25698 44.54595) was successfully downloaded to ahka_rgb.tif.\n"
     ]
    }
   ],
   "source": [
    "fetch_best_tile(location, tile_size_pixels, query_url,\n",
    "                    file_name, features)"
   ]
  },
  {
   "cell_type": "code",
   "execution_count": null,
   "id": "9d86e8dc-6538-4c8b-a4c9-35de04c310e6",
   "metadata": {},
   "outputs": [],
   "source": []
  }
 ],
 "metadata": {
  "kernelspec": {
   "display_name": "Python 3",
   "language": "python",
   "name": "python3"
  },
  "language_info": {
   "codemirror_mode": {
    "name": "ipython",
    "version": 3
   },
   "file_extension": ".py",
   "mimetype": "text/x-python",
   "name": "python",
   "nbconvert_exporter": "python",
   "pygments_lexer": "ipython3",
   "version": "3.9.5"
  }
 },
 "nbformat": 4,
 "nbformat_minor": 5
}

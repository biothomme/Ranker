{
 "cells": [
  {
   "cell_type": "code",
   "execution_count": 1,
   "id": "84561e06-ceda-454e-ba74-c4b50f97a70e",
   "metadata": {},
   "outputs": [
    {
     "name": "stdout",
     "output_type": "stream",
     "text": [
      "3.9.5 (default, May 18 2021, 12:31:01) \n",
      "[Clang 10.0.0 ]\n"
     ]
    }
   ],
   "source": [
    "# Check if python is 3.9.5\n",
    "import sys\n",
    "print(sys.version)\n",
    "%load_ext autoreload\n",
    "%autoreload 2"
   ]
  },
  {
   "cell_type": "markdown",
   "id": "42563af8-4ec6-49bf-b79b-adcb554270b5",
   "metadata": {},
   "source": [
    "## Code questions"
   ]
  },
  {
   "cell_type": "markdown",
   "id": "2ec3631a-cf39-4a76-8187-ac2125341b5d",
   "metadata": {},
   "source": [
    "<div class=\"alert alert-block alert-warning\">\n",
    "    <b>When do I use <span style=\"font-family: Monospace; background-color: #FFFFE0\">abc.ABC</span> as superclass and when <span style=\"font-family: Monospace; background-color: #FFFFE0\"> abc.ABCMeta</span> as metaclass? </b> <br>\n",
    "    <a href=\"https://docs.python.org/3/library/abc.html\">Here</a> is the <span style=\"font-family: Monospace; background-color: #FFFFE0\">abc</span> package.\n",
    "</div>"
   ]
  },
  {
   "cell_type": "markdown",
   "id": "e532c2e0-832f-4947-935c-951dd5dbd842",
   "metadata": {},
   "source": [
    "**Answer:** For us it is not really important."
   ]
  },
  {
   "cell_type": "markdown",
   "id": "cd0d87ce-1f32-4d41-89ba-d5131a2c196c",
   "metadata": {},
   "source": [
    "# Data mining"
   ]
  },
  {
   "cell_type": "code",
   "execution_count": 3,
   "id": "2f74021f-5470-4076-a625-4c5cc4e86b7b",
   "metadata": {},
   "outputs": [],
   "source": [
    "import multidb_wrapper\n",
    "import database_classes"
   ]
  },
  {
   "cell_type": "code",
   "execution_count": 4,
   "id": "71a77faa-d1b1-4b03-8258-ee766065bbfd",
   "metadata": {},
   "outputs": [],
   "source": [
    "from shapely.geometry import Point"
   ]
  },
  {
   "cell_type": "code",
   "execution_count": 28,
   "id": "2db02633-2be5-426b-8ed2-55483e344c2e",
   "metadata": {},
   "outputs": [],
   "source": [
    "naip = database_classes.NAIPData(directory=\"banasna\")\n",
    "\n",
    "lat = 47.645950\n",
    "lon = 118.136980\n",
    "\n",
    "pont = Point(float(lon),float(lat))"
   ]
  },
  {
   "cell_type": "code",
   "execution_count": 29,
   "id": "18c7f385-f521-47ec-907b-2d62ee044cec",
   "metadata": {},
   "outputs": [
    {
     "name": "stdout",
     "output_type": "stream",
     "text": [
      "logged in\n",
      "banasna/data_barrel/naip_western_europe_azure/tile_indices/tile_index.dat already exists. It will not be overwritten.\n",
      "banasna/data_barrel/naip_western_europe_azure/tile_indices/tile_index.idx already exists. It will not be overwritten.\n",
      "banasna/data_barrel/naip_western_europe_azure/tile_indices/tiles.p already exists. It will not be overwritten.\n"
     ]
    },
    {
     "ename": "AssertionError",
     "evalue": "Location has no intersections with NAIP tiles.",
     "output_type": "error",
     "traceback": [
      "\u001b[0;31m---------------------------------------------------------------------------\u001b[0m",
      "\u001b[0;31mAssertionError\u001b[0m                            Traceback (most recent call last)",
      "\u001b[0;32m<ipython-input-29-161035b50733>\u001b[0m in \u001b[0;36m<module>\u001b[0;34m\u001b[0m\n\u001b[0;32m----> 1\u001b[0;31m \u001b[0mnaip\u001b[0m\u001b[0;34m.\u001b[0m\u001b[0mrun\u001b[0m\u001b[0;34m(\u001b[0m\u001b[0mpont\u001b[0m\u001b[0;34m)\u001b[0m\u001b[0;34m\u001b[0m\u001b[0;34m\u001b[0m\u001b[0m\n\u001b[0m",
      "\u001b[0;32m~/Desktop/island_in_the_sun/jupyters/2021_06_ranker/Ranker/crows_nest/database_classes.py\u001b[0m in \u001b[0;36mrun\u001b[0;34m(self, location)\u001b[0m\n\u001b[1;32m     40\u001b[0m         \u001b[0mself\u001b[0m\u001b[0;34m.\u001b[0m\u001b[0mlocation\u001b[0m \u001b[0;34m=\u001b[0m \u001b[0mlocation\u001b[0m\u001b[0;34m\u001b[0m\u001b[0;34m\u001b[0m\u001b[0m\n\u001b[1;32m     41\u001b[0m \u001b[0;34m\u001b[0m\u001b[0m\n\u001b[0;32m---> 42\u001b[0;31m         \u001b[0mqueries\u001b[0m \u001b[0;34m=\u001b[0m \u001b[0mself\u001b[0m\u001b[0;34m.\u001b[0m\u001b[0mbuild_query\u001b[0m\u001b[0;34m(\u001b[0m\u001b[0;34m)\u001b[0m\u001b[0;34m\u001b[0m\u001b[0;34m\u001b[0m\u001b[0m\n\u001b[0m\u001b[1;32m     43\u001b[0m         \u001b[0mprint\u001b[0m\u001b[0;34m(\u001b[0m\u001b[0mqueries\u001b[0m\u001b[0;34m)\u001b[0m\u001b[0;34m\u001b[0m\u001b[0;34m\u001b[0m\u001b[0m\n\u001b[1;32m     44\u001b[0m         \u001b[0;31m#try:\u001b[0m\u001b[0;34m\u001b[0m\u001b[0;34m\u001b[0m\u001b[0;34m\u001b[0m\u001b[0m\n",
      "\u001b[0;32m~/Desktop/island_in_the_sun/jupyters/2021_06_ranker/Ranker/crows_nest/database_classes.py\u001b[0m in \u001b[0;36mbuild_query\u001b[0;34m(self, date)\u001b[0m\n\u001b[1;32m     94\u001b[0m         \u001b[0;31m# get tiles with overlap\u001b[0m\u001b[0;34m\u001b[0m\u001b[0;34m\u001b[0m\u001b[0;34m\u001b[0m\u001b[0m\n\u001b[1;32m     95\u001b[0m         \u001b[0mintersected_indices\u001b[0m \u001b[0;34m=\u001b[0m \u001b[0mlist\u001b[0m\u001b[0;34m(\u001b[0m\u001b[0mself\u001b[0m\u001b[0;34m.\u001b[0m\u001b[0mtile_rtree\u001b[0m\u001b[0;34m.\u001b[0m\u001b[0mintersection\u001b[0m\u001b[0;34m(\u001b[0m\u001b[0mself\u001b[0m\u001b[0;34m.\u001b[0m\u001b[0mlocation\u001b[0m\u001b[0;34m.\u001b[0m\u001b[0mbounds\u001b[0m\u001b[0;34m)\u001b[0m\u001b[0;34m)\u001b[0m\u001b[0;34m\u001b[0m\u001b[0;34m\u001b[0m\u001b[0m\n\u001b[0;32m---> 96\u001b[0;31m         assert len(intersected_indices) > 0, (\n\u001b[0m\u001b[1;32m     97\u001b[0m                 \"Location has no intersections with NAIP tiles.\")\n\u001b[1;32m     98\u001b[0m \u001b[0;34m\u001b[0m\u001b[0m\n",
      "\u001b[0;31mAssertionError\u001b[0m: Location has no intersections with NAIP tiles."
     ]
    }
   ],
   "source": [
    "naip.run(pont)"
   ]
  },
  {
   "cell_type": "code",
   "execution_count": 21,
   "id": "fc3d23a6-f02c-469d-bfd7-8bf3ebff5648",
   "metadata": {},
   "outputs": [
    {
     "data": {
      "text/plain": [
       "'/var/folders/h_/fp7vzm1s46x0fbjfhmjqmlsc0000gn/T/data_barrel'"
      ]
     },
     "execution_count": 21,
     "metadata": {},
     "output_type": "execute_result"
    }
   ],
   "source": [
    "naip.root"
   ]
  },
  {
   "cell_type": "markdown",
   "id": "8fe79711-ed0e-434b-a86d-12677c588db0",
   "metadata": {},
   "source": [
    "## NAIP"
   ]
  },
  {
   "cell_type": "markdown",
   "id": "89f64324-b6e6-4ba3-94d2-41bcf1c98ef9",
   "metadata": {},
   "source": [
    "<div class=\"alert alert-block alert-danger\">\n",
    "    <b>What exactly is this <a href=\"https://planetarycomputer.microsoft.com/dataset/naip#Blob-Storage-Notebook\">Azure blob storage</a>?</b> <br> It seems, as if it does not need authentication, but we would, if we used <a href=\"https://planetarycomputer.microsoft.com/dataset/naip#Example-Notebook\">Planetary Computer STAC API</a> by Microsoft or even Google's <a href=\"https://developers.google.com/earth-engine/datasets/catalog/USDA_NAIP_DOQQ#description\">Earth Engine Data Catalog</a>. Where is the caveat? \n",
    "</div>"
   ]
  },
  {
   "cell_type": "markdown",
   "id": "486be07b-01fd-4ca5-b40f-070461fa5ff0",
   "metadata": {
    "tags": []
   },
   "source": [
    "**Answer:** The explanation was too long to reconstruct for me. But the blob storage is really a path to circumvent the access abrrier in this case."
   ]
  },
  {
   "cell_type": "markdown",
   "id": "9ffa53aa-3fda-45cb-ba7f-b1c8e9763ef4",
   "metadata": {},
   "source": [
    "<div class=\"alert alert-block alert-danger\">\n",
    "    <b>Are the NAIP tiles actually overlapping?</b> <br> I am unsure, whether a location query could lead to multiple tiles within a given year.\n",
    "</div>"
   ]
  },
  {
   "cell_type": "code",
   "execution_count": 6,
   "id": "6088cbcf-261b-4886-8979-a9362856de7b",
   "metadata": {},
   "outputs": [
    {
     "data": {
      "text/plain": [
       "'aa/data_barrel'"
      ]
     },
     "execution_count": 6,
     "metadata": {},
     "output_type": "execute_result"
    }
   ],
   "source": [
    "multidb_wrapper.set_directory(\"aa\")"
   ]
  },
  {
   "cell_type": "markdown",
   "id": "63611a41-9219-474d-a485-1c4a3917de2f",
   "metadata": {},
   "source": [
    "Okay, how should I proceed?\n",
    "- Implement the date in the query! This reduces the images retrieved to maybe one.\n",
    "- Find the most centered image and start to stitch\n",
    "- start off with fixed raster size\n",
    "- use rasterio and fiona\n",
    "- "
   ]
  },
  {
   "cell_type": "code",
   "execution_count": 20,
   "id": "60c18ecf-d59a-4913-b959-e9df32ce0949",
   "metadata": {},
   "outputs": [
    {
     "ename": "AssertionError",
     "evalue": "The lists for latitudes ({len(longitudes)}) and lon (4) have unequal length. Please adjust.",
     "output_type": "error",
     "traceback": [
      "\u001b[0;31m---------------------------------------------------------------------------\u001b[0m",
      "\u001b[0;31mAssertionError\u001b[0m                            Traceback (most recent call last)",
      "\u001b[0;32m<ipython-input-20-061fef75e84d>\u001b[0m in \u001b[0;36m<module>\u001b[0;34m\u001b[0m\n\u001b[0;32m----> 1\u001b[0;31m \u001b[0mmultidb_wrapper\u001b[0m\u001b[0;34m.\u001b[0m\u001b[0mset_locations\u001b[0m\u001b[0;34m(\u001b[0m\u001b[0;34m[\u001b[0m\u001b[0;36m1\u001b[0m\u001b[0;34m,\u001b[0m\u001b[0;36m2\u001b[0m\u001b[0;34m,\u001b[0m\u001b[0;36m2\u001b[0m\u001b[0;34m,\u001b[0m\u001b[0;36m3\u001b[0m\u001b[0;34m]\u001b[0m\u001b[0;34m,\u001b[0m \u001b[0;34m[\u001b[0m\u001b[0;36m2\u001b[0m\u001b[0;34m,\u001b[0m\u001b[0;36m3\u001b[0m\u001b[0;34m,\u001b[0m\u001b[0;36m4\u001b[0m\u001b[0;34m]\u001b[0m\u001b[0;34m)\u001b[0m\u001b[0;34m\u001b[0m\u001b[0;34m\u001b[0m\u001b[0m\n\u001b[0m",
      "\u001b[0;32m~/Desktop/island_in_the_sun/jupyters/2021_06_ranker/Ranker/crows_nest/multidb_wrapper.py\u001b[0m in \u001b[0;36mset_locations\u001b[0;34m(longitudes, latitudes)\u001b[0m\n\u001b[1;32m     52\u001b[0m         f\"lon ({len(longitudes)}) have unequal length. Please adjust.\")\n\u001b[1;32m     53\u001b[0m \u001b[0;34m\u001b[0m\u001b[0m\n\u001b[0;32m---> 54\u001b[0;31m     \u001b[0;32massert\u001b[0m \u001b[0mlen\u001b[0m\u001b[0;34m(\u001b[0m\u001b[0mlongitudes\u001b[0m\u001b[0;34m)\u001b[0m \u001b[0;34m==\u001b[0m \u001b[0mlen\u001b[0m\u001b[0;34m(\u001b[0m\u001b[0mlatitudes\u001b[0m\u001b[0;34m)\u001b[0m\u001b[0;34m,\u001b[0m \u001b[0mLENGTH_ERR_MSG\u001b[0m\u001b[0;34m\u001b[0m\u001b[0;34m\u001b[0m\u001b[0m\n\u001b[0m\u001b[1;32m     55\u001b[0m     locations = [shapely.geometry.point.Point((lon, lat)) for lon, lat in zip(\n\u001b[1;32m     56\u001b[0m         longitudes, latitudes)]\n",
      "\u001b[0;31mAssertionError\u001b[0m: The lists for latitudes ({len(longitudes)}) and lon (4) have unequal length. Please adjust."
     ]
    }
   ],
   "source": [
    "multidb_wrapper.set_locations([1,2,2,3], [2,3,4])"
   ]
  },
  {
   "cell_type": "markdown",
   "id": "5057a9c7-e546-4732-aea1-b99c5e261a39",
   "metadata": {},
   "source": [
    "---"
   ]
  },
  {
   "cell_type": "code",
   "execution_count": null,
   "id": "77ca011c-cf67-4e26-9996-dafbbce8ce97",
   "metadata": {},
   "outputs": [],
   "source": []
  }
 ],
 "metadata": {
  "kernelspec": {
   "display_name": "Python 3",
   "language": "python",
   "name": "python3"
  },
  "language_info": {
   "codemirror_mode": {
    "name": "ipython",
    "version": 3
   },
   "file_extension": ".py",
   "mimetype": "text/x-python",
   "name": "python",
   "nbconvert_exporter": "python",
   "pygments_lexer": "ipython3",
   "version": "3.9.5"
  }
 },
 "nbformat": 4,
 "nbformat_minor": 5
}

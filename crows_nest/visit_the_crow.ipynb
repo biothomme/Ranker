{
 "cells": [
  {
   "cell_type": "code",
   "execution_count": 1,
   "id": "84561e06-ceda-454e-ba74-c4b50f97a70e",
   "metadata": {},
   "outputs": [
    {
     "name": "stdout",
     "output_type": "stream",
     "text": [
      "3.9.5 (default, May 18 2021, 12:31:01) \n",
      "[Clang 10.0.0 ]\n"
     ]
    }
   ],
   "source": [
    "# Check if python is 3.9.5\n",
    "import sys\n",
    "print(sys.version)\n",
    "%load_ext autoreload\n",
    "%autoreload 2"
   ]
  },
  {
   "cell_type": "markdown",
   "id": "42563af8-4ec6-49bf-b79b-adcb554270b5",
   "metadata": {},
   "source": [
    "## Code questions"
   ]
  },
  {
   "cell_type": "markdown",
   "id": "2ec3631a-cf39-4a76-8187-ac2125341b5d",
   "metadata": {},
   "source": [
    "<div class=\"alert alert-block alert-warning\">\n",
    "    <b>When do I use <span style=\"font-family: Monospace; background-color: #FFFFE0\">abc.ABC</span> as superclass and when <span style=\"font-family: Monospace; background-color: #FFFFE0\"> abc.ABCMeta</span> as metaclass? </b> <br>\n",
    "    <a href=\"https://docs.python.org/3/library/abc.html\">Here</a> is the <span style=\"font-family: Monospace; background-color: #FFFFE0\">abc</span> package.\n",
    "</div>"
   ]
  },
  {
   "cell_type": "markdown",
   "id": "cd0d87ce-1f32-4d41-89ba-d5131a2c196c",
   "metadata": {},
   "source": [
    "# Data mining"
   ]
  },
  {
   "cell_type": "code",
   "execution_count": 7,
   "id": "2f74021f-5470-4076-a625-4c5cc4e86b7b",
   "metadata": {},
   "outputs": [],
   "source": [
    "import multidb_wrapper\n",
    "import database_classes"
   ]
  },
  {
   "cell_type": "code",
   "execution_count": 3,
   "id": "2db02633-2be5-426b-8ed2-55483e344c2e",
   "metadata": {},
   "outputs": [],
   "source": [
    "naip = utils.NAIPData()"
   ]
  },
  {
   "cell_type": "code",
   "execution_count": 4,
   "id": "18c7f385-f521-47ec-907b-2d62ee044cec",
   "metadata": {},
   "outputs": [
    {
     "name": "stdout",
     "output_type": "stream",
     "text": [
      "NAIP\n"
     ]
    }
   ],
   "source": [
    "naip.get_data()\n",
    "database_classes"
   ]
  },
  {
   "cell_type": "code",
   "execution_count": 2,
   "id": "d8853034-ee1b-424a-ac2d-d6dbb422ff8b",
   "metadata": {},
   "outputs": [],
   "source": [
    "import tempfile\n",
    "import urllib\n",
    "import shutil\n",
    "import os\n",
    "\n",
    "import matplotlib.pyplot as plt\n",
    "import numpy as np\n",
    "import rasterio\n",
    "import re\n",
    "import rtree\n",
    "import shapely\n",
    "import pickle\n",
    "\n",
    "from geopy.geocoders import Nominatim\n",
    "from rasterio.windows import Window \n",
    "\n",
    "latest_wkid = 3857\n",
    "crs = 'EPSG:4326'\n",
    "\n",
    "# The (preferred) copy of NAIP in the West Europe Azure region\n",
    "blob_root = 'https://naipeuwest.blob.core.windows.net/naip'\n",
    "\n",
    "# NAIP is also available in the East US Azure region\n",
    "# blob_root = 'https://naipblobs.blob.core.windows.net/naip'\n",
    "\n",
    "# We maintain a spatial index of NAIP tiles using the [rtree](https://pypi.org/project/Rtree/) library\n",
    "index_files = ['tile_index.dat', 'tile_index.idx', 'tiles.p']\n",
    "index_blob_root = re.sub('/naip$','/naip-index/rtree/',blob_root)\n",
    "temp_dir = os.path.join(tempfile.gettempdir(),'naip')\n",
    "os.makedirs(temp_dir,exist_ok=True)\n",
    "\n",
    "# Spatial index that maps lat/lon to NAIP tiles; we'll load this when we first \n",
    "# need to access it.\n",
    "index = None\n",
    "\n",
    "# URL where we've stashed a geojson file with the boundaries of Maryland.  Why do we\n",
    "# need the boundaries of Maryland?  It's a surprise, you'll have to keep reading to find\n",
    "# out.\n",
    "maryland_boundary_url = 'https://ai4edatasetspublicassets.blob.core.windows.net/assets/maryland.json'\n",
    "\n",
    "# NAIP tiles are enormous; downsize for plotting in this notebook\n",
    "dsfactor = 10"
   ]
  },
  {
   "cell_type": "code",
   "execution_count": 3,
   "id": "15973991-5443-4db9-b507-be4729305b37",
   "metadata": {},
   "outputs": [],
   "source": [
    "def download_url(url,destination_filename=None):\n",
    "    \"\"\"\n",
    "    Download a URL to a temporary file\n",
    "    \"\"\"\n",
    "    \n",
    "    if destination_filename is None:\n",
    "        url_as_filename = url.replace('://', '_').replace('/', '_')    \n",
    "        destination_filename = os.path.join(temp_dir,url_as_filename)    \n",
    "    urllib.request.urlretrieve(url, destination_filename)  \n",
    "    return destination_filename\n",
    "\n",
    "\n",
    "def display_naip_tile(filename):\n",
    "    \"\"\"\n",
    "    Display a NAIP tile using rasterio.\n",
    "    \"\"\"\n",
    "    \n",
    "    with rasterio.open(filename) as raster:\n",
    "\n",
    "        # NAIP imagery has four channels: R, G, B, IR\n",
    "        #\n",
    "        # Stack RGB channels into an image; we won't try to render the IR channel\n",
    "        #\n",
    "        # rasterio uses 1-based indexing for channels.\n",
    "        h = int(raster.height/dsfactor)\n",
    "        w = int(raster.width/dsfactor)\n",
    "        r = raster.read(1, out_shape=(1, h, w))\n",
    "        g = raster.read(2, out_shape=(1, h, w))\n",
    "        b = raster.read(3, out_shape=(1, h, w))        \n",
    "    \n",
    "    rgb = np.dstack((r,g,b))\n",
    "    \n",
    "    fig = plt.figure(frameon=False); ax = plt.Axes(fig,[0., 0., 1., 1.]); \n",
    "    ax.set_axis_off(); fig.add_axes(ax)\n",
    "\n",
    "    plt.imshow(rgb);\n",
    "    raster.close()\n",
    "\n",
    "\n",
    "def get_coordinates_from_address(address):\n",
    "    \"\"\"\n",
    "    Look up the lat/lon coordinates for an address.\n",
    "    \"\"\"\n",
    "    \n",
    "    geolocator = Nominatim(user_agent=\"NAIP\")\n",
    "    location = geolocator.geocode(address)\n",
    "    print('Retrieving location for address:\\n{}'.format(location.address))\n",
    "    return location.latitude, location.longitude"
   ]
  },
  {
   "cell_type": "code",
   "execution_count": 4,
   "id": "d4d31f4e-35e2-483d-90b9-aed5578fd31a",
   "metadata": {},
   "outputs": [],
   "source": [
    "lat = 47.645950\n",
    "lon = -118.136980"
   ]
  },
  {
   "cell_type": "code",
   "execution_count": 16,
   "id": "5c666a9b-84d8-4982-802d-ce1937b5e023",
   "metadata": {},
   "outputs": [
    {
     "data": {
      "text/plain": [
       "('/var/folders/h_/fp7vzm1s46x0fbjfhmjqmlsc0000gn/T/tmptsrxegij',\n",
       " <http.client.HTTPMessage at 0x7ff541cb9130>)"
      ]
     },
     "execution_count": 16,
     "metadata": {},
     "output_type": "execute_result"
    }
   ],
   "source": [
    "fl = index_blob_root + file_path\n",
    "urllib.request.urlretrieve(fl)"
   ]
  },
  {
   "cell_type": "code",
   "execution_count": null,
   "id": "bbb687e0-de1d-4f15-9c0f-bf7a9b3725b0",
   "metadata": {},
   "outputs": [
    {
     "name": "stdout",
     "output_type": "stream",
     "text": [
      "https://naipeuwest.blob.core.windows.net/naip-index/rtree/tile_index.dat\n",
      "https://naipeuwest.blob.core.windows.net/naip-index/rtree/tile_index.idx\n",
      "https://naipeuwest.blob.core.windows.net/naip-index/rtree/tiles.p\n"
     ]
    }
   ],
   "source": [
    "tile_rtree = None\n",
    "tile_index = None\n",
    "base_path = None\n",
    "\n",
    "if base_path is None:\n",
    "    base_path = temp_dir\n",
    "    os.makedirs(base_path, exist_ok=True)\n",
    "    for file_path in index_files:\n",
    "        print(index_blob_root + file_path)\n",
    "        download_url(index_blob_root + file_path, base_path + '/' + file_path)\n",
    "\n",
    "base_path = base_path\n",
    "tile_rtree = rtree.index.Index(base_path + \"/tile_index\")\n",
    "tile_index = pickle.load(open(base_path  + \"/tiles.p\", \"rb\"))\n",
    "#######################\n"
   ]
  },
  {
   "cell_type": "code",
   "execution_count": 12,
   "id": "d775e3b7-1589-46df-af1b-949c7848fa99",
   "metadata": {},
   "outputs": [
    {
     "name": "stdout",
     "output_type": "stream",
     "text": [
      "['v002/wa/2017/wa_100cm_2017/47118/m_4711823_se_11_1_20170717.tif', 'v002/wa/2011/wa_100cm_2011/47118/m_4711823_se_11_1_20110702.tif', 'v002/wa/2013/wa_100cm_2013/47118/m_4711823_se_11_1_20130628.tif', 'v002/wa/2015/wa_100cm_2015/47118/m_4711823_se_11_1_20150702.tif', 'v002/wa/2019/wa_60cm_2019/47118/m_4711823_se_11_060_20190726.tif']\n"
     ]
    }
   ],
   "source": [
    "\n",
    "point = shapely.geometry.Point(float(lon),float(lat))\n",
    "intersected_indices = list(tile_rtree.intersection(point.bounds))\n",
    "\n",
    "intersected_files = []\n",
    "tile_intersection = False\n",
    "\n",
    "for idx in intersected_indices:\n",
    "\n",
    "    intersected_file = tile_index[idx][0]\n",
    "    intersected_geom = tile_index[idx][1]\n",
    "    if intersected_geom.contains(point):\n",
    "        tile_intersection = True\n",
    "        intersected_files.append(intersected_file)\n",
    "\n",
    "if not tile_intersection and len(intersected_indices) > 0:\n",
    "    print('''Error: there are overlaps with tile index, \n",
    "              but no tile completely contains selection''')   \n",
    "elif len(intersected_files) <= 0:\n",
    "    print(\"No tile intersections\")\n",
    "else:\n",
    "    print( intersected_files )"
   ]
  },
  {
   "cell_type": "markdown",
   "id": "8fe79711-ed0e-434b-a86d-12677c588db0",
   "metadata": {},
   "source": [
    "## NAIP"
   ]
  },
  {
   "cell_type": "markdown",
   "id": "89f64324-b6e6-4ba3-94d2-41bcf1c98ef9",
   "metadata": {},
   "source": [
    "<div class=\"alert alert-block alert-danger\">\n",
    "    <b>What exactly is this <a href=\"https://planetarycomputer.microsoft.com/dataset/naip#Blob-Storage-Notebook\">Azure blob storage</a>?</b> <br> It seems, as if it does not need authentication, but we would, if we used <a href=\"https://planetarycomputer.microsoft.com/dataset/naip#Example-Notebook\">Planetary Computer STAC API</a> by Microsoft or even Google's <a href=\"https://developers.google.com/earth-engine/datasets/catalog/USDA_NAIP_DOQQ#description\">Earth Engine Data Catalog</a>. Where is the caveat? \n",
    "</div>"
   ]
  },
  {
   "cell_type": "code",
   "execution_count": 6,
   "id": "6088cbcf-261b-4886-8979-a9362856de7b",
   "metadata": {},
   "outputs": [
    {
     "data": {
      "text/plain": [
       "'aa/data_barrel'"
      ]
     },
     "execution_count": 6,
     "metadata": {},
     "output_type": "execute_result"
    }
   ],
   "source": [
    "multidb_wrapper.set_directory(\"aa\")"
   ]
  },
  {
   "cell_type": "code",
   "execution_count": 20,
   "id": "60c18ecf-d59a-4913-b959-e9df32ce0949",
   "metadata": {},
   "outputs": [
    {
     "ename": "AssertionError",
     "evalue": "The lists for latitudes ({len(longitudes)}) and lon (4) have unequal length. Please adjust.",
     "output_type": "error",
     "traceback": [
      "\u001b[0;31m---------------------------------------------------------------------------\u001b[0m",
      "\u001b[0;31mAssertionError\u001b[0m                            Traceback (most recent call last)",
      "\u001b[0;32m<ipython-input-20-061fef75e84d>\u001b[0m in \u001b[0;36m<module>\u001b[0;34m\u001b[0m\n\u001b[0;32m----> 1\u001b[0;31m \u001b[0mmultidb_wrapper\u001b[0m\u001b[0;34m.\u001b[0m\u001b[0mset_locations\u001b[0m\u001b[0;34m(\u001b[0m\u001b[0;34m[\u001b[0m\u001b[0;36m1\u001b[0m\u001b[0;34m,\u001b[0m\u001b[0;36m2\u001b[0m\u001b[0;34m,\u001b[0m\u001b[0;36m2\u001b[0m\u001b[0;34m,\u001b[0m\u001b[0;36m3\u001b[0m\u001b[0;34m]\u001b[0m\u001b[0;34m,\u001b[0m \u001b[0;34m[\u001b[0m\u001b[0;36m2\u001b[0m\u001b[0;34m,\u001b[0m\u001b[0;36m3\u001b[0m\u001b[0;34m,\u001b[0m\u001b[0;36m4\u001b[0m\u001b[0;34m]\u001b[0m\u001b[0;34m)\u001b[0m\u001b[0;34m\u001b[0m\u001b[0;34m\u001b[0m\u001b[0m\n\u001b[0m",
      "\u001b[0;32m~/Desktop/island_in_the_sun/jupyters/2021_06_ranker/Ranker/crows_nest/multidb_wrapper.py\u001b[0m in \u001b[0;36mset_locations\u001b[0;34m(longitudes, latitudes)\u001b[0m\n\u001b[1;32m     52\u001b[0m         f\"lon ({len(longitudes)}) have unequal length. Please adjust.\")\n\u001b[1;32m     53\u001b[0m \u001b[0;34m\u001b[0m\u001b[0m\n\u001b[0;32m---> 54\u001b[0;31m     \u001b[0;32massert\u001b[0m \u001b[0mlen\u001b[0m\u001b[0;34m(\u001b[0m\u001b[0mlongitudes\u001b[0m\u001b[0;34m)\u001b[0m \u001b[0;34m==\u001b[0m \u001b[0mlen\u001b[0m\u001b[0;34m(\u001b[0m\u001b[0mlatitudes\u001b[0m\u001b[0;34m)\u001b[0m\u001b[0;34m,\u001b[0m \u001b[0mLENGTH_ERR_MSG\u001b[0m\u001b[0;34m\u001b[0m\u001b[0;34m\u001b[0m\u001b[0m\n\u001b[0m\u001b[1;32m     55\u001b[0m     locations = [shapely.geometry.point.Point((lon, lat)) for lon, lat in zip(\n\u001b[1;32m     56\u001b[0m         longitudes, latitudes)]\n",
      "\u001b[0;31mAssertionError\u001b[0m: The lists for latitudes ({len(longitudes)}) and lon (4) have unequal length. Please adjust."
     ]
    }
   ],
   "source": [
    "multidb_wrapper.set_locations([1,2,2,3], [2,3,4])"
   ]
  },
  {
   "cell_type": "code",
   "execution_count": 18,
   "id": "f03b3aa6-33e3-49ff-a6a1-d90f46c8e27f",
   "metadata": {},
   "outputs": [
    {
     "data": {
      "image/svg+xml": [
       "<svg xmlns=\"http://www.w3.org/2000/svg\" xmlns:xlink=\"http://www.w3.org/1999/xlink\" width=\"100.0\" height=\"100.0\" viewBox=\"0.0 1.0 2.0 2.0\" preserveAspectRatio=\"xMinYMin meet\"><g transform=\"matrix(1,0,0,-1,0,4.0)\"><circle cx=\"1.0\" cy=\"2.0\" r=\"0.06\" stroke=\"#555555\" stroke-width=\"0.02\" fill=\"#66cc99\" opacity=\"0.6\" /></g></svg>"
      ],
      "text/plain": [
       "<shapely.geometry.point.Point at 0x7fb691da3700>"
      ]
     },
     "execution_count": 18,
     "metadata": {},
     "output_type": "execute_result"
    }
   ],
   "source": [
    "import shapely\n",
    "shapely.geometry.point.Point(1,2)"
   ]
  },
  {
   "cell_type": "code",
   "execution_count": null,
   "id": "14d1b454-6cda-4994-b3fc-599e7cc8da78",
   "metadata": {},
   "outputs": [],
   "source": []
  }
 ],
 "metadata": {
  "kernelspec": {
   "display_name": "Python 3",
   "language": "python",
   "name": "python3"
  },
  "language_info": {
   "codemirror_mode": {
    "name": "ipython",
    "version": 3
   },
   "file_extension": ".py",
   "mimetype": "text/x-python",
   "name": "python",
   "nbconvert_exporter": "python",
   "pygments_lexer": "ipython3",
   "version": "3.9.5"
  }
 },
 "nbformat": 4,
 "nbformat_minor": 5
}
